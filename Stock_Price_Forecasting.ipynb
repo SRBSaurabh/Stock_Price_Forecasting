{
  "cells": [
    {
      "cell_type": "markdown",
      "metadata": {
        "id": "view-in-github",
        "colab_type": "text"
      },
      "source": [
        "<a href=\"https://colab.research.google.com/github/SRBSaurabh/Stock_Price_Forecasting/blob/main/Stock_Price_Forecasting.ipynb\" target=\"_parent\"><img src=\"https://colab.research.google.com/assets/colab-badge.svg\" alt=\"Open In Colab\"/></a>"
      ]
    },
    {
      "cell_type": "code",
      "execution_count": 1,
      "metadata": {
        "id": "UmbilY8-cf6s",
        "colab": {
          "base_uri": "https://localhost:8080/"
        },
        "outputId": "eb19ce1f-d9e1-453f-81f8-aeb64ca9ea1c"
      },
      "outputs": [
        {
          "output_type": "stream",
          "name": "stdout",
          "text": [
            "Collecting yfinance\n",
            "  Downloading yfinance-0.1.70-py2.py3-none-any.whl (26 kB)\n",
            "Requirement already satisfied: pandas>=0.24.0 in /usr/local/lib/python3.7/dist-packages (from yfinance) (1.3.5)\n",
            "Collecting requests>=2.26\n",
            "  Downloading requests-2.27.1-py2.py3-none-any.whl (63 kB)\n",
            "\u001b[K     |████████████████████████████████| 63 kB 1.7 MB/s \n",
            "\u001b[?25hCollecting lxml>=4.5.1\n",
            "  Downloading lxml-4.7.1-cp37-cp37m-manylinux_2_17_x86_64.manylinux2014_x86_64.manylinux_2_24_x86_64.whl (6.4 MB)\n",
            "\u001b[K     |████████████████████████████████| 6.4 MB 15.5 MB/s \n",
            "\u001b[?25hRequirement already satisfied: multitasking>=0.0.7 in /usr/local/lib/python3.7/dist-packages (from yfinance) (0.0.10)\n",
            "Requirement already satisfied: numpy>=1.15 in /usr/local/lib/python3.7/dist-packages (from yfinance) (1.19.5)\n",
            "Requirement already satisfied: pytz>=2017.3 in /usr/local/lib/python3.7/dist-packages (from pandas>=0.24.0->yfinance) (2018.9)\n",
            "Requirement already satisfied: python-dateutil>=2.7.3 in /usr/local/lib/python3.7/dist-packages (from pandas>=0.24.0->yfinance) (2.8.2)\n",
            "Requirement already satisfied: six>=1.5 in /usr/local/lib/python3.7/dist-packages (from python-dateutil>=2.7.3->pandas>=0.24.0->yfinance) (1.15.0)\n",
            "Requirement already satisfied: urllib3<1.27,>=1.21.1 in /usr/local/lib/python3.7/dist-packages (from requests>=2.26->yfinance) (1.24.3)\n",
            "Requirement already satisfied: certifi>=2017.4.17 in /usr/local/lib/python3.7/dist-packages (from requests>=2.26->yfinance) (2021.10.8)\n",
            "Requirement already satisfied: charset-normalizer~=2.0.0 in /usr/local/lib/python3.7/dist-packages (from requests>=2.26->yfinance) (2.0.11)\n",
            "Requirement already satisfied: idna<4,>=2.5 in /usr/local/lib/python3.7/dist-packages (from requests>=2.26->yfinance) (2.10)\n",
            "Installing collected packages: requests, lxml, yfinance\n",
            "  Attempting uninstall: requests\n",
            "    Found existing installation: requests 2.23.0\n",
            "    Uninstalling requests-2.23.0:\n",
            "      Successfully uninstalled requests-2.23.0\n",
            "  Attempting uninstall: lxml\n",
            "    Found existing installation: lxml 4.2.6\n",
            "    Uninstalling lxml-4.2.6:\n",
            "      Successfully uninstalled lxml-4.2.6\n",
            "\u001b[31mERROR: pip's dependency resolver does not currently take into account all the packages that are installed. This behaviour is the source of the following dependency conflicts.\n",
            "google-colab 1.0.0 requires requests~=2.23.0, but you have requests 2.27.1 which is incompatible.\n",
            "datascience 0.10.6 requires folium==0.2.1, but you have folium 0.8.3 which is incompatible.\u001b[0m\n",
            "Successfully installed lxml-4.7.1 requests-2.27.1 yfinance-0.1.70\n",
            "Collecting talib-binary\n",
            "  Downloading talib_binary-0.4.19-cp37-cp37m-manylinux1_x86_64.whl (2.4 MB)\n",
            "\u001b[K     |████████████████████████████████| 2.4 MB 7.9 MB/s \n",
            "\u001b[?25hRequirement already satisfied: numpy in /usr/local/lib/python3.7/dist-packages (from talib-binary) (1.19.5)\n",
            "Installing collected packages: talib-binary\n",
            "Successfully installed talib-binary-0.4.19\n"
          ]
        }
      ],
      "source": [
        "# Import the Libraries\n",
        "import pandas as pd\n",
        "import numpy as np\n",
        "import seaborn as sns\n",
        "import matplotlib.pyplot as plt\n",
        "import datetime as dt\n",
        "from math import sqrt\n",
        "from sklearn.metrics import mean_squared_error\n",
        "# Import real-time Stock Market API\n",
        "!pip install yfinance\n",
        "import yfinance as yf\n",
        "\n",
        "# ### Technical Analysis Library for Python:\n",
        "!pip install talib-binary\n",
        "import talib"
      ]
    },
    {
      "cell_type": "markdown",
      "metadata": {
        "id": "4pWqN9XnelEc"
      },
      "source": [
        "# Loading the Stock Price Data-Set of \"Hindustan Unilever Limited\" from year Jan-2000 till  current year Dec-2021.\n",
        "\n",
        "## Source1: **Official site of National Stock Exchange of India**\n",
        "*link:  https://www.nseindia.com/get-quotes/equity?symbol=HINDUNILVR*\n",
        "#### Source2: **Yahoo Finance Stock Data-API**"
      ]
    },
    {
      "cell_type": "code",
      "execution_count": 2,
      "metadata": {
        "colab": {
          "base_uri": "https://localhost:8080/",
          "height": 455
        },
        "id": "Yi8Cz4JNcx9g",
        "outputId": "5092dfd8-2141-43ee-ca5f-d6f6a4a3b5f0"
      },
      "outputs": [
        {
          "output_type": "execute_result",
          "data": {
            "text/html": [
              "\n",
              "  <div id=\"df-b02e4c9b-e31c-488c-b671-02d9e17c7001\">\n",
              "    <div class=\"colab-df-container\">\n",
              "      <div>\n",
              "<style scoped>\n",
              "    .dataframe tbody tr th:only-of-type {\n",
              "        vertical-align: middle;\n",
              "    }\n",
              "\n",
              "    .dataframe tbody tr th {\n",
              "        vertical-align: top;\n",
              "    }\n",
              "\n",
              "    .dataframe thead th {\n",
              "        text-align: right;\n",
              "    }\n",
              "</style>\n",
              "<table border=\"1\" class=\"dataframe\">\n",
              "  <thead>\n",
              "    <tr style=\"text-align: right;\">\n",
              "      <th></th>\n",
              "      <th>Close</th>\n",
              "      <th>Volume</th>\n",
              "      <th>SMA_20</th>\n",
              "      <th>SMA_50</th>\n",
              "      <th>52W_H</th>\n",
              "      <th>52W_L</th>\n",
              "      <th>RSI_14</th>\n",
              "    </tr>\n",
              "    <tr>\n",
              "      <th>Date</th>\n",
              "      <th></th>\n",
              "      <th></th>\n",
              "      <th></th>\n",
              "      <th></th>\n",
              "      <th></th>\n",
              "      <th></th>\n",
              "      <th></th>\n",
              "    </tr>\n",
              "  </thead>\n",
              "  <tbody>\n",
              "    <tr>\n",
              "      <th>1996-01-01</th>\n",
              "      <td>36.10</td>\n",
              "      <td>11000</td>\n",
              "      <td>NaN</td>\n",
              "      <td>NaN</td>\n",
              "      <td>NaN</td>\n",
              "      <td>NaN</td>\n",
              "      <td>NaN</td>\n",
              "    </tr>\n",
              "    <tr>\n",
              "      <th>1996-01-02</th>\n",
              "      <td>36.48</td>\n",
              "      <td>203500</td>\n",
              "      <td>NaN</td>\n",
              "      <td>NaN</td>\n",
              "      <td>NaN</td>\n",
              "      <td>NaN</td>\n",
              "      <td>NaN</td>\n",
              "    </tr>\n",
              "    <tr>\n",
              "      <th>1996-01-03</th>\n",
              "      <td>36.27</td>\n",
              "      <td>58000</td>\n",
              "      <td>NaN</td>\n",
              "      <td>NaN</td>\n",
              "      <td>NaN</td>\n",
              "      <td>NaN</td>\n",
              "      <td>NaN</td>\n",
              "    </tr>\n",
              "    <tr>\n",
              "      <th>1996-01-04</th>\n",
              "      <td>36.27</td>\n",
              "      <td>111500</td>\n",
              "      <td>NaN</td>\n",
              "      <td>NaN</td>\n",
              "      <td>NaN</td>\n",
              "      <td>NaN</td>\n",
              "      <td>NaN</td>\n",
              "    </tr>\n",
              "    <tr>\n",
              "      <th>1996-01-05</th>\n",
              "      <td>36.21</td>\n",
              "      <td>39500</td>\n",
              "      <td>NaN</td>\n",
              "      <td>NaN</td>\n",
              "      <td>NaN</td>\n",
              "      <td>NaN</td>\n",
              "      <td>NaN</td>\n",
              "    </tr>\n",
              "    <tr>\n",
              "      <th>...</th>\n",
              "      <td>...</td>\n",
              "      <td>...</td>\n",
              "      <td>...</td>\n",
              "      <td>...</td>\n",
              "      <td>...</td>\n",
              "      <td>...</td>\n",
              "      <td>...</td>\n",
              "    </tr>\n",
              "    <tr>\n",
              "      <th>2022-02-01</th>\n",
              "      <td>2305.65</td>\n",
              "      <td>1270508</td>\n",
              "      <td>2352.6325</td>\n",
              "      <td>2334.614</td>\n",
              "      <td>2795.27</td>\n",
              "      <td>2230.25</td>\n",
              "      <td>46.082007</td>\n",
              "    </tr>\n",
              "    <tr>\n",
              "      <th>2022-02-02</th>\n",
              "      <td>2327.90</td>\n",
              "      <td>1246111</td>\n",
              "      <td>2348.9650</td>\n",
              "      <td>2333.288</td>\n",
              "      <td>2795.27</td>\n",
              "      <td>2230.25</td>\n",
              "      <td>49.334532</td>\n",
              "    </tr>\n",
              "    <tr>\n",
              "      <th>2022-02-03</th>\n",
              "      <td>2298.15</td>\n",
              "      <td>1448039</td>\n",
              "      <td>2343.0825</td>\n",
              "      <td>2331.756</td>\n",
              "      <td>2795.27</td>\n",
              "      <td>2230.25</td>\n",
              "      <td>45.391728</td>\n",
              "    </tr>\n",
              "    <tr>\n",
              "      <th>2022-02-04</th>\n",
              "      <td>2306.60</td>\n",
              "      <td>1014561</td>\n",
              "      <td>2338.8425</td>\n",
              "      <td>2330.907</td>\n",
              "      <td>2795.27</td>\n",
              "      <td>2230.25</td>\n",
              "      <td>46.694828</td>\n",
              "    </tr>\n",
              "    <tr>\n",
              "      <th>2022-02-07</th>\n",
              "      <td>2257.60</td>\n",
              "      <td>1207247</td>\n",
              "      <td>2330.9150</td>\n",
              "      <td>2329.357</td>\n",
              "      <td>2795.27</td>\n",
              "      <td>2230.25</td>\n",
              "      <td>40.638842</td>\n",
              "    </tr>\n",
              "  </tbody>\n",
              "</table>\n",
              "<p>6570 rows × 7 columns</p>\n",
              "</div>\n",
              "      <button class=\"colab-df-convert\" onclick=\"convertToInteractive('df-b02e4c9b-e31c-488c-b671-02d9e17c7001')\"\n",
              "              title=\"Convert this dataframe to an interactive table.\"\n",
              "              style=\"display:none;\">\n",
              "        \n",
              "  <svg xmlns=\"http://www.w3.org/2000/svg\" height=\"24px\"viewBox=\"0 0 24 24\"\n",
              "       width=\"24px\">\n",
              "    <path d=\"M0 0h24v24H0V0z\" fill=\"none\"/>\n",
              "    <path d=\"M18.56 5.44l.94 2.06.94-2.06 2.06-.94-2.06-.94-.94-2.06-.94 2.06-2.06.94zm-11 1L8.5 8.5l.94-2.06 2.06-.94-2.06-.94L8.5 2.5l-.94 2.06-2.06.94zm10 10l.94 2.06.94-2.06 2.06-.94-2.06-.94-.94-2.06-.94 2.06-2.06.94z\"/><path d=\"M17.41 7.96l-1.37-1.37c-.4-.4-.92-.59-1.43-.59-.52 0-1.04.2-1.43.59L10.3 9.45l-7.72 7.72c-.78.78-.78 2.05 0 2.83L4 21.41c.39.39.9.59 1.41.59.51 0 1.02-.2 1.41-.59l7.78-7.78 2.81-2.81c.8-.78.8-2.07 0-2.86zM5.41 20L4 18.59l7.72-7.72 1.47 1.35L5.41 20z\"/>\n",
              "  </svg>\n",
              "      </button>\n",
              "      \n",
              "  <style>\n",
              "    .colab-df-container {\n",
              "      display:flex;\n",
              "      flex-wrap:wrap;\n",
              "      gap: 12px;\n",
              "    }\n",
              "\n",
              "    .colab-df-convert {\n",
              "      background-color: #E8F0FE;\n",
              "      border: none;\n",
              "      border-radius: 50%;\n",
              "      cursor: pointer;\n",
              "      display: none;\n",
              "      fill: #1967D2;\n",
              "      height: 32px;\n",
              "      padding: 0 0 0 0;\n",
              "      width: 32px;\n",
              "    }\n",
              "\n",
              "    .colab-df-convert:hover {\n",
              "      background-color: #E2EBFA;\n",
              "      box-shadow: 0px 1px 2px rgba(60, 64, 67, 0.3), 0px 1px 3px 1px rgba(60, 64, 67, 0.15);\n",
              "      fill: #174EA6;\n",
              "    }\n",
              "\n",
              "    [theme=dark] .colab-df-convert {\n",
              "      background-color: #3B4455;\n",
              "      fill: #D2E3FC;\n",
              "    }\n",
              "\n",
              "    [theme=dark] .colab-df-convert:hover {\n",
              "      background-color: #434B5C;\n",
              "      box-shadow: 0px 1px 3px 1px rgba(0, 0, 0, 0.15);\n",
              "      filter: drop-shadow(0px 1px 2px rgba(0, 0, 0, 0.3));\n",
              "      fill: #FFFFFF;\n",
              "    }\n",
              "  </style>\n",
              "\n",
              "      <script>\n",
              "        const buttonEl =\n",
              "          document.querySelector('#df-b02e4c9b-e31c-488c-b671-02d9e17c7001 button.colab-df-convert');\n",
              "        buttonEl.style.display =\n",
              "          google.colab.kernel.accessAllowed ? 'block' : 'none';\n",
              "\n",
              "        async function convertToInteractive(key) {\n",
              "          const element = document.querySelector('#df-b02e4c9b-e31c-488c-b671-02d9e17c7001');\n",
              "          const dataTable =\n",
              "            await google.colab.kernel.invokeFunction('convertToInteractive',\n",
              "                                                     [key], {});\n",
              "          if (!dataTable) return;\n",
              "\n",
              "          const docLinkHtml = 'Like what you see? Visit the ' +\n",
              "            '<a target=\"_blank\" href=https://colab.research.google.com/notebooks/data_table.ipynb>data table notebook</a>'\n",
              "            + ' to learn more about interactive tables.';\n",
              "          element.innerHTML = '';\n",
              "          dataTable['output_type'] = 'display_data';\n",
              "          await google.colab.output.renderOutput(dataTable, element);\n",
              "          const docLink = document.createElement('div');\n",
              "          docLink.innerHTML = docLinkHtml;\n",
              "          element.appendChild(docLink);\n",
              "        }\n",
              "      </script>\n",
              "    </div>\n",
              "  </div>\n",
              "  "
            ],
            "text/plain": [
              "              Close   Volume     SMA_20    SMA_50    52W_H    52W_L     RSI_14\n",
              "Date                                                                          \n",
              "1996-01-01    36.10    11000        NaN       NaN      NaN      NaN        NaN\n",
              "1996-01-02    36.48   203500        NaN       NaN      NaN      NaN        NaN\n",
              "1996-01-03    36.27    58000        NaN       NaN      NaN      NaN        NaN\n",
              "1996-01-04    36.27   111500        NaN       NaN      NaN      NaN        NaN\n",
              "1996-01-05    36.21    39500        NaN       NaN      NaN      NaN        NaN\n",
              "...             ...      ...        ...       ...      ...      ...        ...\n",
              "2022-02-01  2305.65  1270508  2352.6325  2334.614  2795.27  2230.25  46.082007\n",
              "2022-02-02  2327.90  1246111  2348.9650  2333.288  2795.27  2230.25  49.334532\n",
              "2022-02-03  2298.15  1448039  2343.0825  2331.756  2795.27  2230.25  45.391728\n",
              "2022-02-04  2306.60  1014561  2338.8425  2330.907  2795.27  2230.25  46.694828\n",
              "2022-02-07  2257.60  1207247  2330.9150  2329.357  2795.27  2230.25  40.638842\n",
              "\n",
              "[6570 rows x 7 columns]"
            ]
          },
          "metadata": {},
          "execution_count": 2
        }
      ],
      "source": [
        "# data_ = pd.read_csv(\"Quote-Equity-HINDUNILVR-EQ-01-01-2000-to-31-12-2021.csv\")\n",
        "\n",
        "##============ Company's Name Ticker ============##\n",
        "symbol = 'HINDUNILVR.NS'\n",
        "\n",
        "ticker = yf.Ticker(symbol)\n",
        "data = ticker.history(period='max', interval='1d', rounding=True, prepost=True, actions=False)\n",
        "df = pd.DataFrame(data)[['Close','Volume']]\n",
        "last_5days=list(df.tail(10).index)\n",
        "last_5days=[str(i)[:10] for i in last_5days]\n",
        "\n",
        "## Features Needed\n",
        "df['SMA_20'] = talib.SMA(df['Close'], timeperiod=20)\n",
        "df['SMA_50'] = talib.SMA(df['Close'], timeperiod=50)\n",
        "df[\"52W_H\"] = df['Close'].rolling(window =200).max()\n",
        "df[\"52W_L\"] = df['Close'].rolling(window =200).min()\n",
        "df['RSI_14'] = talib.RSI(df['Close'], timeperiod=14)\n",
        "df = pd.DataFrame(df)\n",
        "df"
      ]
    },
    {
      "cell_type": "markdown",
      "source": [
        "## **Problem Statement**:- <br>\n",
        "### *Predicting the Share Price of a Company(eg. HUL) for the Next 2 Successive years Jan-2020 till Dec-2021, by just Providing the Historical Data of the Past years from Jan-2000 till Dec-2019.*"
      ],
      "metadata": {
        "id": "gpGOEN1dBfg1"
      }
    },
    {
      "cell_type": "code",
      "execution_count": 3,
      "metadata": {
        "colab": {
          "base_uri": "https://localhost:8080/",
          "height": 481
        },
        "id": "DIZFOlCpdEis",
        "outputId": "f52afa6c-7590-4b32-b562-20064edf2abb"
      },
      "outputs": [
        {
          "output_type": "display_data",
          "data": {
            "image/png": "[encoded data removed]",
            "text/plain": [
              "<Figure size 864x576 with 1 Axes>"
            ]
          },
          "metadata": {
            "needs_background": "light"
          }
        }
      ],
      "source": [
        "# Visualizing the Given Closing Price Data\n",
        "df['Close'].plot(figsize=(12,8), title='Given Closing Price Data from 2000-2021')\n",
        "plt.grid()\n",
        "plt.show()"
      ]
    },
    {
      "cell_type": "code",
      "execution_count": 4,
      "metadata": {
        "colab": {
          "base_uri": "https://localhost:8080/",
          "height": 238
        },
        "id": "io4xtBVWgWXx",
        "outputId": "b1dd5309-7a28-4019-ee60-552ee3830960"
      },
      "outputs": [
        {
          "output_type": "execute_result",
          "data": {
            "text/html": [
              "\n",
              "  <div id=\"df-d880294c-2e39-432c-93a4-79cf447c8c81\">\n",
              "    <div class=\"colab-df-container\">\n",
              "      <div>\n",
              "<style scoped>\n",
              "    .dataframe tbody tr th:only-of-type {\n",
              "        vertical-align: middle;\n",
              "    }\n",
              "\n",
              "    .dataframe tbody tr th {\n",
              "        vertical-align: top;\n",
              "    }\n",
              "\n",
              "    .dataframe thead th {\n",
              "        text-align: right;\n",
              "    }\n",
              "</style>\n",
              "<table border=\"1\" class=\"dataframe\">\n",
              "  <thead>\n",
              "    <tr style=\"text-align: right;\">\n",
              "      <th></th>\n",
              "      <th>Close</th>\n",
              "      <th>Volume</th>\n",
              "      <th>SMA_20</th>\n",
              "      <th>SMA_50</th>\n",
              "      <th>52W_H</th>\n",
              "      <th>52W_L</th>\n",
              "      <th>RSI_14</th>\n",
              "      <th>Price_Before_9Days</th>\n",
              "      <th>Price_Before_20Days</th>\n",
              "      <th>Price_Before_50Days</th>\n",
              "      <th>Price_Before_200Days</th>\n",
              "    </tr>\n",
              "    <tr>\n",
              "      <th>Date</th>\n",
              "      <th></th>\n",
              "      <th></th>\n",
              "      <th></th>\n",
              "      <th></th>\n",
              "      <th></th>\n",
              "      <th></th>\n",
              "      <th></th>\n",
              "      <th></th>\n",
              "      <th></th>\n",
              "      <th></th>\n",
              "      <th></th>\n",
              "    </tr>\n",
              "  </thead>\n",
              "  <tbody>\n",
              "    <tr>\n",
              "      <th>2022-02-01</th>\n",
              "      <td>2305.65</td>\n",
              "      <td>1270508</td>\n",
              "      <td>2352.6325</td>\n",
              "      <td>2334.614</td>\n",
              "      <td>2795.27</td>\n",
              "      <td>2230.25</td>\n",
              "      <td>46.082007</td>\n",
              "      <td>2369.5</td>\n",
              "      <td>2361.30</td>\n",
              "      <td>2388.55</td>\n",
              "      <td>2421.89</td>\n",
              "    </tr>\n",
              "    <tr>\n",
              "      <th>2022-02-02</th>\n",
              "      <td>2327.90</td>\n",
              "      <td>1246111</td>\n",
              "      <td>2348.9650</td>\n",
              "      <td>2333.288</td>\n",
              "      <td>2795.27</td>\n",
              "      <td>2230.25</td>\n",
              "      <td>49.334532</td>\n",
              "      <td>2309.9</td>\n",
              "      <td>2401.25</td>\n",
              "      <td>2394.20</td>\n",
              "      <td>2428.05</td>\n",
              "    </tr>\n",
              "    <tr>\n",
              "      <th>2022-02-03</th>\n",
              "      <td>2298.15</td>\n",
              "      <td>1448039</td>\n",
              "      <td>2343.0825</td>\n",
              "      <td>2331.756</td>\n",
              "      <td>2795.27</td>\n",
              "      <td>2230.25</td>\n",
              "      <td>45.391728</td>\n",
              "      <td>2261.8</td>\n",
              "      <td>2415.80</td>\n",
              "      <td>2374.75</td>\n",
              "      <td>2426.33</td>\n",
              "    </tr>\n",
              "    <tr>\n",
              "      <th>2022-02-04</th>\n",
              "      <td>2306.60</td>\n",
              "      <td>1014561</td>\n",
              "      <td>2338.8425</td>\n",
              "      <td>2330.907</td>\n",
              "      <td>2795.27</td>\n",
              "      <td>2230.25</td>\n",
              "      <td>46.694828</td>\n",
              "      <td>2325.4</td>\n",
              "      <td>2391.40</td>\n",
              "      <td>2349.05</td>\n",
              "      <td>2404.37</td>\n",
              "    </tr>\n",
              "    <tr>\n",
              "      <th>2022-02-07</th>\n",
              "      <td>2257.60</td>\n",
              "      <td>1207247</td>\n",
              "      <td>2330.9150</td>\n",
              "      <td>2329.357</td>\n",
              "      <td>2795.27</td>\n",
              "      <td>2230.25</td>\n",
              "      <td>40.638842</td>\n",
              "      <td>2284.6</td>\n",
              "      <td>2416.15</td>\n",
              "      <td>2335.10</td>\n",
              "      <td>2365.69</td>\n",
              "    </tr>\n",
              "  </tbody>\n",
              "</table>\n",
              "</div>\n",
              "      <button class=\"colab-df-convert\" onclick=\"convertToInteractive('df-d880294c-2e39-432c-93a4-79cf447c8c81')\"\n",
              "              title=\"Convert this dataframe to an interactive table.\"\n",
              "              style=\"display:none;\">\n",
              "        \n",
              "  <svg xmlns=\"http://www.w3.org/2000/svg\" height=\"24px\"viewBox=\"0 0 24 24\"\n",
              "       width=\"24px\">\n",
              "    <path d=\"M0 0h24v24H0V0z\" fill=\"none\"/>\n",
              "    <path d=\"M18.56 5.44l.94 2.06.94-2.06 2.06-.94-2.06-.94-.94-2.06-.94 2.06-2.06.94zm-11 1L8.5 8.5l.94-2.06 2.06-.94-2.06-.94L8.5 2.5l-.94 2.06-2.06.94zm10 10l.94 2.06.94-2.06 2.06-.94-2.06-.94-.94-2.06-.94 2.06-2.06.94z\"/><path d=\"M17.41 7.96l-1.37-1.37c-.4-.4-.92-.59-1.43-.59-.52 0-1.04.2-1.43.59L10.3 9.45l-7.72 7.72c-.78.78-.78 2.05 0 2.83L4 21.41c.39.39.9.59 1.41.59.51 0 1.02-.2 1.41-.59l7.78-7.78 2.81-2.81c.8-.78.8-2.07 0-2.86zM5.41 20L4 18.59l7.72-7.72 1.47 1.35L5.41 20z\"/>\n",
              "  </svg>\n",
              "      </button>\n",
              "      \n",
              "  <style>\n",
              "    .colab-df-container {\n",
              "      display:flex;\n",
              "      flex-wrap:wrap;\n",
              "      gap: 12px;\n",
              "    }\n",
              "\n",
              "    .colab-df-convert {\n",
              "      background-color: #E8F0FE;\n",
              "      border: none;\n",
              "      border-radius: 50%;\n",
              "      cursor: pointer;\n",
              "      display: none;\n",
              "      fill: #1967D2;\n",
              "      height: 32px;\n",
              "      padding: 0 0 0 0;\n",
              "      width: 32px;\n",
              "    }\n",
              "\n",
              "    .colab-df-convert:hover {\n",
              "      background-color: #E2EBFA;\n",
              "      box-shadow: 0px 1px 2px rgba(60, 64, 67, 0.3), 0px 1px 3px 1px rgba(60, 64, 67, 0.15);\n",
              "      fill: #174EA6;\n",
              "    }\n",
              "\n",
              "    [theme=dark] .colab-df-convert {\n",
              "      background-color: #3B4455;\n",
              "      fill: #D2E3FC;\n",
              "    }\n",
              "\n",
              "    [theme=dark] .colab-df-convert:hover {\n",
              "      background-color: #434B5C;\n",
              "      box-shadow: 0px 1px 3px 1px rgba(0, 0, 0, 0.15);\n",
              "      filter: drop-shadow(0px 1px 2px rgba(0, 0, 0, 0.3));\n",
              "      fill: #FFFFFF;\n",
              "    }\n",
              "  </style>\n",
              "\n",
              "      <script>\n",
              "        const buttonEl =\n",
              "          document.querySelector('#df-d880294c-2e39-432c-93a4-79cf447c8c81 button.colab-df-convert');\n",
              "        buttonEl.style.display =\n",
              "          google.colab.kernel.accessAllowed ? 'block' : 'none';\n",
              "\n",
              "        async function convertToInteractive(key) {\n",
              "          const element = document.querySelector('#df-d880294c-2e39-432c-93a4-79cf447c8c81');\n",
              "          const dataTable =\n",
              "            await google.colab.kernel.invokeFunction('convertToInteractive',\n",
              "                                                     [key], {});\n",
              "          if (!dataTable) return;\n",
              "\n",
              "          const docLinkHtml = 'Like what you see? Visit the ' +\n",
              "            '<a target=\"_blank\" href=https://colab.research.google.com/notebooks/data_table.ipynb>data table notebook</a>'\n",
              "            + ' to learn more about interactive tables.';\n",
              "          element.innerHTML = '';\n",
              "          dataTable['output_type'] = 'display_data';\n",
              "          await google.colab.output.renderOutput(dataTable, element);\n",
              "          const docLink = document.createElement('div');\n",
              "          docLink.innerHTML = docLinkHtml;\n",
              "          element.appendChild(docLink);\n",
              "        }\n",
              "      </script>\n",
              "    </div>\n",
              "  </div>\n",
              "  "
            ],
            "text/plain": [
              "              Close   Volume  ...  Price_Before_50Days  Price_Before_200Days\n",
              "Date                          ...                                           \n",
              "2022-02-01  2305.65  1270508  ...              2388.55               2421.89\n",
              "2022-02-02  2327.90  1246111  ...              2394.20               2428.05\n",
              "2022-02-03  2298.15  1448039  ...              2374.75               2426.33\n",
              "2022-02-04  2306.60  1014561  ...              2349.05               2404.37\n",
              "2022-02-07  2257.60  1207247  ...              2335.10               2365.69\n",
              "\n",
              "[5 rows x 11 columns]"
            ]
          },
          "metadata": {},
          "execution_count": 4
        }
      ],
      "source": [
        "##============  Data Preparation for training  ============##\n",
        "df0=df.copy()\n",
        "df0['Price_Before_9Days']= df0['Close'].shift(+9)\n",
        "df0['Price_Before_20Days']= df0['Close'].shift(+20)\n",
        "df0['Price_Before_50Days']= df0['Close'].shift(+50)\n",
        "df0['Price_Before_200Days']= df0['Close'].shift(+200)\n",
        "\n",
        "df0 = df0.dropna()\n",
        "df0.tail()"
      ]
    },
    {
      "cell_type": "code",
      "source": [
        "# Train Test Test Split\n",
        "train_start = dt.date(2000,1,1)\n",
        "train_end = dt.date(2019,12,31)\n",
        "train_data = df0.loc[train_start:train_end]\n",
        "\n",
        "test_start = dt.date(2020,1,1)\n",
        "test_end = dt.date(2021,12,31)\n",
        "test_data = df0.loc[test_start:test_end]\n",
        "X_train,y_train=train_data.iloc[:, 1:],train_data['Close']\n",
        "X_test,y_test=test_data.iloc[:, 1:],test_data['Close']\n",
        "\n",
        "print(train_data.shape, test_data.shape)"
      ],
      "metadata": {
        "colab": {
          "base_uri": "https://localhost:8080/"
        },
        "id": "oD0EwWwFz62w",
        "outputId": "5abc1d05-c685-4785-fe29-67a55a139ae2"
      },
      "execution_count": 5,
      "outputs": [
        {
          "output_type": "stream",
          "name": "stdout",
          "text": [
            "(5001, 11) (499, 11)\n"
          ]
        }
      ]
    },
    {
      "cell_type": "markdown",
      "source": [
        "## Data Pre-processing for Regression Models"
      ],
      "metadata": {
        "id": "P4tXT0Ax82Wk"
      }
    },
    {
      "cell_type": "code",
      "source": [
        "##============  Feature Scalling  ============##\n",
        "from sklearn.preprocessing import MinMaxScaler\n",
        "scaler=MinMaxScaler(feature_range=(0,1))\n",
        "# To Avoid the Data Leakage & Overfitting\n",
        "X_train = scaler.fit_transform(X_train)\n",
        "X_test = scaler.transform(X_test)\n",
        "y_train = scaler.fit_transform(y_train.values.reshape(-1, 1))\n",
        "y_test = scaler.transform(y_test.values.reshape(-1, 1))\n",
        "\n",
        "print('Preprocessing Done...!')"
      ],
      "metadata": {
        "colab": {
          "base_uri": "https://localhost:8080/"
        },
        "id": "0R3HkEL2m5oT",
        "outputId": "271b5bf7-ab4d-42ca-9bdf-c6b188abe628"
      },
      "execution_count": 6,
      "outputs": [
        {
          "output_type": "stream",
          "name": "stdout",
          "text": [
            "Preprocessing Done...!\n"
          ]
        }
      ]
    },
    {
      "cell_type": "markdown",
      "metadata": {
        "id": "0aULRHeGqfKq"
      },
      "source": [
        "# Building & Training the Following ML models:\n",
        "##  1) Linear Regression model <br>\n",
        "##  2) Random Forest Regressor from Ensemble models <br>\n",
        "##  3) Support Vector Regressor"
      ]
    },
    {
      "cell_type": "code",
      "execution_count": 7,
      "metadata": {
        "id": "08MHm6u2hS4H",
        "colab": {
          "base_uri": "https://localhost:8080/"
        },
        "outputId": "f9b8d9fa-7fdb-4c15-c781-fc5f2322cf0c"
      },
      "outputs": [
        {
          "output_type": "stream",
          "name": "stderr",
          "text": [
            "/usr/local/lib/python3.7/dist-packages/ipykernel_launcher.py:13: DataConversionWarning: A column-vector y was passed when a 1d array was expected. Please change the shape of y to (n_samples,), for example using ravel().\n",
            "  del sys.path[0]\n"
          ]
        },
        {
          "output_type": "stream",
          "name": "stdout",
          "text": [
            "Model Training Completed...!\n"
          ]
        },
        {
          "output_type": "stream",
          "name": "stderr",
          "text": [
            "/usr/local/lib/python3.7/dist-packages/sklearn/utils/validation.py:993: DataConversionWarning: A column-vector y was passed when a 1d array was expected. Please change the shape of y to (n_samples, ), for example using ravel().\n",
            "  y = column_or_1d(y, warn=True)\n"
          ]
        }
      ],
      "source": [
        "##============  Importing & Defining ML Models ============##\n",
        "from sklearn.linear_model import LinearRegression\n",
        "linear_model = LinearRegression()\n",
        "\n",
        "from sklearn.ensemble import RandomForestRegressor\n",
        "forest_model = RandomForestRegressor(n_estimators=100, random_state=42, max_samples=800)\n",
        "\n",
        "from sklearn.svm import SVR\n",
        "svr_model = SVR(kernel='rbf', degree=3, C=1000)\n",
        "\n",
        "##============  Training ML models  ============##\n",
        "linear_model.fit(X_train, y_train)\n",
        "forest_model.fit(X_train, y_train)\n",
        "svr_model.fit(X_train, y_train)\n",
        "\n",
        "print('Model Training Completed...!')"
      ]
    },
    {
      "cell_type": "markdown",
      "metadata": {
        "id": "Hef76iKH5dbt"
      },
      "source": [
        "# 4)  Building & Training a RNN model, called \"Long Short Term Memory model\":\n",
        "## LSTM Neural Network..."
      ]
    },
    {
      "cell_type": "code",
      "execution_count": 8,
      "metadata": {
        "id": "knbqG14S5dFe",
        "colab": {
          "base_uri": "https://localhost:8080/"
        },
        "outputId": "9aa6c6e7-98ff-4e09-fe58-f60453408870"
      },
      "outputs": [
        {
          "output_type": "execute_result",
          "data": {
            "text/plain": [
              "Date\n",
              "1996-01-01      36.10\n",
              "1996-01-02      36.48\n",
              "1996-01-03      36.27\n",
              "1996-01-04      36.27\n",
              "1996-01-05      36.21\n",
              "               ...   \n",
              "2022-02-01    2305.65\n",
              "2022-02-02    2327.90\n",
              "2022-02-03    2298.15\n",
              "2022-02-04    2306.60\n",
              "2022-02-07    2257.60\n",
              "Name: Close, Length: 6570, dtype: float64"
            ]
          },
          "metadata": {},
          "execution_count": 8
        }
      ],
      "source": [
        "df1=df.copy()   #Making Another Copy of given dataset\n",
        "df1=df1['Close']\n",
        "index=df1.index\n",
        "df1"
      ]
    },
    {
      "cell_type": "markdown",
      "source": [
        "### Data Preparation & Data Pre-processing for LSTM Neural Network"
      ],
      "metadata": {
        "id": "5uEBQTyd7gNP"
      }
    },
    {
      "cell_type": "code",
      "source": [
        "## Feature Scalling\n",
        "from sklearn.preprocessing import MinMaxScaler\n",
        "scaler_=MinMaxScaler(feature_range=(0,1))\n",
        "df1=scaler_.fit_transform(np.array(df1).reshape(-1,1))\n",
        "df1=pd.DataFrame(df1, index=index)\n",
        "## Splitting dataset into train and test split\n",
        "train_data = df1.loc[train_start:train_end]\n",
        "test_data = df1.loc[test_start:test_end]\n",
        "print(train_data.shape, test_data.shape)"
      ],
      "metadata": {
        "colab": {
          "base_uri": "https://localhost:8080/"
        },
        "id": "IHpQGAwq4Idl",
        "outputId": "26dc5367-fd3b-4748-cd32-7f48cbc79de6"
      },
      "execution_count": 9,
      "outputs": [
        {
          "output_type": "stream",
          "name": "stdout",
          "text": [
            "(5001, 1) (499, 1)\n"
          ]
        }
      ]
    },
    {
      "cell_type": "code",
      "execution_count": 10,
      "metadata": {
        "id": "-7NTmAu76jfp",
        "colab": {
          "base_uri": "https://localhost:8080/"
        },
        "outputId": "c4311411-91a3-4dee-9277-6d7bdcace243"
      },
      "outputs": [
        {
          "output_type": "stream",
          "name": "stdout",
          "text": [
            "(4950, 50, 1)\n",
            "Preprocessing Done...!\n"
          ]
        }
      ],
      "source": [
        "def timeSeries_trainTest_split(dataset, rolling_time_window=10):\n",
        "  dataX, dataY = [], []\n",
        "  for i in range(len(dataset)-rolling_time_window-1):\n",
        "    # Pointing on a slice, like a Sliding window problem\n",
        "    sliced = dataset[i:(i+rolling_time_window), 0]\n",
        "    dataX.append(sliced)\n",
        "    dataY.append(dataset[(i+rolling_time_window), 0])\n",
        "  return np.array(dataX), np.array(dataY)\n",
        "\n",
        "# Additional Train-Test Split required for the Time Series Data\n",
        "rolling_time_window = 50   ##=====>>>> with how much Rolling time do you want your model to Learn...!!!\n",
        "\n",
        "X_train_, y_train_ = timeSeries_trainTest_split(train_data.values, rolling_time_window)\n",
        "X_test_, y_test_ = timeSeries_trainTest_split(test_data.values, rolling_time_window)\n",
        "\n",
        "# reshape 2D data into 3D shape like (samples, time rolling window, time window prediction) which is required for LSTM\n",
        "X_train_ = X_train_.reshape(X_train_.shape[0],X_train_.shape[1] , 1)\n",
        "X_test_ = X_test_.reshape(X_test_.shape[0],X_test_.shape[1] , 1)\n",
        "\n",
        "print(X_train_.shape)\n",
        "print('Preprocessing Done...!')"
      ]
    },
    {
      "cell_type": "markdown",
      "source": [
        "#Making Other Model- Multivariet RNN"
      ],
      "metadata": {
        "id": "t2LOReaCp5DA"
      }
    },
    {
      "cell_type": "code",
      "source": [
        "# Importing dependencies\n",
        "\n",
        "import os\n",
        "# Import real-time Stock Market API\n",
        "!pip install yfinance\n",
        "import yfinance as yf\n",
        "os.environ['PYTHONHASHSEED'] = '0'\n",
        "import random as rn\n",
        "import numpy as np\n",
        "np.random.seed(1)\n",
        "rn.seed(3)\n",
        "import tensorflow as tf\n",
        "# from tensorflow import set_random_seed\n",
        "# set_random_seed(2)\n",
        "import pandas as pd\n",
        "import matplotlib.pyplot as plt\n",
        "from keras.models import Sequential, load_model\n",
        "from keras.layers.core import Dense\n",
        "from keras.layers.recurrent import SimpleRNN\n",
        "from keras import optimizers\n",
        "from keras.callbacks import EarlyStopping\n",
        "from sklearn.preprocessing import MinMaxScaler\n",
        "from sklearn.metrics import mean_squared_error, r2_score\n",
        "from math import sqrt\n",
        "import datetime as dt\n",
        "import time"
      ],
      "metadata": {
        "colab": {
          "base_uri": "https://localhost:8080/"
        },
        "id": "IixcIp3QO6lK",
        "outputId": "a5e840cb-0d22-4e94-e5b3-18278aae23f5"
      },
      "execution_count": 11,
      "outputs": [
        {
          "output_type": "stream",
          "name": "stdout",
          "text": [
            "Requirement already satisfied: yfinance in /usr/local/lib/python3.7/dist-packages (0.1.70)\n",
            "Requirement already satisfied: requests>=2.26 in /usr/local/lib/python3.7/dist-packages (from yfinance) (2.27.1)\n",
            "Requirement already satisfied: numpy>=1.15 in /usr/local/lib/python3.7/dist-packages (from yfinance) (1.19.5)\n",
            "Requirement already satisfied: pandas>=0.24.0 in /usr/local/lib/python3.7/dist-packages (from yfinance) (1.3.5)\n",
            "Requirement already satisfied: lxml>=4.5.1 in /usr/local/lib/python3.7/dist-packages (from yfinance) (4.7.1)\n",
            "Requirement already satisfied: multitasking>=0.0.7 in /usr/local/lib/python3.7/dist-packages (from yfinance) (0.0.10)\n",
            "Requirement already satisfied: python-dateutil>=2.7.3 in /usr/local/lib/python3.7/dist-packages (from pandas>=0.24.0->yfinance) (2.8.2)\n",
            "Requirement already satisfied: pytz>=2017.3 in /usr/local/lib/python3.7/dist-packages (from pandas>=0.24.0->yfinance) (2018.9)\n",
            "Requirement already satisfied: six>=1.5 in /usr/local/lib/python3.7/dist-packages (from python-dateutil>=2.7.3->pandas>=0.24.0->yfinance) (1.15.0)\n",
            "Requirement already satisfied: certifi>=2017.4.17 in /usr/local/lib/python3.7/dist-packages (from requests>=2.26->yfinance) (2021.10.8)\n",
            "Requirement already satisfied: idna<4,>=2.5 in /usr/local/lib/python3.7/dist-packages (from requests>=2.26->yfinance) (2.10)\n",
            "Requirement already satisfied: charset-normalizer~=2.0.0 in /usr/local/lib/python3.7/dist-packages (from requests>=2.26->yfinance) (2.0.11)\n",
            "Requirement already satisfied: urllib3<1.27,>=1.21.1 in /usr/local/lib/python3.7/dist-packages (from requests>=2.26->yfinance) (1.24.3)\n"
          ]
        }
      ]
    },
    {
      "cell_type": "code",
      "source": [
        "# symbol = 'HINDUNILVR.NS'\n",
        "\n",
        "# ticker = yf.Ticker(symbol)\n",
        "# data = ticker.history(start='2000-01-01', end='2022-01-01', interval='1d', rounding=True, prepost=True, actions=False)\n",
        "df = pd.DataFrame(data)\n",
        "df"
      ],
      "metadata": {
        "colab": {
          "base_uri": "https://localhost:8080/",
          "height": 455
        },
        "id": "8yx0SxTmCFIy",
        "outputId": "a3f9cb3a-3b07-44f6-90a6-49498621928a"
      },
      "execution_count": 12,
      "outputs": [
        {
          "output_type": "execute_result",
          "data": {
            "text/html": [
              "\n",
              "  <div id=\"df-73246626-a898-438d-aea1-2f426c79ad1f\">\n",
              "    <div class=\"colab-df-container\">\n",
              "      <div>\n",
              "<style scoped>\n",
              "    .dataframe tbody tr th:only-of-type {\n",
              "        vertical-align: middle;\n",
              "    }\n",
              "\n",
              "    .dataframe tbody tr th {\n",
              "        vertical-align: top;\n",
              "    }\n",
              "\n",
              "    .dataframe thead th {\n",
              "        text-align: right;\n",
              "    }\n",
              "</style>\n",
              "<table border=\"1\" class=\"dataframe\">\n",
              "  <thead>\n",
              "    <tr style=\"text-align: right;\">\n",
              "      <th></th>\n",
              "      <th>Open</th>\n",
              "      <th>High</th>\n",
              "      <th>Low</th>\n",
              "      <th>Close</th>\n",
              "      <th>Volume</th>\n",
              "    </tr>\n",
              "    <tr>\n",
              "      <th>Date</th>\n",
              "      <th></th>\n",
              "      <th></th>\n",
              "      <th></th>\n",
              "      <th></th>\n",
              "      <th></th>\n",
              "    </tr>\n",
              "  </thead>\n",
              "  <tbody>\n",
              "    <tr>\n",
              "      <th>1996-01-01</th>\n",
              "      <td>36.33</td>\n",
              "      <td>36.55</td>\n",
              "      <td>36.10</td>\n",
              "      <td>36.10</td>\n",
              "      <td>11000</td>\n",
              "    </tr>\n",
              "    <tr>\n",
              "      <th>1996-01-02</th>\n",
              "      <td>36.10</td>\n",
              "      <td>36.62</td>\n",
              "      <td>36.11</td>\n",
              "      <td>36.48</td>\n",
              "      <td>203500</td>\n",
              "    </tr>\n",
              "    <tr>\n",
              "      <th>1996-01-03</th>\n",
              "      <td>36.48</td>\n",
              "      <td>36.42</td>\n",
              "      <td>36.10</td>\n",
              "      <td>36.27</td>\n",
              "      <td>58000</td>\n",
              "    </tr>\n",
              "    <tr>\n",
              "      <th>1996-01-04</th>\n",
              "      <td>36.21</td>\n",
              "      <td>36.39</td>\n",
              "      <td>36.15</td>\n",
              "      <td>36.27</td>\n",
              "      <td>111500</td>\n",
              "    </tr>\n",
              "    <tr>\n",
              "      <th>1996-01-05</th>\n",
              "      <td>36.27</td>\n",
              "      <td>36.45</td>\n",
              "      <td>35.92</td>\n",
              "      <td>36.21</td>\n",
              "      <td>39500</td>\n",
              "    </tr>\n",
              "    <tr>\n",
              "      <th>...</th>\n",
              "      <td>...</td>\n",
              "      <td>...</td>\n",
              "      <td>...</td>\n",
              "      <td>...</td>\n",
              "      <td>...</td>\n",
              "    </tr>\n",
              "    <tr>\n",
              "      <th>2022-02-01</th>\n",
              "      <td>2303.30</td>\n",
              "      <td>2320.00</td>\n",
              "      <td>2278.40</td>\n",
              "      <td>2305.65</td>\n",
              "      <td>1270508</td>\n",
              "    </tr>\n",
              "    <tr>\n",
              "      <th>2022-02-02</th>\n",
              "      <td>2324.10</td>\n",
              "      <td>2333.00</td>\n",
              "      <td>2296.55</td>\n",
              "      <td>2327.90</td>\n",
              "      <td>1246111</td>\n",
              "    </tr>\n",
              "    <tr>\n",
              "      <th>2022-02-03</th>\n",
              "      <td>2329.00</td>\n",
              "      <td>2331.95</td>\n",
              "      <td>2290.00</td>\n",
              "      <td>2298.15</td>\n",
              "      <td>1448039</td>\n",
              "    </tr>\n",
              "    <tr>\n",
              "      <th>2022-02-04</th>\n",
              "      <td>2306.00</td>\n",
              "      <td>2312.75</td>\n",
              "      <td>2283.00</td>\n",
              "      <td>2306.60</td>\n",
              "      <td>1014561</td>\n",
              "    </tr>\n",
              "    <tr>\n",
              "      <th>2022-02-07</th>\n",
              "      <td>2295.25</td>\n",
              "      <td>2316.70</td>\n",
              "      <td>2237.00</td>\n",
              "      <td>2257.60</td>\n",
              "      <td>1207247</td>\n",
              "    </tr>\n",
              "  </tbody>\n",
              "</table>\n",
              "<p>6570 rows × 5 columns</p>\n",
              "</div>\n",
              "      <button class=\"colab-df-convert\" onclick=\"convertToInteractive('df-73246626-a898-438d-aea1-2f426c79ad1f')\"\n",
              "              title=\"Convert this dataframe to an interactive table.\"\n",
              "              style=\"display:none;\">\n",
              "        \n",
              "  <svg xmlns=\"http://www.w3.org/2000/svg\" height=\"24px\"viewBox=\"0 0 24 24\"\n",
              "       width=\"24px\">\n",
              "    <path d=\"M0 0h24v24H0V0z\" fill=\"none\"/>\n",
              "    <path d=\"M18.56 5.44l.94 2.06.94-2.06 2.06-.94-2.06-.94-.94-2.06-.94 2.06-2.06.94zm-11 1L8.5 8.5l.94-2.06 2.06-.94-2.06-.94L8.5 2.5l-.94 2.06-2.06.94zm10 10l.94 2.06.94-2.06 2.06-.94-2.06-.94-.94-2.06-.94 2.06-2.06.94z\"/><path d=\"M17.41 7.96l-1.37-1.37c-.4-.4-.92-.59-1.43-.59-.52 0-1.04.2-1.43.59L10.3 9.45l-7.72 7.72c-.78.78-.78 2.05 0 2.83L4 21.41c.39.39.9.59 1.41.59.51 0 1.02-.2 1.41-.59l7.78-7.78 2.81-2.81c.8-.78.8-2.07 0-2.86zM5.41 20L4 18.59l7.72-7.72 1.47 1.35L5.41 20z\"/>\n",
              "  </svg>\n",
              "      </button>\n",
              "      \n",
              "  <style>\n",
              "    .colab-df-container {\n",
              "      display:flex;\n",
              "      flex-wrap:wrap;\n",
              "      gap: 12px;\n",
              "    }\n",
              "\n",
              "    .colab-df-convert {\n",
              "      background-color: #E8F0FE;\n",
              "      border: none;\n",
              "      border-radius: 50%;\n",
              "      cursor: pointer;\n",
              "      display: none;\n",
              "      fill: #1967D2;\n",
              "      height: 32px;\n",
              "      padding: 0 0 0 0;\n",
              "      width: 32px;\n",
              "    }\n",
              "\n",
              "    .colab-df-convert:hover {\n",
              "      background-color: #E2EBFA;\n",
              "      box-shadow: 0px 1px 2px rgba(60, 64, 67, 0.3), 0px 1px 3px 1px rgba(60, 64, 67, 0.15);\n",
              "      fill: #174EA6;\n",
              "    }\n",
              "\n",
              "    [theme=dark] .colab-df-convert {\n",
              "      background-color: #3B4455;\n",
              "      fill: #D2E3FC;\n",
              "    }\n",
              "\n",
              "    [theme=dark] .colab-df-convert:hover {\n",
              "      background-color: #434B5C;\n",
              "      box-shadow: 0px 1px 3px 1px rgba(0, 0, 0, 0.15);\n",
              "      filter: drop-shadow(0px 1px 2px rgba(0, 0, 0, 0.3));\n",
              "      fill: #FFFFFF;\n",
              "    }\n",
              "  </style>\n",
              "\n",
              "      <script>\n",
              "        const buttonEl =\n",
              "          document.querySelector('#df-73246626-a898-438d-aea1-2f426c79ad1f button.colab-df-convert');\n",
              "        buttonEl.style.display =\n",
              "          google.colab.kernel.accessAllowed ? 'block' : 'none';\n",
              "\n",
              "        async function convertToInteractive(key) {\n",
              "          const element = document.querySelector('#df-73246626-a898-438d-aea1-2f426c79ad1f');\n",
              "          const dataTable =\n",
              "            await google.colab.kernel.invokeFunction('convertToInteractive',\n",
              "                                                     [key], {});\n",
              "          if (!dataTable) return;\n",
              "\n",
              "          const docLinkHtml = 'Like what you see? Visit the ' +\n",
              "            '<a target=\"_blank\" href=https://colab.research.google.com/notebooks/data_table.ipynb>data table notebook</a>'\n",
              "            + ' to learn more about interactive tables.';\n",
              "          element.innerHTML = '';\n",
              "          dataTable['output_type'] = 'display_data';\n",
              "          await google.colab.output.renderOutput(dataTable, element);\n",
              "          const docLink = document.createElement('div');\n",
              "          docLink.innerHTML = docLinkHtml;\n",
              "          element.appendChild(docLink);\n",
              "        }\n",
              "      </script>\n",
              "    </div>\n",
              "  </div>\n",
              "  "
            ],
            "text/plain": [
              "               Open     High      Low    Close   Volume\n",
              "Date                                                   \n",
              "1996-01-01    36.33    36.55    36.10    36.10    11000\n",
              "1996-01-02    36.10    36.62    36.11    36.48   203500\n",
              "1996-01-03    36.48    36.42    36.10    36.27    58000\n",
              "1996-01-04    36.21    36.39    36.15    36.27   111500\n",
              "1996-01-05    36.27    36.45    35.92    36.21    39500\n",
              "...             ...      ...      ...      ...      ...\n",
              "2022-02-01  2303.30  2320.00  2278.40  2305.65  1270508\n",
              "2022-02-02  2324.10  2333.00  2296.55  2327.90  1246111\n",
              "2022-02-03  2329.00  2331.95  2290.00  2298.15  1448039\n",
              "2022-02-04  2306.00  2312.75  2283.00  2306.60  1014561\n",
              "2022-02-07  2295.25  2316.70  2237.00  2257.60  1207247\n",
              "\n",
              "[6570 rows x 5 columns]"
            ]
          },
          "metadata": {},
          "execution_count": 12
        }
      ]
    },
    {
      "cell_type": "code",
      "source": [
        "df.corr()['Close']"
      ],
      "metadata": {
        "colab": {
          "base_uri": "https://localhost:8080/"
        },
        "id": "YvKm2CjjCGRG",
        "outputId": "ce696e97-8402-4a7d-a9c0-74c0381a53fa"
      },
      "execution_count": 13,
      "outputs": [
        {
          "output_type": "execute_result",
          "data": {
            "text/plain": [
              "Open      0.999823\n",
              "High      0.999924\n",
              "Low       0.999917\n",
              "Close     1.000000\n",
              "Volume    0.015615\n",
              "Name: Close, dtype: float64"
            ]
          },
          "metadata": {},
          "execution_count": 13
        }
      ]
    },
    {
      "cell_type": "code",
      "source": [
        "# print(df.describe().Volume) \n",
        "# df.drop(df[df['Volume']==0].index, inplace = True) #Dropping rows with Volume value 0, i.e. NO Trading Happened on that day\n",
        "# df['Volume'].hist(bins = 2)"
      ],
      "metadata": {
        "id": "VPNNQbCPCGNr"
      },
      "execution_count": 14,
      "outputs": []
    },
    {
      "cell_type": "code",
      "source": [
        "# Setting up an early stop\n",
        "earlystop = EarlyStopping(monitor='val_loss', min_delta=0.0001, patience=80,  verbose=1, mode='min')\n",
        "callbacks_list = [earlystop]\n",
        "callbacks_list"
      ],
      "metadata": {
        "colab": {
          "base_uri": "https://localhost:8080/"
        },
        "id": "UuRKN902NM5Y",
        "outputId": "6a8c4331-0e3d-4385-d8b8-3f0f461b7ee7"
      },
      "execution_count": 15,
      "outputs": [
        {
          "output_type": "execute_result",
          "data": {
            "text/plain": [
              "[<keras.callbacks.EarlyStopping at 0x7fc761cb07d0>]"
            ]
          },
          "metadata": {},
          "execution_count": 15
        }
      ]
    },
    {
      "cell_type": "code",
      "source": [
        "#Build and train the model\n",
        "def fit_model(train,val,timesteps,hl,lr,batch,epochs):\n",
        "    X_train = []\n",
        "    Y_train = []\n",
        "    X_val = []\n",
        "    Y_val = []\n",
        "  \n",
        "    # Loop for training data\n",
        "    for i in range(timesteps,train.shape[0]):\n",
        "        X_train.append(train[i-timesteps:i])\n",
        "        Y_train.append(train[i][0])\n",
        "    X_train,Y_train = np.array(X_train),np.array(Y_train)\n",
        "  \n",
        "    # Loop for val data\n",
        "    for i in range(timesteps,val.shape[0]):\n",
        "        X_val.append(val[i-timesteps:i])\n",
        "        Y_val.append(val[i][0])\n",
        "    X_val,Y_val = np.array(X_val),np.array(Y_val)\n",
        "    \n",
        "    # Adding Layers to the model\n",
        "    model = Sequential()\n",
        "    model.add(SimpleRNN(X_train.shape[2],\n",
        "                        input_shape = (X_train.shape[1],X_train.shape[2]),\n",
        "                        return_sequences = True,\n",
        "                        activation = 'relu'))\n",
        "    for i in range(len(hl)-1):        \n",
        "        model.add(SimpleRNN(hl[i],\n",
        "                            activation = 'relu',\n",
        "                            return_sequences = True))\n",
        "    model.add(SimpleRNN(hl[-1],activation = 'relu'))\n",
        "\n",
        "    # model.add(LSTM(50, return_sequences=False))\n",
        "    model.add(Dense(25))\n",
        "    model.add(Dense(1))\n",
        "    model.compile(tf.optimizers.Adam(learning_rate=lr), loss='mean_squared_error')\n",
        "    #print(model.summary())\n",
        "  \n",
        "    # Training the data\n",
        "    history = model.fit(X_train,Y_train,epochs = epochs,batch_size = batch,\n",
        "                        validation_data = (X_val, Y_val),verbose = 1,\n",
        "                        shuffle = False, callbacks=callbacks_list)\n",
        "    model.reset_states()\n",
        "    return model, history.history['loss'], history.history['val_loss']"
      ],
      "metadata": {
        "id": "mdtgYE1fNM1-"
      },
      "execution_count": 16,
      "outputs": []
    },
    {
      "cell_type": "code",
      "source": [
        "# Evaluating the model\n",
        "def evaluate_model(model,test,timesteps):\n",
        "    X_test = []\n",
        "    Y_test = []\n",
        "\n",
        "    # Loop for testing data\n",
        "    for i in range(timesteps,test.shape[0]):\n",
        "        X_test.append(test[i-timesteps:i])\n",
        "        Y_test.append(test[i][0])\n",
        "    X_test,Y_test = np.array(X_test),np.array(Y_test)\n",
        "    #print(X_test.shape,Y_test.shape)\n",
        "  \n",
        "    # Prediction Time !!!!\n",
        "    Y_hat = model.predict(X_test)\n",
        "    mse = mean_squared_error(Y_test,Y_hat)\n",
        "    rmse = sqrt(mse)\n",
        "    r = r2_score(Y_test,Y_hat)\n",
        "    return mse, rmse, r, Y_test, Y_hat"
      ],
      "metadata": {
        "id": "uq5dL1GCNMzl"
      },
      "execution_count": 17,
      "outputs": []
    },
    {
      "cell_type": "code",
      "source": [
        "# Plotting the predictions\n",
        "def plot_data(Y_test,Y_hat):\n",
        "    plt.plot(Y_test,c = 'r')\n",
        "    plt.plot(Y_hat,c = 'y')\n",
        "    plt.xlabel('Day')\n",
        "    plt.ylabel('Price')\n",
        "    plt.title(\"Stock Price Prediction using Multivatiate-RNN\")\n",
        "    plt.legend(['Actual','Predicted'],loc = 'lower right')\n",
        "    plt.show()"
      ],
      "metadata": {
        "id": "1nB2cRy8P2OR"
      },
      "execution_count": 18,
      "outputs": []
    },
    {
      "cell_type": "code",
      "source": [
        "# Plotting the training errors\n",
        "def plot_error(train_loss,val_loss):\n",
        "    plt.plot(train_loss,c = 'r')\n",
        "    plt.plot(val_loss,c = 'b')\n",
        "    plt.ylabel('Loss')\n",
        "    plt.xlabel('Epochs')\n",
        "    plt.title('Loss Plot')\n",
        "    plt.legend(['train','val'],loc = 'upper right')\n",
        "    plt.show()"
      ],
      "metadata": {
        "id": "jb8_W7k6NMxv"
      },
      "execution_count": 19,
      "outputs": []
    },
    {
      "cell_type": "markdown",
      "source": [
        "#Model Building"
      ],
      "metadata": {
        "id": "IHXz8m1pQN1R"
      }
    },
    {
      "cell_type": "code",
      "source": [
        "# Extracting the series\n",
        "series = df[['Close','High','Volume']] # Picking the multivariate series \n",
        "print(series.shape)\n",
        "print(series.tail())"
      ],
      "metadata": {
        "colab": {
          "base_uri": "https://localhost:8080/"
        },
        "id": "5XE065GKP_V9",
        "outputId": "b15ad8ff-165d-4b48-8663-a1dece7d3caa"
      },
      "execution_count": 20,
      "outputs": [
        {
          "output_type": "stream",
          "name": "stdout",
          "text": [
            "(6570, 3)\n",
            "              Close     High   Volume\n",
            "Date                                 \n",
            "2022-02-01  2305.65  2320.00  1270508\n",
            "2022-02-02  2327.90  2333.00  1246111\n",
            "2022-02-03  2298.15  2331.95  1448039\n",
            "2022-02-04  2306.60  2312.75  1014561\n",
            "2022-02-07  2257.60  2316.70  1207247\n"
          ]
        }
      ]
    },
    {
      "cell_type": "code",
      "source": [
        "# Train Val Test Split\n",
        "train_start = dt.date(2000,1,1)\n",
        "train_end = dt.date(2017,12,31)\n",
        "train_data = series.loc[train_start:train_end]\n",
        "\n",
        "val_start = dt.date(2018,1,1)\n",
        "val_end = dt.date(2019,12,31)\n",
        "val_data = series.loc[val_start:val_end]\n",
        "\n",
        "test_start = dt.date(2020,1,1)\n",
        "test_end = dt.date(2021,12,31)\n",
        "test_data = series.loc[test_start:test_end]\n",
        "\n",
        "print(train_data.shape,val_data.shape,test_data.shape)"
      ],
      "metadata": {
        "colab": {
          "base_uri": "https://localhost:8080/"
        },
        "id": "0MnDKpeGQeE0",
        "outputId": "fa5a5066-9067-4f1c-f9d7-4405f1cba281"
      },
      "execution_count": 21,
      "outputs": [
        {
          "output_type": "stream",
          "name": "stdout",
          "text": [
            "(4512, 3) (489, 3) (499, 3)\n"
          ]
        }
      ]
    },
    {
      "cell_type": "code",
      "source": [
        "train_data"
      ],
      "metadata": {
        "colab": {
          "base_uri": "https://localhost:8080/",
          "height": 455
        },
        "id": "ZYWKlCgPaz8m",
        "outputId": "40e95f2f-e10a-4198-f96b-760d63ba0cfb"
      },
      "execution_count": 22,
      "outputs": [
        {
          "output_type": "execute_result",
          "data": {
            "text/html": [
              "\n",
              "  <div id=\"df-599e8040-4dd0-4f95-9703-d7c7f40ef1f4\">\n",
              "    <div class=\"colab-df-container\">\n",
              "      <div>\n",
              "<style scoped>\n",
              "    .dataframe tbody tr th:only-of-type {\n",
              "        vertical-align: middle;\n",
              "    }\n",
              "\n",
              "    .dataframe tbody tr th {\n",
              "        vertical-align: top;\n",
              "    }\n",
              "\n",
              "    .dataframe thead th {\n",
              "        text-align: right;\n",
              "    }\n",
              "</style>\n",
              "<table border=\"1\" class=\"dataframe\">\n",
              "  <thead>\n",
              "    <tr style=\"text-align: right;\">\n",
              "      <th></th>\n",
              "      <th>Close</th>\n",
              "      <th>High</th>\n",
              "      <th>Volume</th>\n",
              "    </tr>\n",
              "    <tr>\n",
              "      <th>Date</th>\n",
              "      <th></th>\n",
              "      <th></th>\n",
              "      <th></th>\n",
              "    </tr>\n",
              "  </thead>\n",
              "  <tbody>\n",
              "    <tr>\n",
              "      <th>2000-01-03</th>\n",
              "      <td>137.80</td>\n",
              "      <td>137.80</td>\n",
              "      <td>249030</td>\n",
              "    </tr>\n",
              "    <tr>\n",
              "      <th>2000-01-04</th>\n",
              "      <td>136.22</td>\n",
              "      <td>142.19</td>\n",
              "      <td>585140</td>\n",
              "    </tr>\n",
              "    <tr>\n",
              "      <th>2000-01-05</th>\n",
              "      <td>131.37</td>\n",
              "      <td>134.36</td>\n",
              "      <td>802960</td>\n",
              "    </tr>\n",
              "    <tr>\n",
              "      <th>2000-01-06</th>\n",
              "      <td>136.64</td>\n",
              "      <td>140.93</td>\n",
              "      <td>1900320</td>\n",
              "    </tr>\n",
              "    <tr>\n",
              "      <th>2000-01-07</th>\n",
              "      <td>144.09</td>\n",
              "      <td>146.43</td>\n",
              "      <td>1925820</td>\n",
              "    </tr>\n",
              "    <tr>\n",
              "      <th>...</th>\n",
              "      <td>...</td>\n",
              "      <td>...</td>\n",
              "      <td>...</td>\n",
              "    </tr>\n",
              "    <tr>\n",
              "      <th>2017-12-22</th>\n",
              "      <td>1282.05</td>\n",
              "      <td>1284.88</td>\n",
              "      <td>561400</td>\n",
              "    </tr>\n",
              "    <tr>\n",
              "      <th>2017-12-26</th>\n",
              "      <td>1274.11</td>\n",
              "      <td>1279.59</td>\n",
              "      <td>913529</td>\n",
              "    </tr>\n",
              "    <tr>\n",
              "      <th>2017-12-27</th>\n",
              "      <td>1278.22</td>\n",
              "      <td>1289.13</td>\n",
              "      <td>569851</td>\n",
              "    </tr>\n",
              "    <tr>\n",
              "      <th>2017-12-28</th>\n",
              "      <td>1280.16</td>\n",
              "      <td>1306.90</td>\n",
              "      <td>2608574</td>\n",
              "    </tr>\n",
              "    <tr>\n",
              "      <th>2017-12-29</th>\n",
              "      <td>1292.77</td>\n",
              "      <td>1299.44</td>\n",
              "      <td>799006</td>\n",
              "    </tr>\n",
              "  </tbody>\n",
              "</table>\n",
              "<p>4512 rows × 3 columns</p>\n",
              "</div>\n",
              "      <button class=\"colab-df-convert\" onclick=\"convertToInteractive('df-599e8040-4dd0-4f95-9703-d7c7f40ef1f4')\"\n",
              "              title=\"Convert this dataframe to an interactive table.\"\n",
              "              style=\"display:none;\">\n",
              "        \n",
              "  <svg xmlns=\"http://www.w3.org/2000/svg\" height=\"24px\"viewBox=\"0 0 24 24\"\n",
              "       width=\"24px\">\n",
              "    <path d=\"M0 0h24v24H0V0z\" fill=\"none\"/>\n",
              "    <path d=\"M18.56 5.44l.94 2.06.94-2.06 2.06-.94-2.06-.94-.94-2.06-.94 2.06-2.06.94zm-11 1L8.5 8.5l.94-2.06 2.06-.94-2.06-.94L8.5 2.5l-.94 2.06-2.06.94zm10 10l.94 2.06.94-2.06 2.06-.94-2.06-.94-.94-2.06-.94 2.06-2.06.94z\"/><path d=\"M17.41 7.96l-1.37-1.37c-.4-.4-.92-.59-1.43-.59-.52 0-1.04.2-1.43.59L10.3 9.45l-7.72 7.72c-.78.78-.78 2.05 0 2.83L4 21.41c.39.39.9.59 1.41.59.51 0 1.02-.2 1.41-.59l7.78-7.78 2.81-2.81c.8-.78.8-2.07 0-2.86zM5.41 20L4 18.59l7.72-7.72 1.47 1.35L5.41 20z\"/>\n",
              "  </svg>\n",
              "      </button>\n",
              "      \n",
              "  <style>\n",
              "    .colab-df-container {\n",
              "      display:flex;\n",
              "      flex-wrap:wrap;\n",
              "      gap: 12px;\n",
              "    }\n",
              "\n",
              "    .colab-df-convert {\n",
              "      background-color: #E8F0FE;\n",
              "      border: none;\n",
              "      border-radius: 50%;\n",
              "      cursor: pointer;\n",
              "      display: none;\n",
              "      fill: #1967D2;\n",
              "      height: 32px;\n",
              "      padding: 0 0 0 0;\n",
              "      width: 32px;\n",
              "    }\n",
              "\n",
              "    .colab-df-convert:hover {\n",
              "      background-color: #E2EBFA;\n",
              "      box-shadow: 0px 1px 2px rgba(60, 64, 67, 0.3), 0px 1px 3px 1px rgba(60, 64, 67, 0.15);\n",
              "      fill: #174EA6;\n",
              "    }\n",
              "\n",
              "    [theme=dark] .colab-df-convert {\n",
              "      background-color: #3B4455;\n",
              "      fill: #D2E3FC;\n",
              "    }\n",
              "\n",
              "    [theme=dark] .colab-df-convert:hover {\n",
              "      background-color: #434B5C;\n",
              "      box-shadow: 0px 1px 3px 1px rgba(0, 0, 0, 0.15);\n",
              "      filter: drop-shadow(0px 1px 2px rgba(0, 0, 0, 0.3));\n",
              "      fill: #FFFFFF;\n",
              "    }\n",
              "  </style>\n",
              "\n",
              "      <script>\n",
              "        const buttonEl =\n",
              "          document.querySelector('#df-599e8040-4dd0-4f95-9703-d7c7f40ef1f4 button.colab-df-convert');\n",
              "        buttonEl.style.display =\n",
              "          google.colab.kernel.accessAllowed ? 'block' : 'none';\n",
              "\n",
              "        async function convertToInteractive(key) {\n",
              "          const element = document.querySelector('#df-599e8040-4dd0-4f95-9703-d7c7f40ef1f4');\n",
              "          const dataTable =\n",
              "            await google.colab.kernel.invokeFunction('convertToInteractive',\n",
              "                                                     [key], {});\n",
              "          if (!dataTable) return;\n",
              "\n",
              "          const docLinkHtml = 'Like what you see? Visit the ' +\n",
              "            '<a target=\"_blank\" href=https://colab.research.google.com/notebooks/data_table.ipynb>data table notebook</a>'\n",
              "            + ' to learn more about interactive tables.';\n",
              "          element.innerHTML = '';\n",
              "          dataTable['output_type'] = 'display_data';\n",
              "          await google.colab.output.renderOutput(dataTable, element);\n",
              "          const docLink = document.createElement('div');\n",
              "          docLink.innerHTML = docLinkHtml;\n",
              "          element.appendChild(docLink);\n",
              "        }\n",
              "      </script>\n",
              "    </div>\n",
              "  </div>\n",
              "  "
            ],
            "text/plain": [
              "              Close     High   Volume\n",
              "Date                                 \n",
              "2000-01-03   137.80   137.80   249030\n",
              "2000-01-04   136.22   142.19   585140\n",
              "2000-01-05   131.37   134.36   802960\n",
              "2000-01-06   136.64   140.93  1900320\n",
              "2000-01-07   144.09   146.43  1925820\n",
              "...             ...      ...      ...\n",
              "2017-12-22  1282.05  1284.88   561400\n",
              "2017-12-26  1274.11  1279.59   913529\n",
              "2017-12-27  1278.22  1289.13   569851\n",
              "2017-12-28  1280.16  1306.90  2608574\n",
              "2017-12-29  1292.77  1299.44   799006\n",
              "\n",
              "[4512 rows x 3 columns]"
            ]
          },
          "metadata": {},
          "execution_count": 22
        }
      ]
    },
    {
      "cell_type": "code",
      "source": [
        "# Normalisation\n",
        "sc = MinMaxScaler()\n",
        "train = sc.fit_transform(train_data)\n",
        "val = sc.transform(val_data)\n",
        "test = sc.transform(test_data)\n",
        "print(train.shape,val.shape,test.shape)"
      ],
      "metadata": {
        "colab": {
          "base_uri": "https://localhost:8080/"
        },
        "id": "6jkjx0U5QeBg",
        "outputId": "d6903c5e-ed55-4b90-ba3e-e2be5028663b"
      },
      "execution_count": 23,
      "outputs": [
        {
          "output_type": "stream",
          "name": "stdout",
          "text": [
            "(4512, 3) (489, 3) (499, 3)\n"
          ]
        }
      ]
    },
    {
      "cell_type": "code",
      "source": [
        "timesteps = 50      #Rolling Time Window\n",
        "hl = [45,50]        #Neurons\n",
        "lr = 1e-3           #Learning Rate\n",
        "batch_size = 60     #Learning in the Batch of\n",
        "num_epochs = 100    #Revising the Learnings"
      ],
      "metadata": {
        "id": "DsxH3sPqQd_o"
      },
      "execution_count": 24,
      "outputs": []
    },
    {
      "cell_type": "code",
      "source": [
        "model,train_error,val_error = fit_model(train,val,timesteps,hl,lr,batch_size,num_epochs)\n",
        "plot_error(train_error,val_error)"
      ],
      "metadata": {
        "id": "3o0tLAjXQd9f",
        "colab": {
          "base_uri": "https://localhost:8080/",
          "height": 1000
        },
        "outputId": "ced5228a-eb42-486a-e128-7718aa9336ef"
      },
      "execution_count": 25,
      "outputs": [
        {
          "output_type": "stream",
          "name": "stdout",
          "text": [
            "Epoch 1/100\n",
            "75/75 [==============================] - 6s 41ms/step - loss: 0.0021 - val_loss: 0.0145\n",
            "Epoch 2/100\n",
            "75/75 [==============================] - 4s 59ms/step - loss: 0.0021 - val_loss: 0.0062\n",
            "Epoch 3/100\n",
            "75/75 [==============================] - 5s 63ms/step - loss: 0.0042 - val_loss: 0.0038\n",
            "Epoch 4/100\n",
            "75/75 [==============================] - 4s 59ms/step - loss: 0.0071 - val_loss: 0.0034\n",
            "Epoch 5/100\n",
            "75/75 [==============================] - 5s 66ms/step - loss: 0.0099 - val_loss: 0.0388\n",
            "Epoch 6/100\n",
            "75/75 [==============================] - 5s 63ms/step - loss: 0.0255 - val_loss: 0.0077\n",
            "Epoch 7/100\n",
            "75/75 [==============================] - 4s 56ms/step - loss: 0.0089 - val_loss: 0.0079\n",
            "Epoch 8/100\n",
            "75/75 [==============================] - 5s 61ms/step - loss: 0.0042 - val_loss: 0.0123\n",
            "Epoch 9/100\n",
            "75/75 [==============================] - 5s 66ms/step - loss: 0.0024 - val_loss: 0.0116\n",
            "Epoch 10/100\n",
            "75/75 [==============================] - 5s 61ms/step - loss: 0.0014 - val_loss: 0.0023\n",
            "Epoch 11/100\n",
            "75/75 [==============================] - 4s 60ms/step - loss: 6.2227e-04 - val_loss: 0.0070\n",
            "Epoch 12/100\n",
            "75/75 [==============================] - 4s 48ms/step - loss: 0.0015 - val_loss: 0.0083\n",
            "Epoch 13/100\n",
            "75/75 [==============================] - 2s 31ms/step - loss: 8.2524e-04 - val_loss: 0.0049\n",
            "Epoch 14/100\n",
            "75/75 [==============================] - 2s 31ms/step - loss: 4.8528e-04 - val_loss: 0.0075\n",
            "Epoch 15/100\n",
            "75/75 [==============================] - 2s 31ms/step - loss: 6.7007e-04 - val_loss: 0.0029\n",
            "Epoch 16/100\n",
            "75/75 [==============================] - 2s 32ms/step - loss: 4.2348e-04 - val_loss: 0.0065\n",
            "Epoch 17/100\n",
            "75/75 [==============================] - 2s 31ms/step - loss: 7.1258e-04 - val_loss: 0.0053\n",
            "Epoch 18/100\n",
            "75/75 [==============================] - 2s 31ms/step - loss: 4.1598e-04 - val_loss: 0.0059\n",
            "Epoch 19/100\n",
            "75/75 [==============================] - 2s 31ms/step - loss: 3.5304e-04 - val_loss: 0.0044\n",
            "Epoch 20/100\n",
            "75/75 [==============================] - 2s 31ms/step - loss: 3.3370e-04 - val_loss: 0.0050\n",
            "Epoch 21/100\n",
            "75/75 [==============================] - 2s 31ms/step - loss: 2.8797e-04 - val_loss: 0.0043\n",
            "Epoch 22/100\n",
            "75/75 [==============================] - 2s 30ms/step - loss: 2.8031e-04 - val_loss: 0.0043\n",
            "Epoch 23/100\n",
            "75/75 [==============================] - 2s 31ms/step - loss: 2.5834e-04 - val_loss: 0.0040\n",
            "Epoch 24/100\n",
            "75/75 [==============================] - 2s 31ms/step - loss: 2.5034e-04 - val_loss: 0.0039\n",
            "Epoch 25/100\n",
            "75/75 [==============================] - 2s 32ms/step - loss: 2.2919e-04 - val_loss: 0.0034\n",
            "Epoch 26/100\n",
            "75/75 [==============================] - 2s 31ms/step - loss: 2.3302e-04 - val_loss: 0.0033\n",
            "Epoch 27/100\n",
            "75/75 [==============================] - 2s 31ms/step - loss: 2.3594e-04 - val_loss: 0.0035\n",
            "Epoch 28/100\n",
            "75/75 [==============================] - 2s 31ms/step - loss: 2.1352e-04 - val_loss: 0.0029\n",
            "Epoch 29/100\n",
            "75/75 [==============================] - 2s 31ms/step - loss: 2.2857e-04 - val_loss: 0.0031\n",
            "Epoch 30/100\n",
            "75/75 [==============================] - 2s 31ms/step - loss: 2.0555e-04 - val_loss: 0.0027\n",
            "Epoch 31/100\n",
            "75/75 [==============================] - 2s 31ms/step - loss: 2.2044e-04 - val_loss: 0.0028\n",
            "Epoch 32/100\n",
            "75/75 [==============================] - 2s 31ms/step - loss: 2.0233e-04 - val_loss: 0.0025\n",
            "Epoch 33/100\n",
            "75/75 [==============================] - 2s 30ms/step - loss: 2.1353e-04 - val_loss: 0.0025\n",
            "Epoch 34/100\n",
            "75/75 [==============================] - 2s 31ms/step - loss: 2.3385e-04 - val_loss: 0.0024\n",
            "Epoch 35/100\n",
            "75/75 [==============================] - 2s 30ms/step - loss: 1.8328e-04 - val_loss: 0.0020\n",
            "Epoch 36/100\n",
            "75/75 [==============================] - 2s 31ms/step - loss: 2.1902e-04 - val_loss: 0.0020\n",
            "Epoch 37/100\n",
            "75/75 [==============================] - 2s 32ms/step - loss: 2.7822e-04 - val_loss: 0.0020\n",
            "Epoch 38/100\n",
            "75/75 [==============================] - 2s 31ms/step - loss: 3.3219e-04 - val_loss: 0.0029\n",
            "Epoch 39/100\n",
            "75/75 [==============================] - 2s 31ms/step - loss: 2.6914e-04 - val_loss: 0.0030\n",
            "Epoch 40/100\n",
            "75/75 [==============================] - 2s 31ms/step - loss: 2.0966e-04 - val_loss: 0.0017\n",
            "Epoch 41/100\n",
            "75/75 [==============================] - 2s 31ms/step - loss: 2.8113e-04 - val_loss: 0.0017\n",
            "Epoch 42/100\n",
            "75/75 [==============================] - 2s 31ms/step - loss: 3.6249e-04 - val_loss: 0.0017\n",
            "Epoch 43/100\n",
            "75/75 [==============================] - 3s 35ms/step - loss: 4.3722e-04 - val_loss: 0.0024\n",
            "Epoch 44/100\n",
            "75/75 [==============================] - 3s 42ms/step - loss: 2.7155e-04 - val_loss: 0.0029\n",
            "Epoch 45/100\n",
            "75/75 [==============================] - 2s 31ms/step - loss: 3.7455e-04 - val_loss: 0.0022\n",
            "Epoch 46/100\n",
            "75/75 [==============================] - 2s 31ms/step - loss: 3.6803e-04 - val_loss: 0.0019\n",
            "Epoch 47/100\n",
            "75/75 [==============================] - 2s 32ms/step - loss: 3.2237e-04 - val_loss: 0.0029\n",
            "Epoch 48/100\n",
            "75/75 [==============================] - 2s 31ms/step - loss: 2.5507e-04 - val_loss: 0.0018\n",
            "Epoch 49/100\n",
            "75/75 [==============================] - 2s 31ms/step - loss: 2.5311e-04 - val_loss: 0.0018\n",
            "Epoch 50/100\n",
            "75/75 [==============================] - 2s 31ms/step - loss: 3.5770e-04 - val_loss: 0.0017\n",
            "Epoch 51/100\n",
            "75/75 [==============================] - 2s 31ms/step - loss: 4.4071e-04 - val_loss: 0.0035\n",
            "Epoch 52/100\n",
            "75/75 [==============================] - 2s 31ms/step - loss: 2.6271e-04 - val_loss: 0.0020\n",
            "Epoch 53/100\n",
            "75/75 [==============================] - 2s 31ms/step - loss: 2.9431e-04 - val_loss: 0.0016\n",
            "Epoch 54/100\n",
            "75/75 [==============================] - 2s 32ms/step - loss: 3.9223e-04 - val_loss: 0.0015\n",
            "Epoch 55/100\n",
            "75/75 [==============================] - 2s 31ms/step - loss: 4.1833e-04 - val_loss: 0.0022\n",
            "Epoch 56/100\n",
            "75/75 [==============================] - 2s 32ms/step - loss: 3.8750e-04 - val_loss: 0.0028\n",
            "Epoch 57/100\n",
            "75/75 [==============================] - 2s 31ms/step - loss: 3.1025e-04 - val_loss: 0.0016\n",
            "Epoch 58/100\n",
            "75/75 [==============================] - 2s 31ms/step - loss: 4.0945e-04 - val_loss: 0.0019\n",
            "Epoch 59/100\n",
            "75/75 [==============================] - 2s 31ms/step - loss: 4.0704e-04 - val_loss: 0.0019\n",
            "Epoch 60/100\n",
            "75/75 [==============================] - 2s 31ms/step - loss: 5.0424e-04 - val_loss: 0.0031\n",
            "Epoch 61/100\n",
            "75/75 [==============================] - 2s 31ms/step - loss: 4.5829e-04 - val_loss: 0.0015\n",
            "Epoch 62/100\n",
            "75/75 [==============================] - 2s 31ms/step - loss: 5.4809e-04 - val_loss: 0.0042\n",
            "Epoch 63/100\n",
            "75/75 [==============================] - 2s 31ms/step - loss: 7.2748e-04 - val_loss: 0.0018\n",
            "Epoch 64/100\n",
            "75/75 [==============================] - 2s 31ms/step - loss: 7.1535e-04 - val_loss: 0.0091\n",
            "Epoch 65/100\n",
            "75/75 [==============================] - 2s 31ms/step - loss: 0.0013 - val_loss: 0.0099\n",
            "Epoch 66/100\n",
            "75/75 [==============================] - 2s 31ms/step - loss: 6.6804e-04 - val_loss: 0.0016\n",
            "Epoch 67/100\n",
            "75/75 [==============================] - 2s 32ms/step - loss: 9.1704e-04 - val_loss: 0.0031\n",
            "Epoch 68/100\n",
            "75/75 [==============================] - 2s 31ms/step - loss: 5.6385e-04 - val_loss: 0.0014\n",
            "Epoch 69/100\n",
            "75/75 [==============================] - 2s 31ms/step - loss: 0.0017 - val_loss: 0.0030\n",
            "Epoch 70/100\n",
            "75/75 [==============================] - 2s 32ms/step - loss: 7.4425e-04 - val_loss: 0.0014\n",
            "Epoch 71/100\n",
            "75/75 [==============================] - 2s 31ms/step - loss: 4.8488e-04 - val_loss: 0.0019\n",
            "Epoch 72/100\n",
            "75/75 [==============================] - 5s 64ms/step - loss: 7.2822e-04 - val_loss: 0.0015\n",
            "Epoch 73/100\n",
            "75/75 [==============================] - 2s 31ms/step - loss: 3.3910e-04 - val_loss: 0.0014\n",
            "Epoch 74/100\n",
            "75/75 [==============================] - 2s 32ms/step - loss: 2.4952e-04 - val_loss: 0.0016\n",
            "Epoch 75/100\n",
            "75/75 [==============================] - 2s 31ms/step - loss: 2.4720e-04 - val_loss: 0.0013\n",
            "Epoch 76/100\n",
            "75/75 [==============================] - 2s 31ms/step - loss: 2.5138e-04 - val_loss: 0.0014\n",
            "Epoch 77/100\n",
            "75/75 [==============================] - 2s 31ms/step - loss: 2.1676e-04 - val_loss: 0.0014\n",
            "Epoch 78/100\n",
            "75/75 [==============================] - 3s 35ms/step - loss: 2.0944e-04 - val_loss: 0.0014\n",
            "Epoch 79/100\n",
            "75/75 [==============================] - 2s 31ms/step - loss: 2.0988e-04 - val_loss: 0.0014\n",
            "Epoch 80/100\n",
            "75/75 [==============================] - 2s 31ms/step - loss: 2.0513e-04 - val_loss: 0.0014\n",
            "Epoch 81/100\n",
            "75/75 [==============================] - 2s 31ms/step - loss: 1.9978e-04 - val_loss: 0.0014\n",
            "Epoch 82/100\n",
            "75/75 [==============================] - 2s 32ms/step - loss: 1.9641e-04 - val_loss: 0.0014\n",
            "Epoch 83/100\n",
            "75/75 [==============================] - 2s 32ms/step - loss: 1.9431e-04 - val_loss: 0.0015\n",
            "Epoch 84/100\n",
            "75/75 [==============================] - 2s 32ms/step - loss: 1.9209e-04 - val_loss: 0.0016\n",
            "Epoch 85/100\n",
            "75/75 [==============================] - 2s 31ms/step - loss: 1.9232e-04 - val_loss: 0.0018\n",
            "Epoch 86/100\n",
            "75/75 [==============================] - 2s 31ms/step - loss: 1.9270e-04 - val_loss: 0.0020\n",
            "Epoch 87/100\n",
            "75/75 [==============================] - 2s 31ms/step - loss: 1.8512e-04 - val_loss: 0.0025\n",
            "Epoch 88/100\n",
            "75/75 [==============================] - 2s 31ms/step - loss: 1.6572e-04 - val_loss: 0.0014\n",
            "Epoch 89/100\n",
            "75/75 [==============================] - 2s 31ms/step - loss: 2.4899e-04 - val_loss: 0.0012\n",
            "Epoch 90/100\n",
            "75/75 [==============================] - 2s 31ms/step - loss: 4.9072e-04 - val_loss: 0.0016\n",
            "Epoch 91/100\n",
            "75/75 [==============================] - 2s 31ms/step - loss: 9.8968e-04 - val_loss: 0.0015\n",
            "Epoch 92/100\n",
            "75/75 [==============================] - 2s 31ms/step - loss: 0.0019 - val_loss: 0.0026\n",
            "Epoch 93/100\n",
            "75/75 [==============================] - 2s 31ms/step - loss: 0.0028 - val_loss: 0.0017\n",
            "Epoch 94/100\n",
            "75/75 [==============================] - 2s 31ms/step - loss: 3.8244e-04 - val_loss: 0.0013\n",
            "Epoch 95/100\n",
            "75/75 [==============================] - 2s 31ms/step - loss: 2.5479e-04 - val_loss: 0.0013\n",
            "Epoch 96/100\n",
            "75/75 [==============================] - 2s 32ms/step - loss: 2.4058e-04 - val_loss: 0.0013\n",
            "Epoch 97/100\n",
            "75/75 [==============================] - 2s 32ms/step - loss: 2.6364e-04 - val_loss: 0.0015\n",
            "Epoch 98/100\n",
            "75/75 [==============================] - 2s 32ms/step - loss: 3.2028e-04 - val_loss: 0.0016\n",
            "Epoch 99/100\n",
            "75/75 [==============================] - 2s 31ms/step - loss: 4.4608e-04 - val_loss: 0.0017\n",
            "Epoch 100/100\n",
            "75/75 [==============================] - 2s 32ms/step - loss: 7.2452e-04 - val_loss: 0.0016\n"
          ]
        },
        {
          "output_type": "display_data",
          "data": {
            "image/png": "[encoded data removed]",
            "text/plain": [
              "<Figure size 432x288 with 1 Axes>"
            ]
          },
          "metadata": {
            "needs_background": "light"
          }
        }
      ]
    },
    {
      "cell_type": "code",
      "source": [
        "mse, rmse, r2_value,true,predicted = evaluate_model(model,test,50)\n",
        "print('MSE = {}'.format(mse))\n",
        "print('RMSE = {}'.format(rmse))\n",
        "print('R-Squared Score = {}'.format(r2_value))\n",
        "plot_data(true,predicted)"
      ],
      "metadata": {
        "colab": {
          "base_uri": "https://localhost:8080/",
          "height": 350
        },
        "id": "471CgCcyQd7U",
        "outputId": "21fefd4e-55b5-463c-bb88-5c28a1a3e205"
      },
      "execution_count": 26,
      "outputs": [
        {
          "output_type": "stream",
          "name": "stdout",
          "text": [
            "MSE = 0.009312822520837772\n",
            "RMSE = 0.09650296638361834\n",
            "R-Squared Score = 0.6421211314630293\n"
          ]
        },
        {
          "output_type": "display_data",
          "data": {
            "image/png": "[encoded data removed]",
            "text/plain": [
              "<Figure size 432x288 with 1 Axes>"
            ]
          },
          "metadata": {
            "needs_background": "light"
          }
        }
      ]
    },
    {
      "cell_type": "code",
      "source": [
        "Tr = np.broadcast_to(true.reshape(-1,1), (true.shape[0], 3))\n",
        "True_ = pd.DataFrame(sc.inverse_transform(Tr)).iloc[:, 0]\n",
        "Pr = np.broadcast_to(predicted.reshape(-1,1), (predicted.shape[0], 3))\n",
        "Predic_ = pd.DataFrame(sc.inverse_transform(Pr)).iloc[:, 0]\n",
        "\n",
        "True_, Predic_"
      ],
      "metadata": {
        "colab": {
          "base_uri": "https://localhost:8080/"
        },
        "id": "cq1gTp7JP_SU",
        "outputId": "13ad3431-2e6d-4c47-aada-adf2d606cc62"
      },
      "execution_count": 27,
      "outputs": [
        {
          "output_type": "execute_result",
          "data": {
            "text/plain": [
              "(0      1971.42\n",
              " 1      1882.89\n",
              " 2      1943.16\n",
              " 3      1865.34\n",
              " 4      1782.44\n",
              "         ...   \n",
              " 444    2301.40\n",
              " 445    2309.10\n",
              " 446    2306.85\n",
              " 447    2325.60\n",
              " 448    2360.15\n",
              " Name: 0, Length: 449, dtype: float64, 0      2028.472656\n",
              " 1      2007.914429\n",
              " 2      1976.720215\n",
              " 3      1953.058472\n",
              " 4      1924.560669\n",
              "           ...     \n",
              " 444    2222.239258\n",
              " 445    2223.562012\n",
              " 446    2225.341553\n",
              " 447    2226.515625\n",
              " 448    2230.103027\n",
              " Name: 0, Length: 449, dtype: float32)"
            ]
          },
          "metadata": {},
          "execution_count": 27
        }
      ]
    },
    {
      "cell_type": "markdown",
      "source": [
        "### Build & Train LSTM model"
      ],
      "metadata": {
        "id": "-wkaO0Yi7unF"
      }
    },
    {
      "cell_type": "code",
      "execution_count": 28,
      "metadata": {
        "id": "QftZv_eD7QJ7",
        "colab": {
          "base_uri": "https://localhost:8080/"
        },
        "outputId": "dc40b073-0689-4cb4-ef9c-9aab49705168"
      },
      "outputs": [
        {
          "output_type": "stream",
          "name": "stdout",
          "text": [
            "Epoch 1/80\n",
            "83/83 [==============================] - 8s 57ms/step - loss: 0.0026\n",
            "Epoch 2/80\n",
            "83/83 [==============================] - 5s 56ms/step - loss: 7.0142e-05\n",
            "Epoch 3/80\n",
            "83/83 [==============================] - 5s 57ms/step - loss: 7.5597e-05\n",
            "Epoch 4/80\n",
            "83/83 [==============================] - 5s 56ms/step - loss: 6.6267e-05\n",
            "Epoch 5/80\n",
            "83/83 [==============================] - 5s 56ms/step - loss: 6.0159e-05\n",
            "Epoch 6/80\n",
            "83/83 [==============================] - 5s 56ms/step - loss: 5.6129e-05\n",
            "Epoch 7/80\n",
            "83/83 [==============================] - 5s 56ms/step - loss: 5.6934e-05\n",
            "Epoch 8/80\n",
            "83/83 [==============================] - 5s 56ms/step - loss: 6.5063e-05\n",
            "Epoch 9/80\n",
            "83/83 [==============================] - 5s 58ms/step - loss: 5.7085e-05\n",
            "Epoch 10/80\n",
            "83/83 [==============================] - 5s 56ms/step - loss: 4.9720e-05\n",
            "Epoch 11/80\n",
            "83/83 [==============================] - 5s 56ms/step - loss: 6.1521e-05\n",
            "Epoch 12/80\n",
            "83/83 [==============================] - 5s 57ms/step - loss: 4.7645e-05\n",
            "Epoch 13/80\n",
            "83/83 [==============================] - 5s 56ms/step - loss: 5.1159e-05\n",
            "Epoch 14/80\n",
            "83/83 [==============================] - 5s 56ms/step - loss: 5.0439e-05\n",
            "Epoch 15/80\n",
            "83/83 [==============================] - 5s 57ms/step - loss: 4.1482e-05\n",
            "Epoch 16/80\n",
            "83/83 [==============================] - 5s 56ms/step - loss: 4.2743e-05\n",
            "Epoch 17/80\n",
            "83/83 [==============================] - 5s 56ms/step - loss: 4.2954e-05\n",
            "Epoch 18/80\n",
            "83/83 [==============================] - 5s 57ms/step - loss: 5.5529e-05\n",
            "Epoch 19/80\n",
            "83/83 [==============================] - 5s 57ms/step - loss: 4.6900e-05\n",
            "Epoch 20/80\n",
            "83/83 [==============================] - 5s 57ms/step - loss: 3.7469e-05\n",
            "Epoch 21/80\n",
            "83/83 [==============================] - 5s 57ms/step - loss: 3.8674e-05\n",
            "Epoch 22/80\n",
            "83/83 [==============================] - 5s 57ms/step - loss: 4.1052e-05\n",
            "Epoch 23/80\n",
            "83/83 [==============================] - 5s 56ms/step - loss: 3.9511e-05\n",
            "Epoch 24/80\n",
            "83/83 [==============================] - 5s 56ms/step - loss: 3.5582e-05\n",
            "Epoch 25/80\n",
            "83/83 [==============================] - 5s 57ms/step - loss: 3.3324e-05\n",
            "Epoch 26/80\n",
            "83/83 [==============================] - 5s 56ms/step - loss: 3.3318e-05\n",
            "Epoch 27/80\n",
            "83/83 [==============================] - 5s 57ms/step - loss: 3.7399e-05\n",
            "Epoch 28/80\n",
            "83/83 [==============================] - 5s 56ms/step - loss: 3.0817e-05\n",
            "Epoch 29/80\n",
            "83/83 [==============================] - 5s 57ms/step - loss: 3.0719e-05\n",
            "Epoch 30/80\n",
            "83/83 [==============================] - 5s 58ms/step - loss: 3.1610e-05\n",
            "Epoch 31/80\n",
            "83/83 [==============================] - 5s 56ms/step - loss: 2.8584e-05\n",
            "Epoch 32/80\n",
            "83/83 [==============================] - 5s 56ms/step - loss: 2.7760e-05\n",
            "Epoch 33/80\n",
            "83/83 [==============================] - 5s 56ms/step - loss: 2.8270e-05\n",
            "Epoch 34/80\n",
            "83/83 [==============================] - 5s 56ms/step - loss: 2.7667e-05\n",
            "Epoch 35/80\n",
            "83/83 [==============================] - 5s 57ms/step - loss: 2.8941e-05\n",
            "Epoch 36/80\n",
            "83/83 [==============================] - 5s 57ms/step - loss: 2.9775e-05\n",
            "Epoch 37/80\n",
            "83/83 [==============================] - 5s 57ms/step - loss: 3.2251e-05\n",
            "Epoch 38/80\n",
            "83/83 [==============================] - 5s 57ms/step - loss: 2.6232e-05\n",
            "Epoch 39/80\n",
            "83/83 [==============================] - 5s 57ms/step - loss: 3.2333e-05\n",
            "Epoch 40/80\n",
            "83/83 [==============================] - 5s 57ms/step - loss: 2.1752e-05\n",
            "Epoch 41/80\n",
            "83/83 [==============================] - 5s 57ms/step - loss: 2.5437e-05\n",
            "Epoch 42/80\n",
            "83/83 [==============================] - 5s 57ms/step - loss: 2.3857e-05\n",
            "Epoch 43/80\n",
            "83/83 [==============================] - 5s 56ms/step - loss: 2.0036e-05\n",
            "Epoch 44/80\n",
            "83/83 [==============================] - 5s 56ms/step - loss: 2.3866e-05\n",
            "Epoch 45/80\n",
            "83/83 [==============================] - 5s 57ms/step - loss: 2.1179e-05\n",
            "Epoch 46/80\n",
            "83/83 [==============================] - 5s 56ms/step - loss: 2.3173e-05\n",
            "Epoch 47/80\n",
            "83/83 [==============================] - 5s 57ms/step - loss: 2.0845e-05\n",
            "Epoch 48/80\n",
            "83/83 [==============================] - 5s 57ms/step - loss: 2.6887e-05\n",
            "Epoch 49/80\n",
            "83/83 [==============================] - 5s 57ms/step - loss: 2.2303e-05\n",
            "Epoch 50/80\n",
            "83/83 [==============================] - 5s 57ms/step - loss: 2.1743e-05\n",
            "Epoch 51/80\n",
            "83/83 [==============================] - 5s 57ms/step - loss: 2.9459e-05\n",
            "Epoch 52/80\n",
            "83/83 [==============================] - 5s 56ms/step - loss: 2.0287e-05\n",
            "Epoch 53/80\n",
            "83/83 [==============================] - 5s 56ms/step - loss: 1.5948e-05\n",
            "Epoch 54/80\n",
            "83/83 [==============================] - 5s 57ms/step - loss: 1.9934e-05\n",
            "Epoch 55/80\n",
            "83/83 [==============================] - 5s 58ms/step - loss: 2.2989e-05\n",
            "Epoch 56/80\n",
            "83/83 [==============================] - 5s 57ms/step - loss: 2.0405e-05\n",
            "Epoch 57/80\n",
            "83/83 [==============================] - 5s 56ms/step - loss: 1.6344e-05\n",
            "Epoch 58/80\n",
            "83/83 [==============================] - 5s 58ms/step - loss: 2.2607e-05\n",
            "Epoch 59/80\n",
            "83/83 [==============================] - 5s 57ms/step - loss: 1.9140e-05\n",
            "Epoch 60/80\n",
            "83/83 [==============================] - 5s 57ms/step - loss: 1.7072e-05\n",
            "Epoch 61/80\n",
            "83/83 [==============================] - 5s 57ms/step - loss: 1.9786e-05\n",
            "Epoch 62/80\n",
            "83/83 [==============================] - 5s 56ms/step - loss: 2.3096e-05\n",
            "Epoch 63/80\n",
            "83/83 [==============================] - 5s 56ms/step - loss: 1.5628e-05\n",
            "Epoch 64/80\n",
            "83/83 [==============================] - 5s 57ms/step - loss: 1.7080e-05\n",
            "Epoch 65/80\n",
            "83/83 [==============================] - 5s 58ms/step - loss: 1.6305e-05\n",
            "Epoch 66/80\n",
            "83/83 [==============================] - 5s 57ms/step - loss: 1.4998e-05\n",
            "Epoch 67/80\n",
            "83/83 [==============================] - 5s 57ms/step - loss: 1.6254e-05\n",
            "Epoch 68/80\n",
            "83/83 [==============================] - 5s 57ms/step - loss: 1.7894e-05\n",
            "Epoch 69/80\n",
            "83/83 [==============================] - 5s 56ms/step - loss: 1.5561e-05\n",
            "Epoch 70/80\n",
            "83/83 [==============================] - 5s 57ms/step - loss: 1.6054e-05\n",
            "Epoch 71/80\n",
            "83/83 [==============================] - 5s 57ms/step - loss: 2.1938e-05\n",
            "Epoch 72/80\n",
            "83/83 [==============================] - 5s 57ms/step - loss: 1.7976e-05\n",
            "Epoch 73/80\n",
            "83/83 [==============================] - 5s 59ms/step - loss: 1.5905e-05\n",
            "Epoch 74/80\n",
            "83/83 [==============================] - 5s 57ms/step - loss: 2.0186e-05\n",
            "Epoch 75/80\n",
            "83/83 [==============================] - 5s 58ms/step - loss: 1.6549e-05\n",
            "Epoch 76/80\n",
            "83/83 [==============================] - 5s 56ms/step - loss: 2.0418e-05\n",
            "Epoch 77/80\n",
            "83/83 [==============================] - 5s 57ms/step - loss: 1.7758e-05\n",
            "Epoch 78/80\n",
            "83/83 [==============================] - 5s 57ms/step - loss: 1.4846e-05\n",
            "Epoch 79/80\n",
            "83/83 [==============================] - 5s 57ms/step - loss: 1.5502e-05\n",
            "Epoch 80/80\n",
            "83/83 [==============================] - 5s 57ms/step - loss: 1.8707e-05\n",
            "Model: \"sequential_1\"\n",
            "_________________________________________________________________\n",
            " Layer (type)                Output Shape              Param #   \n",
            "=================================================================\n",
            " lstm (LSTM)                 (None, 50, 50)            10400     \n",
            "                                                                 \n",
            " lstm_1 (LSTM)               (None, 50)                20200     \n",
            "                                                                 \n",
            " dense_2 (Dense)             (None, 25)                1275      \n",
            "                                                                 \n",
            " dense_3 (Dense)             (None, 1)                 26        \n",
            "                                                                 \n",
            "=================================================================\n",
            "Total params: 31,901\n",
            "Trainable params: 31,901\n",
            "Non-trainable params: 0\n",
            "_________________________________________________________________\n"
          ]
        }
      ],
      "source": [
        "from tensorflow.keras.models import Sequential\n",
        "from tensorflow.keras.layers import Dense\n",
        "from tensorflow.keras.layers import LSTM\n",
        "\n",
        "### Create the Stacked LSTM model\n",
        "lstm_model=Sequential()\n",
        "lstm_model.add(LSTM(50, activation='relu', return_sequences=True,input_shape=X_train_.shape[1:]))\n",
        "lstm_model.add(LSTM(50, return_sequences=False))\n",
        "lstm_model.add(Dense(25))\n",
        "lstm_model.add(Dense(1))\n",
        "# Compile the model\n",
        "lstm_model.compile(optimizer='adam', loss='mean_squared_error')\n",
        "\n",
        "# Model Training...\n",
        "lstm_model.fit(X_train_, y_train_,epochs=80,batch_size=60,verbose=1)\n",
        "lstm_model.summary()"
      ]
    },
    {
      "cell_type": "code",
      "source": [
        "# ##============ HYPER-Tuning the Model ============##\n",
        "\n",
        "# from sklearn.metrics import mean_squared_error\n",
        "# from math import sqrt\n",
        "\n",
        "# for i in range(20, 130, 20):\n",
        "#   lstm_model.fit(X_train_, y_train_,epochs=8,batch_size=i,verbose=0)\n",
        "#   lstm_Pred = lstm_model.predict(X_test_)\n",
        "#   rmse_lstm = sqrt(mean_squared_error(lstm_Pred, y_test_))\n",
        "#   print(i, round(1-rmse_lstm, 4)*100)"
      ],
      "metadata": {
        "id": "wJ8T37zKsRce"
      },
      "execution_count": 29,
      "outputs": []
    },
    {
      "cell_type": "markdown",
      "metadata": {
        "id": "bNIjlDZy4boY"
      },
      "source": [
        "# Making Predictions & Checking their Accuracies"
      ]
    },
    {
      "cell_type": "code",
      "execution_count": 30,
      "metadata": {
        "colab": {
          "base_uri": "https://localhost:8080/"
        },
        "id": "VEhwLtYNhS0l",
        "outputId": "2e47b84a-3b00-4f8b-83a4-6222bdad93ff"
      },
      "outputs": [
        {
          "output_type": "stream",
          "name": "stdout",
          "text": [
            "\n",
            "======>>> 'Root Mean Squared Error' for Testing Data======>>>\n",
            "RMSE for SVR Model is------------------------> 0.412\n",
            "RMSE for Random Forest Regression Model is---> 0.16\n",
            "RMSE for Linear Regression Model is----------> 0.034\n",
            "RMSE for LSTM Model is-----------------------> 0.017\n",
            "RMSE for Multi-RNN Model is------------------> 0.097\n",
            "\n",
            "======>>> 'Training Data Prediction Accuracy'  ======>>>\n",
            "Accuracy for SVR Model is------------------------> 95.88\n",
            "Accuracy for Random Forest Regression Model is---> 99.57000000000001\n",
            "Accuracy for Linear Regression Model is----------> 99.35000000000001\n",
            "Accuracy for LSTM Model is-----------------------> 99.61\n",
            "\n",
            "========>>> 'Testing Data Prediction Accuracy'======>>>\n",
            "Accuracy for SVR Model is------------------------> 58.84\n",
            "Accuracy for Random Forest Regression Model is---> 84.03\n",
            "Accuracy for Linear Regression Model is----------> 96.64\n",
            "Accuracy for LSTM Model is-----------------------> 98.29\n"
          ]
        }
      ],
      "source": [
        "##============  Making Predictions  ============##\n",
        "linear_Pred = linear_model.predict(X_test)\n",
        "forest_Pred = forest_model.predict(X_test)\n",
        "svr_Pred = svr_model.predict(X_test)\n",
        "lstm_Pred = lstm_model.predict(X_test_)\n",
        "\n",
        "##============  Checking Erros on Testing Data  ============##\n",
        "rmse_linear = sqrt(mean_squared_error(linear_Pred, y_test))\n",
        "rmse_forest = sqrt(mean_squared_error(forest_Pred, y_test))\n",
        "rmse_svr = sqrt(mean_squared_error(svr_Pred, y_test))\n",
        "rmse_lstm = sqrt(mean_squared_error(lstm_Pred, y_test_))\n",
        "\n",
        "print(\"\\n======>>> 'Root Mean Squared Error' for Testing Data======>>>\")\n",
        "print(\"RMSE for SVR Model is------------------------>\", round(rmse_svr,3))\n",
        "print(\"RMSE for Random Forest Regression Model is--->\", round(rmse_forest,3))\n",
        "print(\"RMSE for Linear Regression Model is---------->\", round(rmse_linear,3))\n",
        "print(\"RMSE for LSTM Model is----------------------->\", round(rmse_lstm,3))\n",
        "print(\"RMSE for Multi-RNN Model is------------------>\", round(rmse,3))\n",
        "\n",
        "##============  Calculation Accuracy of the Model ============##\n",
        "print(\"\\n======>>> 'Training Data Prediction Accuracy'  ======>>>\")\n",
        "print(\"Accuracy for SVR Model is------------------------>\", round(1-sqrt(mean_squared_error(svr_model.predict(X_train), y_train)), 4)*100)\n",
        "print(\"Accuracy for Random Forest Regression Model is--->\", round(1-sqrt(mean_squared_error(forest_model.predict(X_train), y_train)), 4)*100)\n",
        "print(\"Accuracy for Linear Regression Model is---------->\", round(1-sqrt(mean_squared_error(linear_model.predict(X_train), y_train)), 4)*100)\n",
        "print(\"Accuracy for LSTM Model is----------------------->\", round(1-sqrt(mean_squared_error(lstm_model.predict(X_train_), y_train_)), 4)*100)\n",
        "print(\"\\n========>>> 'Testing Data Prediction Accuracy'======>>>\")\n",
        "print(\"Accuracy for SVR Model is------------------------>\", round(1-rmse_svr, 4)*100)\n",
        "print(\"Accuracy for Random Forest Regression Model is--->\", round(1-rmse_forest, 4)*100)\n",
        "print(\"Accuracy for Linear Regression Model is---------->\", round(1-rmse_linear, 4)*100)\n",
        "print(\"Accuracy for LSTM Model is----------------------->\", round(1-rmse_lstm, 4)*100)\n",
        "\n",
        "###============  Inverse Scaling for the Forecasted value  ============###\n",
        "lstm_Pred=scaler_.inverse_transform(lstm_Pred.reshape(-1, 1))\n",
        "linear_Pred=scaler.inverse_transform(linear_Pred.reshape(1, -1)).T\n",
        "forest_Pred=scaler.inverse_transform(forest_Pred.reshape(1, -1)).T\n",
        "svr_Pred=scaler.inverse_transform(svr_Pred.reshape(1, -1)).T\n",
        "original_Price=scaler.inverse_transform(y_test)"
      ]
    },
    {
      "cell_type": "markdown",
      "metadata": {
        "id": "liRzLi2s4v51"
      },
      "source": [
        "# Plotting \"Actual Price  v/s  Predicted Prices\" given by all the Models"
      ]
    },
    {
      "cell_type": "code",
      "source": [
        "pd.DataFrame(Predic_).plot(grid=True)"
      ],
      "metadata": {
        "colab": {
          "base_uri": "https://localhost:8080/",
          "height": 283
        },
        "id": "zIUayjELaSaJ",
        "outputId": "55d008f3-2677-47bd-95ef-d374cc5b6ddc"
      },
      "execution_count": 31,
      "outputs": [
        {
          "output_type": "execute_result",
          "data": {
            "text/plain": [
              "<matplotlib.axes._subplots.AxesSubplot at 0x7fc75db4d510>"
            ]
          },
          "metadata": {},
          "execution_count": 31
        },
        {
          "output_type": "display_data",
          "data": {
            "image/png": "[encoded data removed]",
            "text/plain": [
              "<Figure size 432x288 with 1 Axes>"
            ]
          },
          "metadata": {
            "needs_background": "light"
          }
        }
      ]
    },
    {
      "cell_type": "code",
      "execution_count": 32,
      "metadata": {
        "colab": {
          "base_uri": "https://localhost:8080/",
          "height": 499
        },
        "id": "uBkhnVTTzkro",
        "outputId": "14e0b5c1-3c10-414b-c1aa-8d10bf96eb00"
      },
      "outputs": [
        {
          "output_type": "display_data",
          "data": {
            "image/png": "[encoded data removed]",
            "text/plain": [
              "<Figure size 1152x576 with 1 Axes>"
            ]
          },
          "metadata": {
            "needs_background": "light"
          }
        }
      ],
      "source": [
        "plt.figure(figsize=(16,8))\n",
        "plt.title('Actual Price and Predicted Prices')\n",
        "plt.plot(original_Price, alpha=1, label='Actual Data')\n",
        "\n",
        "plt.plot(linear_Pred, alpha=0.7, label='linear_Regresn_Preds')\n",
        "plt.plot(forest_Pred, alpha=0.6, label='Random_Forest_Preds')\n",
        "plt.plot(svr_Pred, alpha=0.5, label='SVR_Preds')\n",
        "plt.plot(lstm_Pred, alpha=0.75, label='LSTM_Preds')\n",
        "plt.plot(Predic_, alpha=0.85, label='Multi-RNN',linewidth=2)\n",
        "plt.legend()\n",
        "plt.grid()\n",
        "plt.show()"
      ]
    },
    {
      "cell_type": "markdown",
      "source": [
        "## Just to get some Glimps of the Predicated & Actual Prices: <br>\n",
        "###Here I'm Showing the Last 10 Days Predicted Stock Prices in INR(₹)"
      ],
      "metadata": {
        "id": "x1lLxYH26Kvz"
      }
    },
    {
      "cell_type": "code",
      "source": [
        "pd.DataFrame(np.concatenate((svr_Pred[-10:],forest_Pred[-10:],linear_Pred[-10:],lstm_Pred[-10:],Predic_.values[-10:].reshape(-1,1),original_Price[-10:].reshape(-1,1)), axis=1), \n",
        "             columns=['SVR Predict', 'Random_Forest Predict', 'Linear_Regr Predict', 'LSTM Predict', 'multi-RNN', 'Real Price'], index=last_5days)"
      ],
      "metadata": {
        "id": "cIYt0-70MNa4",
        "colab": {
          "base_uri": "https://localhost:8080/",
          "height": 363
        },
        "outputId": "1ef4d41f-df19-4360-d568-54e57fe583df"
      },
      "execution_count": 33,
      "outputs": [
        {
          "output_type": "execute_result",
          "data": {
            "text/html": [
              "\n",
              "  <div id=\"df-d96d7009-85ae-4d67-b164-796a4617cda7\">\n",
              "    <div class=\"colab-df-container\">\n",
              "      <div>\n",
              "<style scoped>\n",
              "    .dataframe tbody tr th:only-of-type {\n",
              "        vertical-align: middle;\n",
              "    }\n",
              "\n",
              "    .dataframe tbody tr th {\n",
              "        vertical-align: top;\n",
              "    }\n",
              "\n",
              "    .dataframe thead th {\n",
              "        text-align: right;\n",
              "    }\n",
              "</style>\n",
              "<table border=\"1\" class=\"dataframe\">\n",
              "  <thead>\n",
              "    <tr style=\"text-align: right;\">\n",
              "      <th></th>\n",
              "      <th>SVR Predict</th>\n",
              "      <th>Random_Forest Predict</th>\n",
              "      <th>Linear_Regr Predict</th>\n",
              "      <th>LSTM Predict</th>\n",
              "      <th>multi-RNN</th>\n",
              "      <th>Real Price</th>\n",
              "    </tr>\n",
              "  </thead>\n",
              "  <tbody>\n",
              "    <tr>\n",
              "      <th>2022-01-24</th>\n",
              "      <td>1176.929051</td>\n",
              "      <td>1971.6079</td>\n",
              "      <td>2356.202557</td>\n",
              "      <td>2281.881104</td>\n",
              "      <td>2237.315674</td>\n",
              "      <td>2269.10</td>\n",
              "    </tr>\n",
              "    <tr>\n",
              "      <th>2022-01-25</th>\n",
              "      <td>1182.625969</td>\n",
              "      <td>1975.1095</td>\n",
              "      <td>2337.708520</td>\n",
              "      <td>2191.163086</td>\n",
              "      <td>2227.294678</td>\n",
              "      <td>2272.85</td>\n",
              "    </tr>\n",
              "    <tr>\n",
              "      <th>2022-01-27</th>\n",
              "      <td>1186.649593</td>\n",
              "      <td>1978.9911</td>\n",
              "      <td>2336.253866</td>\n",
              "      <td>2243.110352</td>\n",
              "      <td>2222.732422</td>\n",
              "      <td>2277.65</td>\n",
              "    </tr>\n",
              "    <tr>\n",
              "      <th>2022-01-28</th>\n",
              "      <td>1197.160564</td>\n",
              "      <td>1982.7635</td>\n",
              "      <td>2348.065045</td>\n",
              "      <td>2251.176514</td>\n",
              "      <td>2219.114502</td>\n",
              "      <td>2300.65</td>\n",
              "    </tr>\n",
              "    <tr>\n",
              "      <th>2022-01-31</th>\n",
              "      <td>1189.041027</td>\n",
              "      <td>1980.8283</td>\n",
              "      <td>2363.226038</td>\n",
              "      <td>2255.740723</td>\n",
              "      <td>2221.251221</td>\n",
              "      <td>2296.95</td>\n",
              "    </tr>\n",
              "    <tr>\n",
              "      <th>2022-02-01</th>\n",
              "      <td>1196.073725</td>\n",
              "      <td>1983.0901</td>\n",
              "      <td>2356.656435</td>\n",
              "      <td>2278.662598</td>\n",
              "      <td>2222.239258</td>\n",
              "      <td>2301.40</td>\n",
              "    </tr>\n",
              "    <tr>\n",
              "      <th>2022-02-02</th>\n",
              "      <td>1201.809511</td>\n",
              "      <td>1984.8792</td>\n",
              "      <td>2361.028369</td>\n",
              "      <td>2270.882568</td>\n",
              "      <td>2223.562012</td>\n",
              "      <td>2309.10</td>\n",
              "    </tr>\n",
              "    <tr>\n",
              "      <th>2022-02-03</th>\n",
              "      <td>1199.890030</td>\n",
              "      <td>1985.6225</td>\n",
              "      <td>2357.086909</td>\n",
              "      <td>2273.981689</td>\n",
              "      <td>2225.341553</td>\n",
              "      <td>2306.85</td>\n",
              "    </tr>\n",
              "    <tr>\n",
              "      <th>2022-02-04</th>\n",
              "      <td>1226.967684</td>\n",
              "      <td>1988.6472</td>\n",
              "      <td>2375.116815</td>\n",
              "      <td>2282.332764</td>\n",
              "      <td>2226.515625</td>\n",
              "      <td>2325.60</td>\n",
              "    </tr>\n",
              "    <tr>\n",
              "      <th>2022-02-07</th>\n",
              "      <td>1250.616453</td>\n",
              "      <td>1989.2747</td>\n",
              "      <td>2373.553889</td>\n",
              "      <td>2279.611084</td>\n",
              "      <td>2230.103027</td>\n",
              "      <td>2360.15</td>\n",
              "    </tr>\n",
              "  </tbody>\n",
              "</table>\n",
              "</div>\n",
              "      <button class=\"colab-df-convert\" onclick=\"convertToInteractive('df-d96d7009-85ae-4d67-b164-796a4617cda7')\"\n",
              "              title=\"Convert this dataframe to an interactive table.\"\n",
              "              style=\"display:none;\">\n",
              "        \n",
              "  <svg xmlns=\"http://www.w3.org/2000/svg\" height=\"24px\"viewBox=\"0 0 24 24\"\n",
              "       width=\"24px\">\n",
              "    <path d=\"M0 0h24v24H0V0z\" fill=\"none\"/>\n",
              "    <path d=\"M18.56 5.44l.94 2.06.94-2.06 2.06-.94-2.06-.94-.94-2.06-.94 2.06-2.06.94zm-11 1L8.5 8.5l.94-2.06 2.06-.94-2.06-.94L8.5 2.5l-.94 2.06-2.06.94zm10 10l.94 2.06.94-2.06 2.06-.94-2.06-.94-.94-2.06-.94 2.06-2.06.94z\"/><path d=\"M17.41 7.96l-1.37-1.37c-.4-.4-.92-.59-1.43-.59-.52 0-1.04.2-1.43.59L10.3 9.45l-7.72 7.72c-.78.78-.78 2.05 0 2.83L4 21.41c.39.39.9.59 1.41.59.51 0 1.02-.2 1.41-.59l7.78-7.78 2.81-2.81c.8-.78.8-2.07 0-2.86zM5.41 20L4 18.59l7.72-7.72 1.47 1.35L5.41 20z\"/>\n",
              "  </svg>\n",
              "      </button>\n",
              "      \n",
              "  <style>\n",
              "    .colab-df-container {\n",
              "      display:flex;\n",
              "      flex-wrap:wrap;\n",
              "      gap: 12px;\n",
              "    }\n",
              "\n",
              "    .colab-df-convert {\n",
              "      background-color: #E8F0FE;\n",
              "      border: none;\n",
              "      border-radius: 50%;\n",
              "      cursor: pointer;\n",
              "      display: none;\n",
              "      fill: #1967D2;\n",
              "      height: 32px;\n",
              "      padding: 0 0 0 0;\n",
              "      width: 32px;\n",
              "    }\n",
              "\n",
              "    .colab-df-convert:hover {\n",
              "      background-color: #E2EBFA;\n",
              "      box-shadow: 0px 1px 2px rgba(60, 64, 67, 0.3), 0px 1px 3px 1px rgba(60, 64, 67, 0.15);\n",
              "      fill: #174EA6;\n",
              "    }\n",
              "\n",
              "    [theme=dark] .colab-df-convert {\n",
              "      background-color: #3B4455;\n",
              "      fill: #D2E3FC;\n",
              "    }\n",
              "\n",
              "    [theme=dark] .colab-df-convert:hover {\n",
              "      background-color: #434B5C;\n",
              "      box-shadow: 0px 1px 3px 1px rgba(0, 0, 0, 0.15);\n",
              "      filter: drop-shadow(0px 1px 2px rgba(0, 0, 0, 0.3));\n",
              "      fill: #FFFFFF;\n",
              "    }\n",
              "  </style>\n",
              "\n",
              "      <script>\n",
              "        const buttonEl =\n",
              "          document.querySelector('#df-d96d7009-85ae-4d67-b164-796a4617cda7 button.colab-df-convert');\n",
              "        buttonEl.style.display =\n",
              "          google.colab.kernel.accessAllowed ? 'block' : 'none';\n",
              "\n",
              "        async function convertToInteractive(key) {\n",
              "          const element = document.querySelector('#df-d96d7009-85ae-4d67-b164-796a4617cda7');\n",
              "          const dataTable =\n",
              "            await google.colab.kernel.invokeFunction('convertToInteractive',\n",
              "                                                     [key], {});\n",
              "          if (!dataTable) return;\n",
              "\n",
              "          const docLinkHtml = 'Like what you see? Visit the ' +\n",
              "            '<a target=\"_blank\" href=https://colab.research.google.com/notebooks/data_table.ipynb>data table notebook</a>'\n",
              "            + ' to learn more about interactive tables.';\n",
              "          element.innerHTML = '';\n",
              "          dataTable['output_type'] = 'display_data';\n",
              "          await google.colab.output.renderOutput(dataTable, element);\n",
              "          const docLink = document.createElement('div');\n",
              "          docLink.innerHTML = docLinkHtml;\n",
              "          element.appendChild(docLink);\n",
              "        }\n",
              "      </script>\n",
              "    </div>\n",
              "  </div>\n",
              "  "
            ],
            "text/plain": [
              "            SVR Predict  Random_Forest Predict  ...    multi-RNN  Real Price\n",
              "2022-01-24  1176.929051              1971.6079  ...  2237.315674     2269.10\n",
              "2022-01-25  1182.625969              1975.1095  ...  2227.294678     2272.85\n",
              "2022-01-27  1186.649593              1978.9911  ...  2222.732422     2277.65\n",
              "2022-01-28  1197.160564              1982.7635  ...  2219.114502     2300.65\n",
              "2022-01-31  1189.041027              1980.8283  ...  2221.251221     2296.95\n",
              "2022-02-01  1196.073725              1983.0901  ...  2222.239258     2301.40\n",
              "2022-02-02  1201.809511              1984.8792  ...  2223.562012     2309.10\n",
              "2022-02-03  1199.890030              1985.6225  ...  2225.341553     2306.85\n",
              "2022-02-04  1226.967684              1988.6472  ...  2226.515625     2325.60\n",
              "2022-02-07  1250.616453              1989.2747  ...  2230.103027     2360.15\n",
              "\n",
              "[10 rows x 6 columns]"
            ]
          },
          "metadata": {},
          "execution_count": 33
        }
      ]
    },
    {
      "cell_type": "markdown",
      "metadata": {
        "id": "7GII1liW5L72"
      },
      "source": [
        "# **Observations**:"
      ]
    },
    {
      "cell_type": "code",
      "execution_count": 34,
      "metadata": {
        "id": "JDR0n94Q06Pd",
        "colab": {
          "base_uri": "https://localhost:8080/",
          "height": 500
        },
        "outputId": "5471afa5-159b-4150-e876-fbeb18cbbb76"
      },
      "outputs": [
        {
          "output_type": "display_data",
          "data": {
            "image/png": "[encoded data removed]",
            "text/plain": [
              "<Figure size 1152x576 with 1 Axes>"
            ]
          },
          "metadata": {
            "needs_background": "light"
          }
        }
      ],
      "source": [
        "plt.figure(figsize=(16,8))\n",
        "plt.title('Model & its Accuracy Plot')\n",
        "plt.bar('SVR_Predictor', round(1-rmse_svr, 4)*100)\n",
        "plt.bar('Random_Forest Predictor', round(1-rmse_forest, 4)*100)\n",
        "plt.bar('Linear_Regr Predictor', round(1-rmse_linear, 4)*100)\n",
        "plt.bar('LSTM Predictor', round(1-rmse_lstm, 4)*100)\n",
        "plt.bar('multi-RNN Predictor', round(1-rmse, 4)*100)\n",
        "\n",
        "plt.grid()\n",
        "plt.show()"
      ]
    },
    {
      "cell_type": "markdown",
      "source": [
        "# **Conclusions**:"
      ],
      "metadata": {
        "id": "S3W-JDB87Hjt"
      }
    },
    {
      "cell_type": "markdown",
      "source": [
        "After Thoroughly working with all the 4 models, which are coming from totally Different modeling techiniques we can say that,\n",
        "\n",
        "**1)** \n",
        "*Gradient Descent Algorithm Based Linear Regression model works Prety well for such a Time-Series Predictions.* <br><br>\n",
        "**2)**\n",
        "Whereas Recurrent Neural Network Based LSTM, Performed exceptionally well for the given dataset. <br>\n",
        "\n",
        "> Also, During LSTM Hyper-Tuning...I've also Noticed that, \n",
        "*when number of Epochs increases beyond 20, training set Loss Decreases & becomes nearly zero. Whereas, Validation Loss increases depicting the Overfitting of the model on training data.*\n",
        "<br><br>\n",
        "\n",
        "**3)**\n",
        "*Support Vector Regressor Model is NOT at all good for such Time-Series Analysis.*\n",
        "<br><br>\n",
        "**4)**\n",
        " *Ensemble learning based RandomForestRegressor model gives us Better results than SVM but, \n",
        "gradually getting converted into a Flat Horizontal line when I tried to Predict for too much ahead of time*"
      ],
      "metadata": {
        "id": "ef3dnwtyLF9f"
      }
    },
    {
      "cell_type": "code",
      "source": [
        ""
      ],
      "metadata": {
        "id": "7gfhLKwcm6My"
      },
      "execution_count": 64,
      "outputs": []
    },
    {
      "cell_type": "markdown",
      "source": [
        "# Forecasting the Stock Prices"
      ],
      "metadata": {
        "id": "Q3NqjNhdO92_"
      }
    },
    {
      "cell_type": "code",
      "source": [
        "# symbol = 'HINDUNILVR.NS'\n",
        "\n",
        "# ticker = yf.Ticker(symbol)\n",
        "# data = ticker.history(start='2022-01-08', end='2022-01-15', interval='30m', rounding=True, prepost=True, actions=False)\n",
        "# last_data = pd.DataFrame(data)\n",
        "# last_data"
      ],
      "metadata": {
        "id": "Pj8r0b4ZRqCj"
      },
      "execution_count": 65,
      "outputs": []
    },
    {
      "cell_type": "code",
      "source": [
        "# df = pd.DataFrame(last_data)\n",
        "# indices = df.index\n",
        "# new_df=pd.DataFrame(df.index)\n",
        "# new_df.rename(columns = {'Datetime':'ds'}, inplace = True)\n",
        "# new_df['y'] = df['Close'].values\n",
        "# new_df.dropna(inplace=True)\n",
        "# new_df"
      ],
      "metadata": {
        "id": "Z_lpLarfJ5th"
      },
      "execution_count": 66,
      "outputs": []
    },
    {
      "cell_type": "code",
      "source": [
        "# from datetime import datetime, timezone\n",
        "# new_df['ds'] = new_df['ds'].dt.tz_localize(None)\n",
        "# new_df"
      ],
      "metadata": {
        "id": "chQyDapBKb8V"
      },
      "execution_count": 67,
      "outputs": []
    },
    {
      "cell_type": "code",
      "source": [
        "# # last_data = len(last_data['Close'])\n",
        "# print(last_data.shape)\n",
        "# df_past = last_data['Close'].tolist()\n",
        "# df_past"
      ],
      "metadata": {
        "id": "HwmTcZCoVwXU"
      },
      "execution_count": 68,
      "outputs": []
    },
    {
      "cell_type": "code",
      "source": [
        "# def forecast_nextDay(past_list):\n",
        "#   X=scaler_.transform(np.array(past_list).reshape(-1, 1))\n",
        "#   next_day=scaler_.inverse_transform(lstm_model.predict(X.reshape(1,predict_for_next,1)))[0][0]\n",
        "#   return next_day"
      ],
      "metadata": {
        "id": "QmxXFSd8ZNYk"
      },
      "execution_count": 69,
      "outputs": []
    },
    {
      "cell_type": "code",
      "source": [
        "# # look_back_upto_last = 20  #Days in Past\n",
        "# predict_for_next = 12     #Days\n",
        "# i=0\n",
        "# x_input = list(df_past)[-predict_for_next:]\n",
        "# while i<predict_for_next:\n",
        "#   X=scaler_.transform(np.array(x_input[i:]).reshape(-1,1))\n",
        "#   next_day=scaler_.inverse_transform(lstm_model.predict(X.reshape(1,np.array(df_past).shape[0],1)))[0][0]\n",
        "#   x_input.append(next_day)\n",
        "#   print(i, next_day)\n",
        "#   i+=1\n",
        "# pd.DataFrame(x_input).plot(figsize=(16,8), grid=True, xlabel='Days', ylabel='Price')\n",
        "# plt.show()"
      ],
      "metadata": {
        "id": "WF8f2ldbe_ot"
      },
      "execution_count": 70,
      "outputs": []
    },
    {
      "cell_type": "code",
      "source": [
        "# pd.DataFrame(x_input)"
      ],
      "metadata": {
        "id": "xcYc035t1DtU"
      },
      "execution_count": 71,
      "outputs": []
    },
    {
      "cell_type": "code",
      "source": [
        "# ticker = yf.Ticker(symbol)\n",
        "# data = ticker.history(period='max', interval='1d', rounding=True, prepost=True, actions=False)\n",
        "# back_test = pd.DataFrame(data)['Close']\n",
        "# Orig = back_test.tail(predict_for_next)\n",
        "# Orig"
      ],
      "metadata": {
        "id": "sVIspBVbsSHw"
      },
      "execution_count": 72,
      "outputs": []
    },
    {
      "cell_type": "code",
      "source": [
        "# plt.figure(figsize=(16,8))\n",
        "# plt.title('Actual V/s Predicted  Back-Testing')\n",
        "# plt.plot(Orig, alpha=1, label='Actual Price')\n",
        "\n",
        "# plt.plot(pd.DataFrame(x_input, index=Orig.index), alpha=0.85, label='Predicted_price',linewidth=2)\n",
        "# plt.legend()\n",
        "# plt.grid()\n",
        "# plt.show()"
      ],
      "metadata": {
        "id": "TD8FYPuSwYbR"
      },
      "execution_count": 73,
      "outputs": []
    },
    {
      "cell_type": "code",
      "source": [
        ""
      ],
      "metadata": {
        "id": "Cvs76VWLyY4_"
      },
      "execution_count": 73,
      "outputs": []
    },
    {
      "cell_type": "code",
      "source": [
        ""
      ],
      "metadata": {
        "id": "4cDxPTPNWOHL"
      },
      "execution_count": 73,
      "outputs": []
    },
    {
      "cell_type": "code",
      "source": [
        "!pip install prophet\n",
        "\n",
        "from datetime import date, timedelta\n",
        "from prophet.plot import plot_plotly, plot_components_plotly\n",
        "from fbprophet import Prophet\n",
        "import pandas as pd\n",
        "from datetime import datetime, timezone\n",
        "## Import real-time Stock Market API\n",
        "!pip install yfinance\n",
        "import yfinance as yf"
      ],
      "metadata": {
        "id": "vbHGIbDvWXyg",
        "colab": {
          "base_uri": "https://localhost:8080/"
        },
        "outputId": "ae1ba6d0-6b00-43e4-fa86-c45fa5a4e679"
      },
      "execution_count": 39,
      "outputs": [
        {
          "output_type": "stream",
          "name": "stdout",
          "text": [
            "Collecting prophet\n",
            "  Downloading prophet-1.0.1.tar.gz (65 kB)\n",
            "\u001b[K     |████████████████████████████████| 65 kB 2.9 MB/s \n",
            "\u001b[?25hRequirement already satisfied: Cython>=0.22 in /usr/local/lib/python3.7/dist-packages (from prophet) (0.29.27)\n",
            "Collecting cmdstanpy==0.9.68\n",
            "  Downloading cmdstanpy-0.9.68-py3-none-any.whl (49 kB)\n",
            "\u001b[K     |████████████████████████████████| 49 kB 6.2 MB/s \n",
            "\u001b[?25hRequirement already satisfied: pystan~=2.19.1.1 in /usr/local/lib/python3.7/dist-packages (from prophet) (2.19.1.1)\n",
            "Requirement already satisfied: numpy>=1.15.4 in /usr/local/lib/python3.7/dist-packages (from prophet) (1.19.5)\n",
            "Requirement already satisfied: pandas>=1.0.4 in /usr/local/lib/python3.7/dist-packages (from prophet) (1.3.5)\n",
            "Requirement already satisfied: matplotlib>=2.0.0 in /usr/local/lib/python3.7/dist-packages (from prophet) (3.2.2)\n",
            "Requirement already satisfied: LunarCalendar>=0.0.9 in /usr/local/lib/python3.7/dist-packages (from prophet) (0.0.9)\n",
            "Requirement already satisfied: convertdate>=2.1.2 in /usr/local/lib/python3.7/dist-packages (from prophet) (2.4.0)\n",
            "Requirement already satisfied: holidays>=0.10.2 in /usr/local/lib/python3.7/dist-packages (from prophet) (0.10.5.2)\n",
            "Requirement already satisfied: setuptools-git>=1.2 in /usr/local/lib/python3.7/dist-packages (from prophet) (1.2)\n",
            "Requirement already satisfied: python-dateutil>=2.8.0 in /usr/local/lib/python3.7/dist-packages (from prophet) (2.8.2)\n",
            "Requirement already satisfied: tqdm>=4.36.1 in /usr/local/lib/python3.7/dist-packages (from prophet) (4.62.3)\n",
            "Collecting ujson\n",
            "  Downloading ujson-5.1.0-cp37-cp37m-manylinux_2_17_x86_64.manylinux2014_x86_64.whl (43 kB)\n",
            "\u001b[K     |████████████████████████████████| 43 kB 2.7 MB/s \n",
            "\u001b[?25hRequirement already satisfied: pymeeus<=1,>=0.3.13 in /usr/local/lib/python3.7/dist-packages (from convertdate>=2.1.2->prophet) (0.5.11)\n",
            "Requirement already satisfied: hijri-converter in /usr/local/lib/python3.7/dist-packages (from holidays>=0.10.2->prophet) (2.2.2)\n",
            "Requirement already satisfied: korean-lunar-calendar in /usr/local/lib/python3.7/dist-packages (from holidays>=0.10.2->prophet) (0.2.1)\n",
            "Requirement already satisfied: six in /usr/local/lib/python3.7/dist-packages (from holidays>=0.10.2->prophet) (1.15.0)\n",
            "Requirement already satisfied: ephem>=3.7.5.3 in /usr/local/lib/python3.7/dist-packages (from LunarCalendar>=0.0.9->prophet) (4.1.3)\n",
            "Requirement already satisfied: pytz in /usr/local/lib/python3.7/dist-packages (from LunarCalendar>=0.0.9->prophet) (2018.9)\n",
            "Requirement already satisfied: pyparsing!=2.0.4,!=2.1.2,!=2.1.6,>=2.0.1 in /usr/local/lib/python3.7/dist-packages (from matplotlib>=2.0.0->prophet) (3.0.7)\n",
            "Requirement already satisfied: cycler>=0.10 in /usr/local/lib/python3.7/dist-packages (from matplotlib>=2.0.0->prophet) (0.11.0)\n",
            "Requirement already satisfied: kiwisolver>=1.0.1 in /usr/local/lib/python3.7/dist-packages (from matplotlib>=2.0.0->prophet) (1.3.2)\n",
            "Building wheels for collected packages: prophet\n",
            "  Building wheel for prophet (setup.py) ... \u001b[?25l\u001b[?25hdone\n",
            "  Created wheel for prophet: filename=prophet-1.0.1-py3-none-any.whl size=6639540 sha256=abc22492c1f9ade1fcbe83e96e6a1e1e9672bf8e51a86a1ddcf909480c099669\n",
            "  Stored in directory: /root/.cache/pip/wheels/4e/a0/1a/02c9ec9e3e9de6bdbb3d769d11992a6926889d71567d6b9b67\n",
            "Successfully built prophet\n",
            "Installing collected packages: ujson, cmdstanpy, prophet\n",
            "  Attempting uninstall: cmdstanpy\n",
            "    Found existing installation: cmdstanpy 0.9.5\n",
            "    Uninstalling cmdstanpy-0.9.5:\n",
            "      Successfully uninstalled cmdstanpy-0.9.5\n",
            "\u001b[31mERROR: pip's dependency resolver does not currently take into account all the packages that are installed. This behaviour is the source of the following dependency conflicts.\n",
            "fbprophet 0.7.1 requires cmdstanpy==0.9.5, but you have cmdstanpy 0.9.68 which is incompatible.\u001b[0m\n",
            "Successfully installed cmdstanpy-0.9.68 prophet-1.0.1 ujson-5.1.0\n",
            "Requirement already satisfied: yfinance in /usr/local/lib/python3.7/dist-packages (0.1.70)\n",
            "Requirement already satisfied: pandas>=0.24.0 in /usr/local/lib/python3.7/dist-packages (from yfinance) (1.3.5)\n",
            "Requirement already satisfied: lxml>=4.5.1 in /usr/local/lib/python3.7/dist-packages (from yfinance) (4.7.1)\n",
            "Requirement already satisfied: multitasking>=0.0.7 in /usr/local/lib/python3.7/dist-packages (from yfinance) (0.0.10)\n",
            "Requirement already satisfied: numpy>=1.15 in /usr/local/lib/python3.7/dist-packages (from yfinance) (1.19.5)\n",
            "Requirement already satisfied: requests>=2.26 in /usr/local/lib/python3.7/dist-packages (from yfinance) (2.27.1)\n",
            "Requirement already satisfied: pytz>=2017.3 in /usr/local/lib/python3.7/dist-packages (from pandas>=0.24.0->yfinance) (2018.9)\n",
            "Requirement already satisfied: python-dateutil>=2.7.3 in /usr/local/lib/python3.7/dist-packages (from pandas>=0.24.0->yfinance) (2.8.2)\n",
            "Requirement already satisfied: six>=1.5 in /usr/local/lib/python3.7/dist-packages (from python-dateutil>=2.7.3->pandas>=0.24.0->yfinance) (1.15.0)\n",
            "Requirement already satisfied: urllib3<1.27,>=1.21.1 in /usr/local/lib/python3.7/dist-packages (from requests>=2.26->yfinance) (1.24.3)\n",
            "Requirement already satisfied: charset-normalizer~=2.0.0 in /usr/local/lib/python3.7/dist-packages (from requests>=2.26->yfinance) (2.0.11)\n",
            "Requirement already satisfied: idna<4,>=2.5 in /usr/local/lib/python3.7/dist-packages (from requests>=2.26->yfinance) (2.10)\n",
            "Requirement already satisfied: certifi>=2017.4.17 in /usr/local/lib/python3.7/dist-packages (from requests>=2.26->yfinance) (2021.10.8)\n"
          ]
        }
      ]
    },
    {
      "cell_type": "code",
      "source": [
        "from datetime import datetime, timedelta\n",
        "\n",
        "# Get last week's date\n",
        "last_week = date.today() - timedelta(7)\n",
        "# Get Tomorrow\n",
        "tomorrow = date.today() + timedelta(1)\n",
        "print(last_week, tomorrow)"
      ],
      "metadata": {
        "colab": {
          "base_uri": "https://localhost:8080/"
        },
        "id": "UDpxXuKWLweJ",
        "outputId": "54523d4d-cc14-4149-cf7a-15913a10a844"
      },
      "execution_count": 74,
      "outputs": [
        {
          "output_type": "stream",
          "name": "stdout",
          "text": [
            "2022-01-31 2022-02-08\n"
          ]
        }
      ]
    },
    {
      "cell_type": "markdown",
      "source": [
        "# 6) Using FB-Prophet model"
      ],
      "metadata": {
        "id": "F0DzfhvriWSy"
      }
    },
    {
      "cell_type": "code",
      "source": [
        "def stock_Predict(company_name='JUSTDIAL.NS', candle='5m', predict_for_next=10, short_term=True, future=False):\n",
        "  \"\"\"Mostly Effective Only for Intra-Day Traidings...\"\"\"\n",
        "  # intervals like: [1m, 2m, 5m, 15m, 30m, 60m, 90m, 1h, 1d, 5d, 1wk, 1mo, 3mo]\n",
        "\n",
        "  #For Long Term\n",
        "  if short_term is False:\n",
        "    col = 'Date'\n",
        "    # Get last week's date\n",
        "    last_week = date.today() - timedelta(400)\n",
        "    # Get Tomorrow\n",
        "    tomorrow = date.today() + timedelta(1)\n",
        "  else:\n",
        "    col = 'Datetime'\n",
        "    # Get last week's date\n",
        "    last_week = date.today() - timedelta(6)\n",
        "    # Get Tomorrow\n",
        "    tomorrow = date.today() + timedelta(1)\n",
        "\n",
        "  ticker = yf.Ticker(company_name)\n",
        "  data = ticker.history(start=last_week, end=tomorrow, interval=candle, rounding=True, prepost=True, actions=False)\n",
        "  df = pd.DataFrame(data)\n",
        "  indices = df.index\n",
        "  new_df=pd.DataFrame(df.index)\n",
        "  new_df.rename(columns = {col:'ds'}, inplace = True)\n",
        "  new_df['y'] = df['Close'].values\n",
        "  # new_df.dropna(inplace=True)\n",
        "  new_df['ds'] = new_df['ds'].dt.tz_localize(None)\n",
        "  new_df\n",
        "  # new_df.plot(x='ds', y='y', figsize=(24,12), grid=True)\n",
        "\n",
        "  ## Backtest Spliting\n",
        "  split=len(new_df)-predict_for_next\n",
        "\n",
        "  if future:\n",
        "    # Model Building & Training...\n",
        "    fb_model = Prophet()\n",
        "    fb_model.fit(new_df)\n",
        "    future = fb_model.make_future_dataframe(periods=predict_for_next)\n",
        "    forecast = fb_model.predict(future)\n",
        "\n",
        "     # Predicting...\n",
        "    forecasted=forecast[['yhat', 'yhat_lower', 'yhat_upper', 'trend']].tail(predict_for_next).reset_index(drop=True)\n",
        "    # actual_available=new_df.tail(predict_for_next).reset_index(drop=True)\n",
        "\n",
        "    result = forecasted\n",
        "    # print(result, end='\\n\\n')\n",
        "    plot_plotly(fb_model, forecast)\n",
        "      # plot_components_plotly(fb_model, forecast)\n",
        "  else:\n",
        "\n",
        "    train = new_df.iloc[:split]\n",
        "    train.reset_index(drop=True)\n",
        "    test = pd.DataFrame(new_df.iloc[split:])\n",
        "    test.reset_index(drop=True)\n",
        "\n",
        "    # Model Building & Training...\n",
        "    fb_model = Prophet()\n",
        "    fb_model.fit(train)\n",
        "    future = fb_model.make_future_dataframe(periods=predict_for_next)\n",
        "    forecast = fb_model.predict(future)\n",
        "\n",
        "    # Predicting...\n",
        "    forecasted=forecast[['yhat', 'yhat_lower', 'yhat_upper', 'trend']].tail(predict_for_next).reset_index(drop=True)\n",
        "    actual_available=test.tail(predict_for_next).reset_index(drop=True)\n",
        "\n",
        "    result = pd.concat([actual_available, forecasted], axis=1, join='outer')\n",
        "    # print(result, end='\\n\\n')\n",
        "\n",
        "    # ERROR Check\n",
        "    from statsmodels.tools.eval_measures import rmse\n",
        "    preds = forecast.iloc[-predict_for_next:]['yhat']\n",
        "    Er = rmse(preds,test['y'].tail(predict_for_next))\n",
        "    print('RMSE between Actual & Predicted=', Er)\n",
        "    ##============  Model Evaluation on Training Data  ============##\n",
        "    from sklearn.metrics import mean_squared_error, r2_score\n",
        "    from math import sqrt\n",
        "    rmse = sqrt(mean_squared_error(preds,test['y'].tail(predict_for_next)))\n",
        "    r2 = r2_score(test['y'].tail(predict_for_next), preds)\n",
        "    print(\"Root Mean Sqaured Error :---------->\", round(rmse,3))\n",
        "    print(\"Testing Accuracy Score :---------->\", round(100*r2,3),'%')\n",
        "    \n",
        "    if Er < 30:\n",
        "      print(company_name)\n",
        "      print('\\nMean value of Predicted Data is', forecast['yhat'].tail(predict_for_next).mean())\n",
        "      print('Mean value of Test Data is', test['y'].mean())\n",
        "      # plot_plotly(fb_model, forecast)\n",
        "      # plot_components_plotly(fb_model, forecast)\n",
        "  return fb_model, forecast, result"
      ],
      "metadata": {
        "id": "Rbg02rhdawiU"
      },
      "execution_count": 75,
      "outputs": []
    },
    {
      "cell_type": "code",
      "source": [
        "### intervals like: [1m, 2m, 5m, 15m, 30m, 60m, 90m, 1h, 1d, 5d, 1wk, 1mo, 3mo]\n",
        "\n",
        "model, forecast, result = stock_Predict(company_name='KOTAKBANK.NS', candle='1d', predict_for_next=5, short_term=False, future=False)\n",
        "\n",
        "result['Actual_Status'] = ['Down', 'UP'][result['y'].diff(1).tail(1).values[0]>0]\n",
        "result['Predicted_Status'] = ['Down', 'UP'][result['yhat'].diff(1).tail(1).values[0]>0]\n",
        "result"
      ],
      "metadata": {
        "colab": {
          "base_uri": "https://localhost:8080/",
          "height": 442
        },
        "id": "I2jdWl6Ui7Ss",
        "outputId": "a662918c-aca7-4033-e005-10700403e09b"
      },
      "execution_count": 76,
      "outputs": [
        {
          "output_type": "stream",
          "name": "stderr",
          "text": [
            "INFO:fbprophet:Disabling yearly seasonality. Run prophet with yearly_seasonality=True to override this.\n",
            "INFO:fbprophet:Disabling daily seasonality. Run prophet with daily_seasonality=True to override this.\n"
          ]
        },
        {
          "output_type": "stream",
          "name": "stdout",
          "text": [
            "RMSE between Actual & Predicted= 91.90154301255654\n",
            "Root Mean Sqaured Error :----------> 91.902\n",
            "Testing Accuracy Score :----------> -502.531 %\n"
          ]
        },
        {
          "output_type": "stream",
          "name": "stderr",
          "text": [
            "/usr/local/lib/python3.7/dist-packages/ipykernel_launcher.py:5: DeprecationWarning:\n",
            "\n",
            "In future, it will be an error for 'np.bool_' scalars to be interpreted as an index\n",
            "\n",
            "/usr/local/lib/python3.7/dist-packages/ipykernel_launcher.py:6: DeprecationWarning:\n",
            "\n",
            "In future, it will be an error for 'np.bool_' scalars to be interpreted as an index\n",
            "\n"
          ]
        },
        {
          "output_type": "execute_result",
          "data": {
            "text/html": [
              "\n",
              "  <div id=\"df-74c00872-eb01-41f5-84a3-f5a586c7bd98\">\n",
              "    <div class=\"colab-df-container\">\n",
              "      <div>\n",
              "<style scoped>\n",
              "    .dataframe tbody tr th:only-of-type {\n",
              "        vertical-align: middle;\n",
              "    }\n",
              "\n",
              "    .dataframe tbody tr th {\n",
              "        vertical-align: top;\n",
              "    }\n",
              "\n",
              "    .dataframe thead th {\n",
              "        text-align: right;\n",
              "    }\n",
              "</style>\n",
              "<table border=\"1\" class=\"dataframe\">\n",
              "  <thead>\n",
              "    <tr style=\"text-align: right;\">\n",
              "      <th></th>\n",
              "      <th>ds</th>\n",
              "      <th>y</th>\n",
              "      <th>yhat</th>\n",
              "      <th>yhat_lower</th>\n",
              "      <th>yhat_upper</th>\n",
              "      <th>trend</th>\n",
              "      <th>Actual_Status</th>\n",
              "      <th>Predicted_Status</th>\n",
              "    </tr>\n",
              "  </thead>\n",
              "  <tbody>\n",
              "    <tr>\n",
              "      <th>0</th>\n",
              "      <td>2022-02-01</td>\n",
              "      <td>1882.30</td>\n",
              "      <td>1812.233803</td>\n",
              "      <td>1732.796977</td>\n",
              "      <td>1900.665659</td>\n",
              "      <td>1813.919835</td>\n",
              "      <td>Down</td>\n",
              "      <td>UP</td>\n",
              "    </tr>\n",
              "    <tr>\n",
              "      <th>1</th>\n",
              "      <td>2022-02-02</td>\n",
              "      <td>1942.60</td>\n",
              "      <td>1806.197270</td>\n",
              "      <td>1721.133557</td>\n",
              "      <td>1892.485716</td>\n",
              "      <td>1811.388227</td>\n",
              "      <td>Down</td>\n",
              "      <td>UP</td>\n",
              "    </tr>\n",
              "    <tr>\n",
              "      <th>2</th>\n",
              "      <td>2022-02-03</td>\n",
              "      <td>1909.05</td>\n",
              "      <td>1803.411872</td>\n",
              "      <td>1714.645359</td>\n",
              "      <td>1887.332608</td>\n",
              "      <td>1808.856618</td>\n",
              "      <td>Down</td>\n",
              "      <td>UP</td>\n",
              "    </tr>\n",
              "    <tr>\n",
              "      <th>3</th>\n",
              "      <td>2022-02-04</td>\n",
              "      <td>1884.20</td>\n",
              "      <td>1798.087509</td>\n",
              "      <td>1715.134216</td>\n",
              "      <td>1885.296880</td>\n",
              "      <td>1806.325010</td>\n",
              "      <td>Down</td>\n",
              "      <td>UP</td>\n",
              "    </tr>\n",
              "    <tr>\n",
              "      <th>4</th>\n",
              "      <td>2022-02-07</td>\n",
              "      <td>1828.45</td>\n",
              "      <td>1816.629842</td>\n",
              "      <td>1729.875179</td>\n",
              "      <td>1891.401736</td>\n",
              "      <td>1803.793402</td>\n",
              "      <td>Down</td>\n",
              "      <td>UP</td>\n",
              "    </tr>\n",
              "  </tbody>\n",
              "</table>\n",
              "</div>\n",
              "      <button class=\"colab-df-convert\" onclick=\"convertToInteractive('df-74c00872-eb01-41f5-84a3-f5a586c7bd98')\"\n",
              "              title=\"Convert this dataframe to an interactive table.\"\n",
              "              style=\"display:none;\">\n",
              "        \n",
              "  <svg xmlns=\"http://www.w3.org/2000/svg\" height=\"24px\"viewBox=\"0 0 24 24\"\n",
              "       width=\"24px\">\n",
              "    <path d=\"M0 0h24v24H0V0z\" fill=\"none\"/>\n",
              "    <path d=\"M18.56 5.44l.94 2.06.94-2.06 2.06-.94-2.06-.94-.94-2.06-.94 2.06-2.06.94zm-11 1L8.5 8.5l.94-2.06 2.06-.94-2.06-.94L8.5 2.5l-.94 2.06-2.06.94zm10 10l.94 2.06.94-2.06 2.06-.94-2.06-.94-.94-2.06-.94 2.06-2.06.94z\"/><path d=\"M17.41 7.96l-1.37-1.37c-.4-.4-.92-.59-1.43-.59-.52 0-1.04.2-1.43.59L10.3 9.45l-7.72 7.72c-.78.78-.78 2.05 0 2.83L4 21.41c.39.39.9.59 1.41.59.51 0 1.02-.2 1.41-.59l7.78-7.78 2.81-2.81c.8-.78.8-2.07 0-2.86zM5.41 20L4 18.59l7.72-7.72 1.47 1.35L5.41 20z\"/>\n",
              "  </svg>\n",
              "      </button>\n",
              "      \n",
              "  <style>\n",
              "    .colab-df-container {\n",
              "      display:flex;\n",
              "      flex-wrap:wrap;\n",
              "      gap: 12px;\n",
              "    }\n",
              "\n",
              "    .colab-df-convert {\n",
              "      background-color: #E8F0FE;\n",
              "      border: none;\n",
              "      border-radius: 50%;\n",
              "      cursor: pointer;\n",
              "      display: none;\n",
              "      fill: #1967D2;\n",
              "      height: 32px;\n",
              "      padding: 0 0 0 0;\n",
              "      width: 32px;\n",
              "    }\n",
              "\n",
              "    .colab-df-convert:hover {\n",
              "      background-color: #E2EBFA;\n",
              "      box-shadow: 0px 1px 2px rgba(60, 64, 67, 0.3), 0px 1px 3px 1px rgba(60, 64, 67, 0.15);\n",
              "      fill: #174EA6;\n",
              "    }\n",
              "\n",
              "    [theme=dark] .colab-df-convert {\n",
              "      background-color: #3B4455;\n",
              "      fill: #D2E3FC;\n",
              "    }\n",
              "\n",
              "    [theme=dark] .colab-df-convert:hover {\n",
              "      background-color: #434B5C;\n",
              "      box-shadow: 0px 1px 3px 1px rgba(0, 0, 0, 0.15);\n",
              "      filter: drop-shadow(0px 1px 2px rgba(0, 0, 0, 0.3));\n",
              "      fill: #FFFFFF;\n",
              "    }\n",
              "  </style>\n",
              "\n",
              "      <script>\n",
              "        const buttonEl =\n",
              "          document.querySelector('#df-74c00872-eb01-41f5-84a3-f5a586c7bd98 button.colab-df-convert');\n",
              "        buttonEl.style.display =\n",
              "          google.colab.kernel.accessAllowed ? 'block' : 'none';\n",
              "\n",
              "        async function convertToInteractive(key) {\n",
              "          const element = document.querySelector('#df-74c00872-eb01-41f5-84a3-f5a586c7bd98');\n",
              "          const dataTable =\n",
              "            await google.colab.kernel.invokeFunction('convertToInteractive',\n",
              "                                                     [key], {});\n",
              "          if (!dataTable) return;\n",
              "\n",
              "          const docLinkHtml = 'Like what you see? Visit the ' +\n",
              "            '<a target=\"_blank\" href=https://colab.research.google.com/notebooks/data_table.ipynb>data table notebook</a>'\n",
              "            + ' to learn more about interactive tables.';\n",
              "          element.innerHTML = '';\n",
              "          dataTable['output_type'] = 'display_data';\n",
              "          await google.colab.output.renderOutput(dataTable, element);\n",
              "          const docLink = document.createElement('div');\n",
              "          docLink.innerHTML = docLinkHtml;\n",
              "          element.appendChild(docLink);\n",
              "        }\n",
              "      </script>\n",
              "    </div>\n",
              "  </div>\n",
              "  "
            ],
            "text/plain": [
              "          ds        y         yhat  ...        trend  Actual_Status  Predicted_Status\n",
              "0 2022-02-01  1882.30  1812.233803  ...  1813.919835           Down                UP\n",
              "1 2022-02-02  1942.60  1806.197270  ...  1811.388227           Down                UP\n",
              "2 2022-02-03  1909.05  1803.411872  ...  1808.856618           Down                UP\n",
              "3 2022-02-04  1884.20  1798.087509  ...  1806.325010           Down                UP\n",
              "4 2022-02-07  1828.45  1816.629842  ...  1803.793402           Down                UP\n",
              "\n",
              "[5 rows x 8 columns]"
            ]
          },
          "metadata": {},
          "execution_count": 76
        }
      ]
    },
    {
      "cell_type": "code",
      "source": [
        "plot_plotly(model, forecast)"
      ],
      "metadata": {
        "colab": {
          "base_uri": "https://localhost:8080/",
          "height": 617
        },
        "id": "Px9mDw_QtWiV",
        "outputId": "1411cd89-efe7-42e8-fcb9-81c38f51a998"
      },
      "execution_count": 77,
      "outputs": [
        {
          "output_type": "display_data",
          "data": {
            "text/html": [
              "<html>\n",
              "<head><meta charset=\"utf-8\" /></head>\n",
              "<body>\n",
              "    <div>            <script src=\"https://cdnjs.cloudflare.com/ajax/libs/mathjax/2.7.5/MathJax.js?config=TeX-AMS-MML_SVG\"></script><script type=\"text/javascript\">if (window.MathJax) {MathJax.Hub.Config({SVG: {font: \"STIX-Web\"}});}</script>                <script type=\"text/javascript\">window.PlotlyConfig = {MathJaxConfig: 'local'};</script>\n",
              "        <script src=\"https://cdn.plot.ly/plotly-2.8.3.min.js\"></script>                <div id=\"689a86fd-94f5-4701-b78f-c2578f895f40\" class=\"plotly-graph-div\" style=\"height:600px; width:900px;\"></div>            <script type=\"text/javascript\">                                    window.PLOTLYENV=window.PLOTLYENV || {};                                    if (document.getElementById(\"689a86fd-94f5-4701-b78f-c2578f895f40\")) {                    Plotly.newPlot(                        \"689a86fd-94f5-4701-b78f-c2578f895f40\",                        [{\"marker\":{\"color\":\"black\",\"size\":4},\"mode\":\"markers\",\"name\":\"Actual\",\"x\":[\"2021-01-04T00:00:00\",\"2021-01-05T00:00:00\",\"2021-01-06T00:00:00\",\"2021-01-07T00:00:00\",\"2021-01-08T00:00:00\",\"2021-01-11T00:00:00\",\"2021-01-12T00:00:00\",\"2021-01-13T00:00:00\",\"2021-01-14T00:00:00\",\"2021-01-15T00:00:00\",\"2021-01-18T00:00:00\",\"2021-01-19T00:00:00\",\"2021-01-20T00:00:00\",\"2021-01-21T00:00:00\",\"2021-01-22T00:00:00\",\"2021-01-25T00:00:00\",\"2021-01-27T00:00:00\",\"2021-01-28T00:00:00\",\"2021-01-29T00:00:00\",\"2021-02-01T00:00:00\",\"2021-02-02T00:00:00\",\"2021-02-03T00:00:00\",\"2021-02-04T00:00:00\",\"2021-02-05T00:00:00\",\"2021-02-08T00:00:00\",\"2021-02-09T00:00:00\",\"2021-02-10T00:00:00\",\"2021-02-11T00:00:00\",\"2021-02-12T00:00:00\",\"2021-02-15T00:00:00\",\"2021-02-16T00:00:00\",\"2021-02-17T00:00:00\",\"2021-02-18T00:00:00\",\"2021-02-19T00:00:00\",\"2021-02-22T00:00:00\",\"2021-02-23T00:00:00\",\"2021-02-24T00:00:00\",\"2021-02-25T00:00:00\",\"2021-02-26T00:00:00\",\"2021-03-01T00:00:00\",\"2021-03-02T00:00:00\",\"2021-03-03T00:00:00\",\"2021-03-04T00:00:00\",\"2021-03-05T00:00:00\",\"2021-03-08T00:00:00\",\"2021-03-09T00:00:00\",\"2021-03-10T00:00:00\",\"2021-03-12T00:00:00\",\"2021-03-15T00:00:00\",\"2021-03-16T00:00:00\",\"2021-03-17T00:00:00\",\"2021-03-18T00:00:00\",\"2021-03-19T00:00:00\",\"2021-03-22T00:00:00\",\"2021-03-23T00:00:00\",\"2021-03-24T00:00:00\",\"2021-03-25T00:00:00\",\"2021-03-26T00:00:00\",\"2021-03-30T00:00:00\",\"2021-03-31T00:00:00\",\"2021-04-01T00:00:00\",\"2021-04-05T00:00:00\",\"2021-04-06T00:00:00\",\"2021-04-07T00:00:00\",\"2021-04-08T00:00:00\",\"2021-04-09T00:00:00\",\"2021-04-12T00:00:00\",\"2021-04-13T00:00:00\",\"2021-04-15T00:00:00\",\"2021-04-16T00:00:00\",\"2021-04-19T00:00:00\",\"2021-04-20T00:00:00\",\"2021-04-22T00:00:00\",\"2021-04-23T00:00:00\",\"2021-04-26T00:00:00\",\"2021-04-27T00:00:00\",\"2021-04-28T00:00:00\",\"2021-04-29T00:00:00\",\"2021-04-30T00:00:00\",\"2021-05-03T00:00:00\",\"2021-05-04T00:00:00\",\"2021-05-05T00:00:00\",\"2021-05-06T00:00:00\",\"2021-05-07T00:00:00\",\"2021-05-10T00:00:00\",\"2021-05-11T00:00:00\",\"2021-05-12T00:00:00\",\"2021-05-14T00:00:00\",\"2021-05-17T00:00:00\",\"2021-05-18T00:00:00\",\"2021-05-19T00:00:00\",\"2021-05-20T00:00:00\",\"2021-05-21T00:00:00\",\"2021-05-24T00:00:00\",\"2021-05-25T00:00:00\",\"2021-05-26T00:00:00\",\"2021-05-27T00:00:00\",\"2021-05-28T00:00:00\",\"2021-05-31T00:00:00\",\"2021-06-01T00:00:00\",\"2021-06-02T00:00:00\",\"2021-06-03T00:00:00\",\"2021-06-04T00:00:00\",\"2021-06-07T00:00:00\",\"2021-06-08T00:00:00\",\"2021-06-09T00:00:00\",\"2021-06-10T00:00:00\",\"2021-06-11T00:00:00\",\"2021-06-14T00:00:00\",\"2021-06-15T00:00:00\",\"2021-06-16T00:00:00\",\"2021-06-17T00:00:00\",\"2021-06-18T00:00:00\",\"2021-06-21T00:00:00\",\"2021-06-22T00:00:00\",\"2021-06-23T00:00:00\",\"2021-06-24T00:00:00\",\"2021-06-25T00:00:00\",\"2021-06-28T00:00:00\",\"2021-06-29T00:00:00\",\"2021-06-30T00:00:00\",\"2021-07-01T00:00:00\",\"2021-07-02T00:00:00\",\"2021-07-05T00:00:00\",\"2021-07-06T00:00:00\",\"2021-07-07T00:00:00\",\"2021-07-08T00:00:00\",\"2021-07-09T00:00:00\",\"2021-07-12T00:00:00\",\"2021-07-13T00:00:00\",\"2021-07-14T00:00:00\",\"2021-07-15T00:00:00\",\"2021-07-16T00:00:00\",\"2021-07-19T00:00:00\",\"2021-07-20T00:00:00\",\"2021-07-22T00:00:00\",\"2021-07-23T00:00:00\",\"2021-07-26T00:00:00\",\"2021-07-27T00:00:00\",\"2021-07-28T00:00:00\",\"2021-07-29T00:00:00\",\"2021-07-30T00:00:00\",\"2021-08-02T00:00:00\",\"2021-08-03T00:00:00\",\"2021-08-04T00:00:00\",\"2021-08-05T00:00:00\",\"2021-08-06T00:00:00\",\"2021-08-09T00:00:00\",\"2021-08-10T00:00:00\",\"2021-08-11T00:00:00\",\"2021-08-12T00:00:00\",\"2021-08-13T00:00:00\",\"2021-08-16T00:00:00\",\"2021-08-17T00:00:00\",\"2021-08-18T00:00:00\",\"2021-08-20T00:00:00\",\"2021-08-23T00:00:00\",\"2021-08-24T00:00:00\",\"2021-08-25T00:00:00\",\"2021-08-26T00:00:00\",\"2021-08-27T00:00:00\",\"2021-08-30T00:00:00\",\"2021-08-31T00:00:00\",\"2021-09-01T00:00:00\",\"2021-09-02T00:00:00\",\"2021-09-03T00:00:00\",\"2021-09-06T00:00:00\",\"2021-09-07T00:00:00\",\"2021-09-08T00:00:00\",\"2021-09-09T00:00:00\",\"2021-09-13T00:00:00\",\"2021-09-14T00:00:00\",\"2021-09-15T00:00:00\",\"2021-09-16T00:00:00\",\"2021-09-17T00:00:00\",\"2021-09-20T00:00:00\",\"2021-09-21T00:00:00\",\"2021-09-22T00:00:00\",\"2021-09-23T00:00:00\",\"2021-09-24T00:00:00\",\"2021-09-27T00:00:00\",\"2021-09-28T00:00:00\",\"2021-09-29T00:00:00\",\"2021-09-30T00:00:00\",\"2021-10-01T00:00:00\",\"2021-10-04T00:00:00\",\"2021-10-05T00:00:00\",\"2021-10-06T00:00:00\",\"2021-10-07T00:00:00\",\"2021-10-08T00:00:00\",\"2021-10-11T00:00:00\",\"2021-10-12T00:00:00\",\"2021-10-13T00:00:00\",\"2021-10-14T00:00:00\",\"2021-10-18T00:00:00\",\"2021-10-19T00:00:00\",\"2021-10-20T00:00:00\",\"2021-10-21T00:00:00\",\"2021-10-22T00:00:00\",\"2021-10-25T00:00:00\",\"2021-10-26T00:00:00\",\"2021-10-27T00:00:00\",\"2021-10-28T00:00:00\",\"2021-10-29T00:00:00\",\"2021-11-01T00:00:00\",\"2021-11-02T00:00:00\",\"2021-11-03T00:00:00\",\"2021-11-04T00:00:00\",\"2021-11-08T00:00:00\",\"2021-11-09T00:00:00\",\"2021-11-10T00:00:00\",\"2021-11-11T00:00:00\",\"2021-11-12T00:00:00\",\"2021-11-15T00:00:00\",\"2021-11-16T00:00:00\",\"2021-11-17T00:00:00\",\"2021-11-18T00:00:00\",\"2021-11-22T00:00:00\",\"2021-11-23T00:00:00\",\"2021-11-24T00:00:00\",\"2021-11-25T00:00:00\",\"2021-11-26T00:00:00\",\"2021-11-29T00:00:00\",\"2021-11-30T00:00:00\",\"2021-12-01T00:00:00\",\"2021-12-02T00:00:00\",\"2021-12-03T00:00:00\",\"2021-12-06T00:00:00\",\"2021-12-07T00:00:00\",\"2021-12-08T00:00:00\",\"2021-12-09T00:00:00\",\"2021-12-10T00:00:00\",\"2021-12-13T00:00:00\",\"2021-12-14T00:00:00\",\"2021-12-15T00:00:00\",\"2021-12-16T00:00:00\",\"2021-12-17T00:00:00\",\"2021-12-20T00:00:00\",\"2021-12-21T00:00:00\",\"2021-12-22T00:00:00\",\"2021-12-23T00:00:00\",\"2021-12-24T00:00:00\",\"2021-12-27T00:00:00\",\"2021-12-28T00:00:00\",\"2021-12-29T00:00:00\",\"2021-12-30T00:00:00\",\"2021-12-31T00:00:00\",\"2022-01-03T00:00:00\",\"2022-01-04T00:00:00\",\"2022-01-05T00:00:00\",\"2022-01-06T00:00:00\",\"2022-01-07T00:00:00\",\"2022-01-10T00:00:00\",\"2022-01-11T00:00:00\",\"2022-01-12T00:00:00\",\"2022-01-13T00:00:00\",\"2022-01-14T00:00:00\",\"2022-01-17T00:00:00\",\"2022-01-18T00:00:00\",\"2022-01-19T00:00:00\",\"2022-01-20T00:00:00\",\"2022-01-21T00:00:00\",\"2022-01-24T00:00:00\",\"2022-01-25T00:00:00\",\"2022-01-27T00:00:00\",\"2022-01-28T00:00:00\",\"2022-01-31T00:00:00\"],\"y\":[1964.57,1958.78,1969.42,1951.43,1969.72,1937.19,1902.51,1881.17,1891.71,1862.97,1846.03,1886.06,1882.67,1856.88,1827.09,1793.51,1763.82,1721.99,1712.1,1800.61,1860.38,1851.28,1909.45,1981.72,1956.18,1948.18,1951.08,1960.03,1950.08,1984.96,2018.65,1988.46,1944.48,1937.79,1948.63,1872.02,1910.25,1894.56,1779.47,1844.48,1843.73,1898.56,1896.76,1921.55,1914.9,1977.97,1962.98,1934.19,1917.7,1902.26,1867.42,1829.49,1833.24,1821.75,1811.75,1781.57,1762.03,1770.17,1780.37,1752.13,1803.65,1758.33,1767.42,1791.11,1782.36,1798.36,1741.64,1774.97,1772.37,1763.22,1699.91,1696.86,1735.19,1733.34,1758.78,1749.43,1810.55,1804.1,1747.93,1724.59,1731.79,1769.87,1787.36,1779.47,1808.45,1754.58,1718.0,1705.8,1743.28,1754.23,1729.69,1707.35,1756.78,1756.13,1749.63,1739.79,1776.37,1799.86,1806.8,1796.11,1782.21,1813.3,1810.3,1814.0,1792.66,1782.02,1798.66,1793.46,1767.17,1770.02,1759.73,1765.17,1759.58,1771.17,1756.23,1735.84,1737.04,1734.14,1732.19,1705.0,1705.0,1715.25,1714.3,1730.24,1754.48,1760.93,1731.44,1719.2,1731.09,1746.28,1747.28,1749.18,1748.63,1721.94,1701.8,1706.35,1722.09,1739.74,1697.11,1652.03,1640.84,1653.98,1664.27,1684.81,1749.08,1770.87,1776.32,1780.02,1812.35,1780.6,1787.7,1788.0,1782.35,1788.35,1749.7,1703.55,1716.85,1704.9,1697.2,1697.5,1713.55,1735.85,1753.7,1746.65,1776.4,1791.85,1774.55,1764.85,1815.35,1817.85,1840.05,1867.75,1871.7,1906.8,2007.95,2001.45,2010.95,1985.55,2024.0,2028.1,2033.35,2068.2,2030.45,2005.5,1993.55,1990.95,1982.35,1955.75,1952.45,1936.35,1975.4,1995.1,2009.35,2017.8,2011.6,2035.35,2015.45,2143.75,2171.4,2154.5,2210.95,2188.25,2098.5,2031.15,2076.5,2076.65,2037.55,2057.0,2118.85,2097.2,2076.05,2054.1,2074.7,2097.3,2082.85,2053.1,2024.45,1955.45,1982.9,2011.4,2035.1,1964.3,2019.6,1961.9,1953.35,1964.25,1914.2,1885.2,1937.15,1920.45,1916.35,1896.75,1873.1,1840.4,1867.4,1860.75,1793.8,1742.5,1736.55,1762.4,1775.6,1748.4,1773.45,1774.9,1764.2,1755.25,1796.1,1824.45,1852.6,1922.15,1891.9,1904.25,1947.95,1936.8,1956.6,1926.35,1938.2,1937.45,1942.15,1905.65,1892.6,1893.75,1830.9,1854.65,1889.25,1898.3,1857.25],\"type\":\"scatter\"},{\"hoverinfo\":\"skip\",\"line\":{\"width\":0},\"mode\":\"lines\",\"x\":[\"2021-01-04T00:00:00\",\"2021-01-05T00:00:00\",\"2021-01-06T00:00:00\",\"2021-01-07T00:00:00\",\"2021-01-08T00:00:00\",\"2021-01-11T00:00:00\",\"2021-01-12T00:00:00\",\"2021-01-13T00:00:00\",\"2021-01-14T00:00:00\",\"2021-01-15T00:00:00\",\"2021-01-18T00:00:00\",\"2021-01-19T00:00:00\",\"2021-01-20T00:00:00\",\"2021-01-21T00:00:00\",\"2021-01-22T00:00:00\",\"2021-01-25T00:00:00\",\"2021-01-27T00:00:00\",\"2021-01-28T00:00:00\",\"2021-01-29T00:00:00\",\"2021-02-01T00:00:00\",\"2021-02-02T00:00:00\",\"2021-02-03T00:00:00\",\"2021-02-04T00:00:00\",\"2021-02-05T00:00:00\",\"2021-02-08T00:00:00\",\"2021-02-09T00:00:00\",\"2021-02-10T00:00:00\",\"2021-02-11T00:00:00\",\"2021-02-12T00:00:00\",\"2021-02-15T00:00:00\",\"2021-02-16T00:00:00\",\"2021-02-17T00:00:00\",\"2021-02-18T00:00:00\",\"2021-02-19T00:00:00\",\"2021-02-22T00:00:00\",\"2021-02-23T00:00:00\",\"2021-02-24T00:00:00\",\"2021-02-25T00:00:00\",\"2021-02-26T00:00:00\",\"2021-03-01T00:00:00\",\"2021-03-02T00:00:00\",\"2021-03-03T00:00:00\",\"2021-03-04T00:00:00\",\"2021-03-05T00:00:00\",\"2021-03-08T00:00:00\",\"2021-03-09T00:00:00\",\"2021-03-10T00:00:00\",\"2021-03-12T00:00:00\",\"2021-03-15T00:00:00\",\"2021-03-16T00:00:00\",\"2021-03-17T00:00:00\",\"2021-03-18T00:00:00\",\"2021-03-19T00:00:00\",\"2021-03-22T00:00:00\",\"2021-03-23T00:00:00\",\"2021-03-24T00:00:00\",\"2021-03-25T00:00:00\",\"2021-03-26T00:00:00\",\"2021-03-30T00:00:00\",\"2021-03-31T00:00:00\",\"2021-04-01T00:00:00\",\"2021-04-05T00:00:00\",\"2021-04-06T00:00:00\",\"2021-04-07T00:00:00\",\"2021-04-08T00:00:00\",\"2021-04-09T00:00:00\",\"2021-04-12T00:00:00\",\"2021-04-13T00:00:00\",\"2021-04-15T00:00:00\",\"2021-04-16T00:00:00\",\"2021-04-19T00:00:00\",\"2021-04-20T00:00:00\",\"2021-04-22T00:00:00\",\"2021-04-23T00:00:00\",\"2021-04-26T00:00:00\",\"2021-04-27T00:00:00\",\"2021-04-28T00:00:00\",\"2021-04-29T00:00:00\",\"2021-04-30T00:00:00\",\"2021-05-03T00:00:00\",\"2021-05-04T00:00:00\",\"2021-05-05T00:00:00\",\"2021-05-06T00:00:00\",\"2021-05-07T00:00:00\",\"2021-05-10T00:00:00\",\"2021-05-11T00:00:00\",\"2021-05-12T00:00:00\",\"2021-05-14T00:00:00\",\"2021-05-17T00:00:00\",\"2021-05-18T00:00:00\",\"2021-05-19T00:00:00\",\"2021-05-20T00:00:00\",\"2021-05-21T00:00:00\",\"2021-05-24T00:00:00\",\"2021-05-25T00:00:00\",\"2021-05-26T00:00:00\",\"2021-05-27T00:00:00\",\"2021-05-28T00:00:00\",\"2021-05-31T00:00:00\",\"2021-06-01T00:00:00\",\"2021-06-02T00:00:00\",\"2021-06-03T00:00:00\",\"2021-06-04T00:00:00\",\"2021-06-07T00:00:00\",\"2021-06-08T00:00:00\",\"2021-06-09T00:00:00\",\"2021-06-10T00:00:00\",\"2021-06-11T00:00:00\",\"2021-06-14T00:00:00\",\"2021-06-15T00:00:00\",\"2021-06-16T00:00:00\",\"2021-06-17T00:00:00\",\"2021-06-18T00:00:00\",\"2021-06-21T00:00:00\",\"2021-06-22T00:00:00\",\"2021-06-23T00:00:00\",\"2021-06-24T00:00:00\",\"2021-06-25T00:00:00\",\"2021-06-28T00:00:00\",\"2021-06-29T00:00:00\",\"2021-06-30T00:00:00\",\"2021-07-01T00:00:00\",\"2021-07-02T00:00:00\",\"2021-07-05T00:00:00\",\"2021-07-06T00:00:00\",\"2021-07-07T00:00:00\",\"2021-07-08T00:00:00\",\"2021-07-09T00:00:00\",\"2021-07-12T00:00:00\",\"2021-07-13T00:00:00\",\"2021-07-14T00:00:00\",\"2021-07-15T00:00:00\",\"2021-07-16T00:00:00\",\"2021-07-19T00:00:00\",\"2021-07-20T00:00:00\",\"2021-07-22T00:00:00\",\"2021-07-23T00:00:00\",\"2021-07-26T00:00:00\",\"2021-07-27T00:00:00\",\"2021-07-28T00:00:00\",\"2021-07-29T00:00:00\",\"2021-07-30T00:00:00\",\"2021-08-02T00:00:00\",\"2021-08-03T00:00:00\",\"2021-08-04T00:00:00\",\"2021-08-05T00:00:00\",\"2021-08-06T00:00:00\",\"2021-08-09T00:00:00\",\"2021-08-10T00:00:00\",\"2021-08-11T00:00:00\",\"2021-08-12T00:00:00\",\"2021-08-13T00:00:00\",\"2021-08-16T00:00:00\",\"2021-08-17T00:00:00\",\"2021-08-18T00:00:00\",\"2021-08-20T00:00:00\",\"2021-08-23T00:00:00\",\"2021-08-24T00:00:00\",\"2021-08-25T00:00:00\",\"2021-08-26T00:00:00\",\"2021-08-27T00:00:00\",\"2021-08-30T00:00:00\",\"2021-08-31T00:00:00\",\"2021-09-01T00:00:00\",\"2021-09-02T00:00:00\",\"2021-09-03T00:00:00\",\"2021-09-06T00:00:00\",\"2021-09-07T00:00:00\",\"2021-09-08T00:00:00\",\"2021-09-09T00:00:00\",\"2021-09-13T00:00:00\",\"2021-09-14T00:00:00\",\"2021-09-15T00:00:00\",\"2021-09-16T00:00:00\",\"2021-09-17T00:00:00\",\"2021-09-20T00:00:00\",\"2021-09-21T00:00:00\",\"2021-09-22T00:00:00\",\"2021-09-23T00:00:00\",\"2021-09-24T00:00:00\",\"2021-09-27T00:00:00\",\"2021-09-28T00:00:00\",\"2021-09-29T00:00:00\",\"2021-09-30T00:00:00\",\"2021-10-01T00:00:00\",\"2021-10-04T00:00:00\",\"2021-10-05T00:00:00\",\"2021-10-06T00:00:00\",\"2021-10-07T00:00:00\",\"2021-10-08T00:00:00\",\"2021-10-11T00:00:00\",\"2021-10-12T00:00:00\",\"2021-10-13T00:00:00\",\"2021-10-14T00:00:00\",\"2021-10-18T00:00:00\",\"2021-10-19T00:00:00\",\"2021-10-20T00:00:00\",\"2021-10-21T00:00:00\",\"2021-10-22T00:00:00\",\"2021-10-25T00:00:00\",\"2021-10-26T00:00:00\",\"2021-10-27T00:00:00\",\"2021-10-28T00:00:00\",\"2021-10-29T00:00:00\",\"2021-11-01T00:00:00\",\"2021-11-02T00:00:00\",\"2021-11-03T00:00:00\",\"2021-11-04T00:00:00\",\"2021-11-08T00:00:00\",\"2021-11-09T00:00:00\",\"2021-11-10T00:00:00\",\"2021-11-11T00:00:00\",\"2021-11-12T00:00:00\",\"2021-11-15T00:00:00\",\"2021-11-16T00:00:00\",\"2021-11-17T00:00:00\",\"2021-11-18T00:00:00\",\"2021-11-22T00:00:00\",\"2021-11-23T00:00:00\",\"2021-11-24T00:00:00\",\"2021-11-25T00:00:00\",\"2021-11-26T00:00:00\",\"2021-11-29T00:00:00\",\"2021-11-30T00:00:00\",\"2021-12-01T00:00:00\",\"2021-12-02T00:00:00\",\"2021-12-03T00:00:00\",\"2021-12-06T00:00:00\",\"2021-12-07T00:00:00\",\"2021-12-08T00:00:00\",\"2021-12-09T00:00:00\",\"2021-12-10T00:00:00\",\"2021-12-13T00:00:00\",\"2021-12-14T00:00:00\",\"2021-12-15T00:00:00\",\"2021-12-16T00:00:00\",\"2021-12-17T00:00:00\",\"2021-12-20T00:00:00\",\"2021-12-21T00:00:00\",\"2021-12-22T00:00:00\",\"2021-12-23T00:00:00\",\"2021-12-24T00:00:00\",\"2021-12-27T00:00:00\",\"2021-12-28T00:00:00\",\"2021-12-29T00:00:00\",\"2021-12-30T00:00:00\",\"2021-12-31T00:00:00\",\"2022-01-03T00:00:00\",\"2022-01-04T00:00:00\",\"2022-01-05T00:00:00\",\"2022-01-06T00:00:00\",\"2022-01-07T00:00:00\",\"2022-01-10T00:00:00\",\"2022-01-11T00:00:00\",\"2022-01-12T00:00:00\",\"2022-01-13T00:00:00\",\"2022-01-14T00:00:00\",\"2022-01-17T00:00:00\",\"2022-01-18T00:00:00\",\"2022-01-19T00:00:00\",\"2022-01-20T00:00:00\",\"2022-01-21T00:00:00\",\"2022-01-24T00:00:00\",\"2022-01-25T00:00:00\",\"2022-01-27T00:00:00\",\"2022-01-28T00:00:00\",\"2022-01-31T00:00:00\",\"2022-02-01T00:00:00\",\"2022-02-02T00:00:00\",\"2022-02-03T00:00:00\",\"2022-02-04T00:00:00\",\"2022-02-05T00:00:00\"],\"y\":[1848.4103449931945,1844.794276742328,1840.107337221344,1848.4791482249325,1832.2270049821634,1838.2583445476994,1832.6404145719503,1830.0019451620076,1828.5707903934044,1821.7197961037223,1833.4247304145715,1834.472211286217,1827.3993602970597,1821.310161970314,1824.3586367822136,1815.534819334317,1815.393330512403,1812.8537869831132,1806.6834327727393,1809.6643933828286,1811.3341830374673,1801.8474924916677,1801.5204526308216,1796.9921625219572,1798.2182593097066,1803.279581410924,1795.7854907019164,1791.9789328648235,1790.1099413230233,1795.7600357036254,1797.4112369901331,1790.4549511570397,1791.3521646849415,1791.9516023932595,1782.966148806804,1789.468825278983,1776.8813988141442,1774.987237961806,1773.093703968464,1768.3641833907848,1774.121348659237,1773.8251276333283,1771.164874869549,1769.0605242727006,1757.6017427990055,1761.9016510178285,1759.1223612157364,1755.4941627245641,1753.4203654634232,1753.6772826181418,1755.3466598065052,1743.5951179643812,1750.1075835461752,1742.6308244385405,1749.8724593388627,1745.619582810363,1738.3602120221753,1738.903110986844,1743.1274335460503,1737.6951143190033,1737.1511253781737,1725.566023234404,1726.5627534086966,1727.2543011202295,1729.731602749982,1717.6416389467588,1718.1792513778273,1720.5891119328655,1710.2036325466204,1704.6507916436121,1705.7055330407975,1708.8650139196538,1699.7969796773825,1698.7549379739257,1703.1041245308127,1697.737651311645,1698.4828881846586,1698.8500516807787,1698.5312230856687,1698.5677433786,1696.640503377373,1687.6254147766788,1690.6448688187957,1691.2727774987611,1693.2635879775341,1696.0613676773573,1685.3831185843146,1683.918092923867,1677.0581165318354,1691.2618675766566,1686.1623999080994,1685.3131869860322,1678.2593764017072,1681.4488597665163,1687.088044325519,1676.9858431378789,1677.9587678481703,1670.3447067155532,1677.4411290858948,1676.2882115331595,1670.5663909817742,1670.8696295762695,1667.4178821659714,1665.142737785303,1679.4419787039521,1668.6243453513573,1669.8114829920726,1665.5849288368793,1661.327891005552,1665.5787591913036,1663.7747164956074,1656.1000410758143,1659.719876065106,1660.0148775304144,1656.1504702557393,1666.8435673049541,1658.0318257142471,1656.831043664378,1656.8336673657807,1658.5465332844021,1644.2531651420468,1649.531536256707,1656.9538988837523,1653.7719899484377,1658.8269574565184,1644.3441600561418,1649.1580676840395,1642.701192219081,1644.1987013450919,1646.1495353060468,1647.6940042907881,1641.9460830657154,1640.074855854432,1640.008925303077,1641.1365473046721,1635.7072384339986,1632.07835625285,1643.7697487639166,1642.0558518154019,1654.022351378876,1645.5025761230386,1632.2254708285805,1651.8468718426386,1654.165584418009,1649.4570910270818,1655.9614599860522,1654.13836444743,1662.7147296788298,1668.1612076076408,1668.418898016924,1675.0225773824914,1672.6288477095952,1687.20580346504,1694.2307024217937,1685.523996324405,1698.345470278805,1710.4767950523185,1715.572063989007,1714.1328418181527,1722.3383403920407,1725.0451066806168,1738.6167554474148,1744.4561947534798,1748.6101430333647,1752.252239563342,1751.597814698335,1767.3029920420383,1776.2701907890998,1781.855764463298,1778.9847113051283,1800.4874054866555,1808.0441024397308,1805.800710457152,1817.2209802278785,1810.5315285034221,1829.8815760762839,1838.6833447426193,1845.3546151037137,1840.2855597924583,1847.8230989296972,1863.9100681030961,1875.5223439044385,1866.099659751609,1875.5847656139695,1879.2446722305556,1896.8322623270617,1901.864839898805,1906.3863053045384,1907.7099266480068,1902.1748064818942,1922.7352845136718,1929.9350192479644,1927.3189297626618,1930.5991359767054,1948.537266224548,1952.1650026084033,1956.1706441475394,1957.9042161897676,1950.5807508830494,1959.5587614777419,1966.6976319359678,1960.493519196034,1953.6193822350708,1947.966791046538,1961.146791466608,1958.913316923819,1959.1891739158166,1947.8136826584225,1942.0114715222974,1941.49484146686,1935.8286687886616,1939.3148546170812,1929.968840629943,1923.0224519025246,1925.8872113742018,1917.615924671227,1911.8442405893934,1902.5603742425187,1904.1831550868578,1903.817144805359,1903.9565023676917,1891.9679976742827,1886.9455482098895,1889.9883697328125,1880.888174576293,1875.2116904259417,1875.9398023167237,1876.7647976463404,1868.570701391786,1866.2366611669554,1864.6548198749388,1860.161256606213,1853.115231055723,1855.2652130642375,1845.229299576865,1849.0169990144584,1840.565649151176,1829.7271904976678,1834.253420937278,1827.2541794808435,1828.437897274359,1818.65638165277,1821.9095375109732,1826.302896527907,1817.7366725775655,1812.7649404464682,1808.2416782664286,1802.6615422316231,1804.427762774681,1791.9326511801694,1799.1436433821268,1786.5505883353471,1785.8983122186012,1785.4545889914507,1777.104124667932,1771.6842520109296,1771.4538571903042,1767.90604911295,1765.7612209475872,1751.1295986262332,1758.312016764979,1744.959316324475,1747.7731837345484,1750.1663449201246,1741.6972816434957,1728.171998138173,1728.9603656886277,1732.7969769860815,1721.1335574315053,1714.64535930707,1715.1342160478657,1729.875179090257],\"type\":\"scatter\"},{\"fill\":\"tonexty\",\"fillcolor\":\"rgba(0, 114, 178, 0.2)\",\"line\":{\"color\":\"#0072B2\",\"width\":2},\"mode\":\"lines\",\"name\":\"Predicted\",\"x\":[\"2021-01-04T00:00:00\",\"2021-01-05T00:00:00\",\"2021-01-06T00:00:00\",\"2021-01-07T00:00:00\",\"2021-01-08T00:00:00\",\"2021-01-11T00:00:00\",\"2021-01-12T00:00:00\",\"2021-01-13T00:00:00\",\"2021-01-14T00:00:00\",\"2021-01-15T00:00:00\",\"2021-01-18T00:00:00\",\"2021-01-19T00:00:00\",\"2021-01-20T00:00:00\",\"2021-01-21T00:00:00\",\"2021-01-22T00:00:00\",\"2021-01-25T00:00:00\",\"2021-01-27T00:00:00\",\"2021-01-28T00:00:00\",\"2021-01-29T00:00:00\",\"2021-02-01T00:00:00\",\"2021-02-02T00:00:00\",\"2021-02-03T00:00:00\",\"2021-02-04T00:00:00\",\"2021-02-05T00:00:00\",\"2021-02-08T00:00:00\",\"2021-02-09T00:00:00\",\"2021-02-10T00:00:00\",\"2021-02-11T00:00:00\",\"2021-02-12T00:00:00\",\"2021-02-15T00:00:00\",\"2021-02-16T00:00:00\",\"2021-02-17T00:00:00\",\"2021-02-18T00:00:00\",\"2021-02-19T00:00:00\",\"2021-02-22T00:00:00\",\"2021-02-23T00:00:00\",\"2021-02-24T00:00:00\",\"2021-02-25T00:00:00\",\"2021-02-26T00:00:00\",\"2021-03-01T00:00:00\",\"2021-03-02T00:00:00\",\"2021-03-03T00:00:00\",\"2021-03-04T00:00:00\",\"2021-03-05T00:00:00\",\"2021-03-08T00:00:00\",\"2021-03-09T00:00:00\",\"2021-03-10T00:00:00\",\"2021-03-12T00:00:00\",\"2021-03-15T00:00:00\",\"2021-03-16T00:00:00\",\"2021-03-17T00:00:00\",\"2021-03-18T00:00:00\",\"2021-03-19T00:00:00\",\"2021-03-22T00:00:00\",\"2021-03-23T00:00:00\",\"2021-03-24T00:00:00\",\"2021-03-25T00:00:00\",\"2021-03-26T00:00:00\",\"2021-03-30T00:00:00\",\"2021-03-31T00:00:00\",\"2021-04-01T00:00:00\",\"2021-04-05T00:00:00\",\"2021-04-06T00:00:00\",\"2021-04-07T00:00:00\",\"2021-04-08T00:00:00\",\"2021-04-09T00:00:00\",\"2021-04-12T00:00:00\",\"2021-04-13T00:00:00\",\"2021-04-15T00:00:00\",\"2021-04-16T00:00:00\",\"2021-04-19T00:00:00\",\"2021-04-20T00:00:00\",\"2021-04-22T00:00:00\",\"2021-04-23T00:00:00\",\"2021-04-26T00:00:00\",\"2021-04-27T00:00:00\",\"2021-04-28T00:00:00\",\"2021-04-29T00:00:00\",\"2021-04-30T00:00:00\",\"2021-05-03T00:00:00\",\"2021-05-04T00:00:00\",\"2021-05-05T00:00:00\",\"2021-05-06T00:00:00\",\"2021-05-07T00:00:00\",\"2021-05-10T00:00:00\",\"2021-05-11T00:00:00\",\"2021-05-12T00:00:00\",\"2021-05-14T00:00:00\",\"2021-05-17T00:00:00\",\"2021-05-18T00:00:00\",\"2021-05-19T00:00:00\",\"2021-05-20T00:00:00\",\"2021-05-21T00:00:00\",\"2021-05-24T00:00:00\",\"2021-05-25T00:00:00\",\"2021-05-26T00:00:00\",\"2021-05-27T00:00:00\",\"2021-05-28T00:00:00\",\"2021-05-31T00:00:00\",\"2021-06-01T00:00:00\",\"2021-06-02T00:00:00\",\"2021-06-03T00:00:00\",\"2021-06-04T00:00:00\",\"2021-06-07T00:00:00\",\"2021-06-08T00:00:00\",\"2021-06-09T00:00:00\",\"2021-06-10T00:00:00\",\"2021-06-11T00:00:00\",\"2021-06-14T00:00:00\",\"2021-06-15T00:00:00\",\"2021-06-16T00:00:00\",\"2021-06-17T00:00:00\",\"2021-06-18T00:00:00\",\"2021-06-21T00:00:00\",\"2021-06-22T00:00:00\",\"2021-06-23T00:00:00\",\"2021-06-24T00:00:00\",\"2021-06-25T00:00:00\",\"2021-06-28T00:00:00\",\"2021-06-29T00:00:00\",\"2021-06-30T00:00:00\",\"2021-07-01T00:00:00\",\"2021-07-02T00:00:00\",\"2021-07-05T00:00:00\",\"2021-07-06T00:00:00\",\"2021-07-07T00:00:00\",\"2021-07-08T00:00:00\",\"2021-07-09T00:00:00\",\"2021-07-12T00:00:00\",\"2021-07-13T00:00:00\",\"2021-07-14T00:00:00\",\"2021-07-15T00:00:00\",\"2021-07-16T00:00:00\",\"2021-07-19T00:00:00\",\"2021-07-20T00:00:00\",\"2021-07-22T00:00:00\",\"2021-07-23T00:00:00\",\"2021-07-26T00:00:00\",\"2021-07-27T00:00:00\",\"2021-07-28T00:00:00\",\"2021-07-29T00:00:00\",\"2021-07-30T00:00:00\",\"2021-08-02T00:00:00\",\"2021-08-03T00:00:00\",\"2021-08-04T00:00:00\",\"2021-08-05T00:00:00\",\"2021-08-06T00:00:00\",\"2021-08-09T00:00:00\",\"2021-08-10T00:00:00\",\"2021-08-11T00:00:00\",\"2021-08-12T00:00:00\",\"2021-08-13T00:00:00\",\"2021-08-16T00:00:00\",\"2021-08-17T00:00:00\",\"2021-08-18T00:00:00\",\"2021-08-20T00:00:00\",\"2021-08-23T00:00:00\",\"2021-08-24T00:00:00\",\"2021-08-25T00:00:00\",\"2021-08-26T00:00:00\",\"2021-08-27T00:00:00\",\"2021-08-30T00:00:00\",\"2021-08-31T00:00:00\",\"2021-09-01T00:00:00\",\"2021-09-02T00:00:00\",\"2021-09-03T00:00:00\",\"2021-09-06T00:00:00\",\"2021-09-07T00:00:00\",\"2021-09-08T00:00:00\",\"2021-09-09T00:00:00\",\"2021-09-13T00:00:00\",\"2021-09-14T00:00:00\",\"2021-09-15T00:00:00\",\"2021-09-16T00:00:00\",\"2021-09-17T00:00:00\",\"2021-09-20T00:00:00\",\"2021-09-21T00:00:00\",\"2021-09-22T00:00:00\",\"2021-09-23T00:00:00\",\"2021-09-24T00:00:00\",\"2021-09-27T00:00:00\",\"2021-09-28T00:00:00\",\"2021-09-29T00:00:00\",\"2021-09-30T00:00:00\",\"2021-10-01T00:00:00\",\"2021-10-04T00:00:00\",\"2021-10-05T00:00:00\",\"2021-10-06T00:00:00\",\"2021-10-07T00:00:00\",\"2021-10-08T00:00:00\",\"2021-10-11T00:00:00\",\"2021-10-12T00:00:00\",\"2021-10-13T00:00:00\",\"2021-10-14T00:00:00\",\"2021-10-18T00:00:00\",\"2021-10-19T00:00:00\",\"2021-10-20T00:00:00\",\"2021-10-21T00:00:00\",\"2021-10-22T00:00:00\",\"2021-10-25T00:00:00\",\"2021-10-26T00:00:00\",\"2021-10-27T00:00:00\",\"2021-10-28T00:00:00\",\"2021-10-29T00:00:00\",\"2021-11-01T00:00:00\",\"2021-11-02T00:00:00\",\"2021-11-03T00:00:00\",\"2021-11-04T00:00:00\",\"2021-11-08T00:00:00\",\"2021-11-09T00:00:00\",\"2021-11-10T00:00:00\",\"2021-11-11T00:00:00\",\"2021-11-12T00:00:00\",\"2021-11-15T00:00:00\",\"2021-11-16T00:00:00\",\"2021-11-17T00:00:00\",\"2021-11-18T00:00:00\",\"2021-11-22T00:00:00\",\"2021-11-23T00:00:00\",\"2021-11-24T00:00:00\",\"2021-11-25T00:00:00\",\"2021-11-26T00:00:00\",\"2021-11-29T00:00:00\",\"2021-11-30T00:00:00\",\"2021-12-01T00:00:00\",\"2021-12-02T00:00:00\",\"2021-12-03T00:00:00\",\"2021-12-06T00:00:00\",\"2021-12-07T00:00:00\",\"2021-12-08T00:00:00\",\"2021-12-09T00:00:00\",\"2021-12-10T00:00:00\",\"2021-12-13T00:00:00\",\"2021-12-14T00:00:00\",\"2021-12-15T00:00:00\",\"2021-12-16T00:00:00\",\"2021-12-17T00:00:00\",\"2021-12-20T00:00:00\",\"2021-12-21T00:00:00\",\"2021-12-22T00:00:00\",\"2021-12-23T00:00:00\",\"2021-12-24T00:00:00\",\"2021-12-27T00:00:00\",\"2021-12-28T00:00:00\",\"2021-12-29T00:00:00\",\"2021-12-30T00:00:00\",\"2021-12-31T00:00:00\",\"2022-01-03T00:00:00\",\"2022-01-04T00:00:00\",\"2022-01-05T00:00:00\",\"2022-01-06T00:00:00\",\"2022-01-07T00:00:00\",\"2022-01-10T00:00:00\",\"2022-01-11T00:00:00\",\"2022-01-12T00:00:00\",\"2022-01-13T00:00:00\",\"2022-01-14T00:00:00\",\"2022-01-17T00:00:00\",\"2022-01-18T00:00:00\",\"2022-01-19T00:00:00\",\"2022-01-20T00:00:00\",\"2022-01-21T00:00:00\",\"2022-01-24T00:00:00\",\"2022-01-25T00:00:00\",\"2022-01-27T00:00:00\",\"2022-01-28T00:00:00\",\"2022-01-31T00:00:00\",\"2022-02-01T00:00:00\",\"2022-02-02T00:00:00\",\"2022-02-03T00:00:00\",\"2022-02-04T00:00:00\",\"2022-02-05T00:00:00\"],\"y\":[1927.2357587908282,1929.4042484590605,1924.640198775805,1923.1272838394893,1919.0754041553723,1918.4218845543983,1920.5903742225914,1915.8263245393414,1914.313409603019,1910.2615299640863,1909.6080104985922,1911.776500211959,1907.0124505738486,1905.4995356826835,1901.4476560437151,1900.7941365782506,1898.1985766535308,1896.6856617623478,1892.6337821040067,1891.9802625804061,1894.1487522744028,1889.3847026169444,1887.8717877063923,1883.8199080480836,1883.1663885244348,1885.3348782184516,1880.5708283690901,1879.0579132666262,1875.006033416435,1874.3525133171142,1876.5210028192346,1871.7569529698656,1870.2440378674332,1866.1921580172261,1865.5386379178547,1867.6555252715013,1862.839873273676,1861.2753560227593,1857.1718740240942,1856.3635474793207,1858.4804348329196,1853.6647828350863,1852.1002655841733,1847.9967834827657,1847.188456629933,1849.305343880856,1844.489691780317,1838.8216923252978,1838.0133654724564,1840.1302527233997,1835.3146006228624,1833.7500832692317,1829.6466011568366,1828.8382742709737,1830.9551615108646,1826.1395093993178,1824.574992034679,1820.471509922296,1821.7800702763295,1816.9644181647614,1815.399901018002,1810.488092891313,1812.6049803491403,1807.7893284554716,1806.2248113087448,1802.1213294141962,1801.3130031820338,1803.4298906398371,1797.0497215994499,1792.9495948024216,1792.1513338626678,1794.2715764179482,1787.898117572503,1783.7979907754777,1782.999729835715,1785.1199723910163,1780.3076755948214,1779.357199332996,1775.8677583233568,1776.9015547458207,1779.6324830885405,1775.4308720797708,1774.4803958179414,1770.990954808334,1772.024751230796,1774.7556795734772,1770.5818873536907,1766.1976076602068,1767.314860449617,1770.073607581288,1765.899815361479,1764.9771578886161,1761.5155356679543,1762.6327884573723,1765.392670750233,1761.2200136915992,1760.29849137988,1756.8380043203813,1757.9586625932934,1760.71854488613,1756.545887827509,1755.6243655157955,1752.1638784563288,1753.284536753639,1756.0444190546455,1751.8717620041655,1750.950239700584,1747.489752649279,1748.6104109465807,1751.3702932476072,1747.1976361971197,1746.2761140813473,1742.815627217746,1743.9362860784097,1746.6961685671988,1742.523511704513,1741.6019895887373,1738.1415027251587,1739.262161585862,1742.0220440746164,1737.8494495201248,1736.927989712557,1733.4675651572152,1734.5884109425344,1737.3483557395107,1733.1757611850226,1732.2543013774496,1728.7938768221104,1729.9218090030797,1732.6841159319629,1728.5138835093626,1727.594785833698,1724.1367234102493,1725.2646555912168,1728.0269625200604,1722.9376324218044,1719.479569998348,1725.0559614921458,1729.3010881919404,1726.6136755402617,1727.177397635525,1725.202154982982,1730.7785464767874,1735.0236731766113,1732.3362605249347,1734.788746149438,1734.7022670261413,1745.9449491076418,1752.0788393366756,1751.2801902142476,1753.7326758387442,1753.64619671547,1764.8888787969638,1771.0227690259962,1771.648547575827,1776.8634094215513,1792.3793745197866,1799.9376924211188,1800.563470970942,1804.4403842677018,1805.7783328166624,1821.2942979149109,1829.149060165522,1830.071283064641,1834.2446407107004,1835.8790336089867,1852.284331755114,1860.1390940057122,1861.0613169048102,1865.2346745508532,1883.2743655952927,1891.1291279283953,1892.0513509100608,1896.2247086386503,1897.8591016194448,1914.2644000132175,1922.1191623463492,1923.0413853280297,1927.214743056603,1928.849135854185,1945.2544336982469,1953.1091958481427,1954.0314186465785,1958.2047761919223,1959.8391689895168,1976.24446683355,1984.0992289834664,1985.0214517818945,1988.5913031061964,1989.6221896827208,2004.216968863775,2011.46822479264,2011.786941370032,2015.3567926943692,2030.9824584519033,2038.2337143807536,2035.2601753164506,2035.5377709990585,2033.276401933867,2037.9944141897183,2041.9534144768575,2038.979875412534,2039.2574710951349,2036.9961020299659,2041.7141142857674,2042.610123963491,2036.5735942897268,2033.7881993629062,2023.9928801157473,2024.8888897934698,2018.8523601197066,2016.0669651928804,2010.7426055182734,2006.2716357048746,2007.1676419689456,2001.1311088815476,1998.3457105410803,1988.550377639475,1989.4463839035443,1983.4098508161385,1980.6244524756746,1975.300089387409,1970.8291195740314,1971.7251258381302,1965.6885927507374,1962.9031944102687,1957.5788313220155,1953.1078615086315,1954.0038677727196,1947.967334685328,1945.1819363448533,1939.8575732566223,1935.3866034432317,1936.2826097073053,1930.2460766199176,1927.4606782794374,1922.1363151912092,1917.6653453777878,1918.561351641904,1912.524818554507,1909.73942021405,1904.4150571258358,1899.9440873123879,1900.8400935764669,1894.803560489096,1892.0181621486443,1886.6937990604226,1882.2228292470127,1883.1188355110787,1877.082302423687,1874.2969040832184,1868.9725409950097,1864.5015711815913,1865.3975774456644,1859.361044358276,1856.5756460178127,1851.2512829295583,1846.7803131161695,1847.67631938025,1841.6397862928766,1838.854387952397,1833.530024864165,1829.0590550508161,1829.9550613148622,1821.1331298869814,1815.8087667987718,1811.337796985394,1812.2338032494474,1806.1972701620568,1803.4118718215655,1798.0875087333009,1816.6298422636078],\"type\":\"scatter\"},{\"fill\":\"tonexty\",\"fillcolor\":\"rgba(0, 114, 178, 0.2)\",\"hoverinfo\":\"skip\",\"line\":{\"width\":0},\"mode\":\"lines\",\"x\":[\"2021-01-04T00:00:00\",\"2021-01-05T00:00:00\",\"2021-01-06T00:00:00\",\"2021-01-07T00:00:00\",\"2021-01-08T00:00:00\",\"2021-01-11T00:00:00\",\"2021-01-12T00:00:00\",\"2021-01-13T00:00:00\",\"2021-01-14T00:00:00\",\"2021-01-15T00:00:00\",\"2021-01-18T00:00:00\",\"2021-01-19T00:00:00\",\"2021-01-20T00:00:00\",\"2021-01-21T00:00:00\",\"2021-01-22T00:00:00\",\"2021-01-25T00:00:00\",\"2021-01-27T00:00:00\",\"2021-01-28T00:00:00\",\"2021-01-29T00:00:00\",\"2021-02-01T00:00:00\",\"2021-02-02T00:00:00\",\"2021-02-03T00:00:00\",\"2021-02-04T00:00:00\",\"2021-02-05T00:00:00\",\"2021-02-08T00:00:00\",\"2021-02-09T00:00:00\",\"2021-02-10T00:00:00\",\"2021-02-11T00:00:00\",\"2021-02-12T00:00:00\",\"2021-02-15T00:00:00\",\"2021-02-16T00:00:00\",\"2021-02-17T00:00:00\",\"2021-02-18T00:00:00\",\"2021-02-19T00:00:00\",\"2021-02-22T00:00:00\",\"2021-02-23T00:00:00\",\"2021-02-24T00:00:00\",\"2021-02-25T00:00:00\",\"2021-02-26T00:00:00\",\"2021-03-01T00:00:00\",\"2021-03-02T00:00:00\",\"2021-03-03T00:00:00\",\"2021-03-04T00:00:00\",\"2021-03-05T00:00:00\",\"2021-03-08T00:00:00\",\"2021-03-09T00:00:00\",\"2021-03-10T00:00:00\",\"2021-03-12T00:00:00\",\"2021-03-15T00:00:00\",\"2021-03-16T00:00:00\",\"2021-03-17T00:00:00\",\"2021-03-18T00:00:00\",\"2021-03-19T00:00:00\",\"2021-03-22T00:00:00\",\"2021-03-23T00:00:00\",\"2021-03-24T00:00:00\",\"2021-03-25T00:00:00\",\"2021-03-26T00:00:00\",\"2021-03-30T00:00:00\",\"2021-03-31T00:00:00\",\"2021-04-01T00:00:00\",\"2021-04-05T00:00:00\",\"2021-04-06T00:00:00\",\"2021-04-07T00:00:00\",\"2021-04-08T00:00:00\",\"2021-04-09T00:00:00\",\"2021-04-12T00:00:00\",\"2021-04-13T00:00:00\",\"2021-04-15T00:00:00\",\"2021-04-16T00:00:00\",\"2021-04-19T00:00:00\",\"2021-04-20T00:00:00\",\"2021-04-22T00:00:00\",\"2021-04-23T00:00:00\",\"2021-04-26T00:00:00\",\"2021-04-27T00:00:00\",\"2021-04-28T00:00:00\",\"2021-04-29T00:00:00\",\"2021-04-30T00:00:00\",\"2021-05-03T00:00:00\",\"2021-05-04T00:00:00\",\"2021-05-05T00:00:00\",\"2021-05-06T00:00:00\",\"2021-05-07T00:00:00\",\"2021-05-10T00:00:00\",\"2021-05-11T00:00:00\",\"2021-05-12T00:00:00\",\"2021-05-14T00:00:00\",\"2021-05-17T00:00:00\",\"2021-05-18T00:00:00\",\"2021-05-19T00:00:00\",\"2021-05-20T00:00:00\",\"2021-05-21T00:00:00\",\"2021-05-24T00:00:00\",\"2021-05-25T00:00:00\",\"2021-05-26T00:00:00\",\"2021-05-27T00:00:00\",\"2021-05-28T00:00:00\",\"2021-05-31T00:00:00\",\"2021-06-01T00:00:00\",\"2021-06-02T00:00:00\",\"2021-06-03T00:00:00\",\"2021-06-04T00:00:00\",\"2021-06-07T00:00:00\",\"2021-06-08T00:00:00\",\"2021-06-09T00:00:00\",\"2021-06-10T00:00:00\",\"2021-06-11T00:00:00\",\"2021-06-14T00:00:00\",\"2021-06-15T00:00:00\",\"2021-06-16T00:00:00\",\"2021-06-17T00:00:00\",\"2021-06-18T00:00:00\",\"2021-06-21T00:00:00\",\"2021-06-22T00:00:00\",\"2021-06-23T00:00:00\",\"2021-06-24T00:00:00\",\"2021-06-25T00:00:00\",\"2021-06-28T00:00:00\",\"2021-06-29T00:00:00\",\"2021-06-30T00:00:00\",\"2021-07-01T00:00:00\",\"2021-07-02T00:00:00\",\"2021-07-05T00:00:00\",\"2021-07-06T00:00:00\",\"2021-07-07T00:00:00\",\"2021-07-08T00:00:00\",\"2021-07-09T00:00:00\",\"2021-07-12T00:00:00\",\"2021-07-13T00:00:00\",\"2021-07-14T00:00:00\",\"2021-07-15T00:00:00\",\"2021-07-16T00:00:00\",\"2021-07-19T00:00:00\",\"2021-07-20T00:00:00\",\"2021-07-22T00:00:00\",\"2021-07-23T00:00:00\",\"2021-07-26T00:00:00\",\"2021-07-27T00:00:00\",\"2021-07-28T00:00:00\",\"2021-07-29T00:00:00\",\"2021-07-30T00:00:00\",\"2021-08-02T00:00:00\",\"2021-08-03T00:00:00\",\"2021-08-04T00:00:00\",\"2021-08-05T00:00:00\",\"2021-08-06T00:00:00\",\"2021-08-09T00:00:00\",\"2021-08-10T00:00:00\",\"2021-08-11T00:00:00\",\"2021-08-12T00:00:00\",\"2021-08-13T00:00:00\",\"2021-08-16T00:00:00\",\"2021-08-17T00:00:00\",\"2021-08-18T00:00:00\",\"2021-08-20T00:00:00\",\"2021-08-23T00:00:00\",\"2021-08-24T00:00:00\",\"2021-08-25T00:00:00\",\"2021-08-26T00:00:00\",\"2021-08-27T00:00:00\",\"2021-08-30T00:00:00\",\"2021-08-31T00:00:00\",\"2021-09-01T00:00:00\",\"2021-09-02T00:00:00\",\"2021-09-03T00:00:00\",\"2021-09-06T00:00:00\",\"2021-09-07T00:00:00\",\"2021-09-08T00:00:00\",\"2021-09-09T00:00:00\",\"2021-09-13T00:00:00\",\"2021-09-14T00:00:00\",\"2021-09-15T00:00:00\",\"2021-09-16T00:00:00\",\"2021-09-17T00:00:00\",\"2021-09-20T00:00:00\",\"2021-09-21T00:00:00\",\"2021-09-22T00:00:00\",\"2021-09-23T00:00:00\",\"2021-09-24T00:00:00\",\"2021-09-27T00:00:00\",\"2021-09-28T00:00:00\",\"2021-09-29T00:00:00\",\"2021-09-30T00:00:00\",\"2021-10-01T00:00:00\",\"2021-10-04T00:00:00\",\"2021-10-05T00:00:00\",\"2021-10-06T00:00:00\",\"2021-10-07T00:00:00\",\"2021-10-08T00:00:00\",\"2021-10-11T00:00:00\",\"2021-10-12T00:00:00\",\"2021-10-13T00:00:00\",\"2021-10-14T00:00:00\",\"2021-10-18T00:00:00\",\"2021-10-19T00:00:00\",\"2021-10-20T00:00:00\",\"2021-10-21T00:00:00\",\"2021-10-22T00:00:00\",\"2021-10-25T00:00:00\",\"2021-10-26T00:00:00\",\"2021-10-27T00:00:00\",\"2021-10-28T00:00:00\",\"2021-10-29T00:00:00\",\"2021-11-01T00:00:00\",\"2021-11-02T00:00:00\",\"2021-11-03T00:00:00\",\"2021-11-04T00:00:00\",\"2021-11-08T00:00:00\",\"2021-11-09T00:00:00\",\"2021-11-10T00:00:00\",\"2021-11-11T00:00:00\",\"2021-11-12T00:00:00\",\"2021-11-15T00:00:00\",\"2021-11-16T00:00:00\",\"2021-11-17T00:00:00\",\"2021-11-18T00:00:00\",\"2021-11-22T00:00:00\",\"2021-11-23T00:00:00\",\"2021-11-24T00:00:00\",\"2021-11-25T00:00:00\",\"2021-11-26T00:00:00\",\"2021-11-29T00:00:00\",\"2021-11-30T00:00:00\",\"2021-12-01T00:00:00\",\"2021-12-02T00:00:00\",\"2021-12-03T00:00:00\",\"2021-12-06T00:00:00\",\"2021-12-07T00:00:00\",\"2021-12-08T00:00:00\",\"2021-12-09T00:00:00\",\"2021-12-10T00:00:00\",\"2021-12-13T00:00:00\",\"2021-12-14T00:00:00\",\"2021-12-15T00:00:00\",\"2021-12-16T00:00:00\",\"2021-12-17T00:00:00\",\"2021-12-20T00:00:00\",\"2021-12-21T00:00:00\",\"2021-12-22T00:00:00\",\"2021-12-23T00:00:00\",\"2021-12-24T00:00:00\",\"2021-12-27T00:00:00\",\"2021-12-28T00:00:00\",\"2021-12-29T00:00:00\",\"2021-12-30T00:00:00\",\"2021-12-31T00:00:00\",\"2022-01-03T00:00:00\",\"2022-01-04T00:00:00\",\"2022-01-05T00:00:00\",\"2022-01-06T00:00:00\",\"2022-01-07T00:00:00\",\"2022-01-10T00:00:00\",\"2022-01-11T00:00:00\",\"2022-01-12T00:00:00\",\"2022-01-13T00:00:00\",\"2022-01-14T00:00:00\",\"2022-01-17T00:00:00\",\"2022-01-18T00:00:00\",\"2022-01-19T00:00:00\",\"2022-01-20T00:00:00\",\"2022-01-21T00:00:00\",\"2022-01-24T00:00:00\",\"2022-01-25T00:00:00\",\"2022-01-27T00:00:00\",\"2022-01-28T00:00:00\",\"2022-01-31T00:00:00\",\"2022-02-01T00:00:00\",\"2022-02-02T00:00:00\",\"2022-02-03T00:00:00\",\"2022-02-04T00:00:00\",\"2022-02-05T00:00:00\"],\"y\":[2007.5959862042564,2015.1504771515015,2004.9332155083353,2008.9955476318755,2005.445762163528,2006.368515621216,1997.3746094744956,2003.052701192586,1999.5263730207598,1994.5076739899805,1990.7395241808774,1994.3213590682994,1991.0420366452336,1988.3169568686078,1988.6814761759458,1978.035212150194,1984.0575276986726,1978.1677335514523,1984.019897749052,1972.7961125203337,1969.7271118774568,1980.2577537790253,1966.94506372148,1965.166970021086,1965.6148470342273,1970.6189594303905,1959.551926759705,1962.1623157149102,1954.7315137360652,1957.2623891348462,1961.8536058792947,1960.8520873761436,1959.5601633152676,1954.13635916732,1950.6223375500272,1945.9009607553514,1949.2279109769559,1939.5928470229044,1947.0420923508768,1942.8846684612497,1947.4739137524825,1935.3137451008422,1928.7622234810406,1929.3572693814674,1928.1755288212014,1933.7529195162942,1923.3495291406869,1924.2652643751712,1926.9617269063858,1924.6817774803505,1918.3126894825161,1911.9868322369146,1912.7923487463063,1914.6470904782022,1909.753716338676,1904.6550602609266,1908.6176787929285,1903.3665867426344,1906.6937535593347,1900.551741765859,1903.6199091446856,1890.2261604420457,1896.3719911583028,1890.1400082959974,1893.1787797117297,1885.6508807156015,1888.1759434601427,1888.3333632697932,1875.2431909101192,1871.0997917994728,1874.3886815874087,1877.6679865018198,1868.5704991111083,1867.336894427279,1862.654338832786,1865.2201967667145,1864.1792705130647,1863.521172295534,1859.1776523349392,1851.5379696552773,1858.7834881523033,1855.7210795763704,1858.5042317980299,1857.9979629703505,1852.9209146309747,1861.7376508771365,1852.701477396153,1851.5418850486312,1845.130352385617,1857.929407739381,1845.303652860857,1850.1196945257734,1839.1169219698618,1839.6675060530365,1850.5882963107856,1849.3353543089029,1840.5102302800249,1835.6790961776464,1838.4261656209405,1844.5484510736173,1840.2594259103,1835.3211151136647,1836.1909647930202,1834.098059903961,1836.8788636619965,1833.0429635562011,1827.7590280063835,1827.715994854439,1826.5974423965947,1829.7386408900188,1830.1991989350427,1831.079129791825,1826.142156540906,1825.5548502043064,1827.3393218443089,1822.3558368706076,1825.223245758708,1816.8160363800034,1824.0904603027143,1827.7207991795674,1819.6240846260878,1821.0611929329746,1815.9800004671365,1812.8871600446669,1817.3266516426386,1810.851061569726,1816.3950085754695,1809.3832823034718,1818.894064276067,1811.8181039232882,1813.7090582866058,1805.7527292402965,1805.2342744180269,1803.320525959138,1815.5492821350274,1805.681412842559,1801.904671446708,1810.908783243913,1817.0174115667667,1804.8269048295142,1812.7014067372188,1804.4440796189365,1815.0999464805125,1813.064761051835,1819.9843330893993,1818.9083775336985,1814.9546083248374,1830.536515647269,1834.4188517989687,1831.165294372884,1835.7937414601852,1834.682399828714,1847.711239328857,1856.0803064341608,1857.5091850186975,1861.0470934357659,1876.6853407495016,1886.1031797472108,1881.9645481720192,1889.3198010504266,1889.2574242060587,1899.7031120056902,1912.4592679458094,1912.3295904213664,1917.040699621158,1921.9233634098764,1937.3227310355621,1947.207949419343,1935.6704256942223,1948.6538734315945,1963.7372191857683,1970.8591568539182,1971.9980583675688,1975.3394774162953,1980.879797520983,1999.8845530012993,1999.1332966360965,2010.036420323746,2008.7739479223028,2013.120950773512,2031.5227100121224,2033.1484272138705,2038.764267145189,2039.665405390538,2040.085691415085,2058.384621612295,2070.785510294168,2069.016462168953,2070.207460955713,2067.9690744256386,2086.555142538554,2091.8853692098437,2095.615283699886,2096.2609716658258,2114.9422200862705,2125.676243754362,2120.5998135256564,2124.1733359731347,2119.096601188059,2119.434886822931,2133.7209807231616,2117.856286852465,2120.459238010043,2121.2333485865074,2129.1982175829376,2123.111333515334,2119.9243336677814,2125.343799314818,2102.7778611374665,2111.7917807238096,2104.052007922212,2096.294813527394,2097.0342931569326,2086.0640395026135,2090.8764729910085,2078.5036442357227,2079.9954775881574,2072.860868373406,2069.978374862762,2069.219255243367,2062.9013118058624,2056.900616810479,2054.904445291638,2049.4456084446633,2050.7914575409604,2046.502183019082,2034.5712493883832,2040.1813898659573,2032.230266825498,2030.550084858151,2034.322611888233,2022.6604734761477,2018.3219187548095,2022.8789680134378,2015.2910105111794,2012.1337371187308,2004.5856249108338,2002.2670486547236,2005.4104468446412,1994.9341677123261,1995.1227554186155,1987.6876951741917,1984.1330643025601,1985.1658182713118,1976.9442337428113,1971.0840075840963,1970.2644246145685,1962.9018446679897,1969.8056699171584,1958.400811001178,1955.115642026447,1951.163887865781,1945.4581841475583,1944.4991043795483,1946.3325236030896,1939.9659862561346,1938.7222442669076,1928.6663942991204,1930.8303353004446,1925.7782902350116,1919.7136752431556,1907.4549364405227,1910.8859594865287,1912.6585035212224,1903.190702489512,1900.0054116098013,1893.9731612660075,1900.665658538865,1892.485716324758,1887.332607513215,1885.2968798577015,1891.401735544016],\"type\":\"scatter\"}],                        {\"height\":600,\"showlegend\":false,\"width\":900,\"xaxis\":{\"rangeselector\":{\"buttons\":[{\"count\":7,\"label\":\"1w\",\"step\":\"day\",\"stepmode\":\"backward\"},{\"count\":1,\"label\":\"1m\",\"step\":\"month\",\"stepmode\":\"backward\"},{\"count\":6,\"label\":\"6m\",\"step\":\"month\",\"stepmode\":\"backward\"},{\"count\":1,\"label\":\"1y\",\"step\":\"year\",\"stepmode\":\"backward\"},{\"step\":\"all\"}]},\"rangeslider\":{\"visible\":true},\"title\":{\"text\":\"ds\"},\"type\":\"date\"},\"yaxis\":{\"title\":{\"text\":\"y\"}},\"template\":{\"data\":{\"bar\":[{\"error_x\":{\"color\":\"#2a3f5f\"},\"error_y\":{\"color\":\"#2a3f5f\"},\"marker\":{\"line\":{\"color\":\"#E5ECF6\",\"width\":0.5},\"pattern\":{\"fillmode\":\"overlay\",\"size\":10,\"solidity\":0.2}},\"type\":\"bar\"}],\"barpolar\":[{\"marker\":{\"line\":{\"color\":\"#E5ECF6\",\"width\":0.5},\"pattern\":{\"fillmode\":\"overlay\",\"size\":10,\"solidity\":0.2}},\"type\":\"barpolar\"}],\"carpet\":[{\"aaxis\":{\"endlinecolor\":\"#2a3f5f\",\"gridcolor\":\"white\",\"linecolor\":\"white\",\"minorgridcolor\":\"white\",\"startlinecolor\":\"#2a3f5f\"},\"baxis\":{\"endlinecolor\":\"#2a3f5f\",\"gridcolor\":\"white\",\"linecolor\":\"white\",\"minorgridcolor\":\"white\",\"startlinecolor\":\"#2a3f5f\"},\"type\":\"carpet\"}],\"choropleth\":[{\"colorbar\":{\"outlinewidth\":0,\"ticks\":\"\"},\"type\":\"choropleth\"}],\"contour\":[{\"colorbar\":{\"outlinewidth\":0,\"ticks\":\"\"},\"colorscale\":[[0.0,\"#0d0887\"],[0.1111111111111111,\"#46039f\"],[0.2222222222222222,\"#7201a8\"],[0.3333333333333333,\"#9c179e\"],[0.4444444444444444,\"#bd3786\"],[0.5555555555555556,\"#d8576b\"],[0.6666666666666666,\"#ed7953\"],[0.7777777777777778,\"#fb9f3a\"],[0.8888888888888888,\"#fdca26\"],[1.0,\"#f0f921\"]],\"type\":\"contour\"}],\"contourcarpet\":[{\"colorbar\":{\"outlinewidth\":0,\"ticks\":\"\"},\"type\":\"contourcarpet\"}],\"heatmap\":[{\"colorbar\":{\"outlinewidth\":0,\"ticks\":\"\"},\"colorscale\":[[0.0,\"#0d0887\"],[0.1111111111111111,\"#46039f\"],[0.2222222222222222,\"#7201a8\"],[0.3333333333333333,\"#9c179e\"],[0.4444444444444444,\"#bd3786\"],[0.5555555555555556,\"#d8576b\"],[0.6666666666666666,\"#ed7953\"],[0.7777777777777778,\"#fb9f3a\"],[0.8888888888888888,\"#fdca26\"],[1.0,\"#f0f921\"]],\"type\":\"heatmap\"}],\"heatmapgl\":[{\"colorbar\":{\"outlinewidth\":0,\"ticks\":\"\"},\"colorscale\":[[0.0,\"#0d0887\"],[0.1111111111111111,\"#46039f\"],[0.2222222222222222,\"#7201a8\"],[0.3333333333333333,\"#9c179e\"],[0.4444444444444444,\"#bd3786\"],[0.5555555555555556,\"#d8576b\"],[0.6666666666666666,\"#ed7953\"],[0.7777777777777778,\"#fb9f3a\"],[0.8888888888888888,\"#fdca26\"],[1.0,\"#f0f921\"]],\"type\":\"heatmapgl\"}],\"histogram\":[{\"marker\":{\"pattern\":{\"fillmode\":\"overlay\",\"size\":10,\"solidity\":0.2}},\"type\":\"histogram\"}],\"histogram2d\":[{\"colorbar\":{\"outlinewidth\":0,\"ticks\":\"\"},\"colorscale\":[[0.0,\"#0d0887\"],[0.1111111111111111,\"#46039f\"],[0.2222222222222222,\"#7201a8\"],[0.3333333333333333,\"#9c179e\"],[0.4444444444444444,\"#bd3786\"],[0.5555555555555556,\"#d8576b\"],[0.6666666666666666,\"#ed7953\"],[0.7777777777777778,\"#fb9f3a\"],[0.8888888888888888,\"#fdca26\"],[1.0,\"#f0f921\"]],\"type\":\"histogram2d\"}],\"histogram2dcontour\":[{\"colorbar\":{\"outlinewidth\":0,\"ticks\":\"\"},\"colorscale\":[[0.0,\"#0d0887\"],[0.1111111111111111,\"#46039f\"],[0.2222222222222222,\"#7201a8\"],[0.3333333333333333,\"#9c179e\"],[0.4444444444444444,\"#bd3786\"],[0.5555555555555556,\"#d8576b\"],[0.6666666666666666,\"#ed7953\"],[0.7777777777777778,\"#fb9f3a\"],[0.8888888888888888,\"#fdca26\"],[1.0,\"#f0f921\"]],\"type\":\"histogram2dcontour\"}],\"mesh3d\":[{\"colorbar\":{\"outlinewidth\":0,\"ticks\":\"\"},\"type\":\"mesh3d\"}],\"parcoords\":[{\"line\":{\"colorbar\":{\"outlinewidth\":0,\"ticks\":\"\"}},\"type\":\"parcoords\"}],\"pie\":[{\"automargin\":true,\"type\":\"pie\"}],\"scatter\":[{\"marker\":{\"colorbar\":{\"outlinewidth\":0,\"ticks\":\"\"}},\"type\":\"scatter\"}],\"scatter3d\":[{\"line\":{\"colorbar\":{\"outlinewidth\":0,\"ticks\":\"\"}},\"marker\":{\"colorbar\":{\"outlinewidth\":0,\"ticks\":\"\"}},\"type\":\"scatter3d\"}],\"scattercarpet\":[{\"marker\":{\"colorbar\":{\"outlinewidth\":0,\"ticks\":\"\"}},\"type\":\"scattercarpet\"}],\"scattergeo\":[{\"marker\":{\"colorbar\":{\"outlinewidth\":0,\"ticks\":\"\"}},\"type\":\"scattergeo\"}],\"scattergl\":[{\"marker\":{\"colorbar\":{\"outlinewidth\":0,\"ticks\":\"\"}},\"type\":\"scattergl\"}],\"scattermapbox\":[{\"marker\":{\"colorbar\":{\"outlinewidth\":0,\"ticks\":\"\"}},\"type\":\"scattermapbox\"}],\"scatterpolar\":[{\"marker\":{\"colorbar\":{\"outlinewidth\":0,\"ticks\":\"\"}},\"type\":\"scatterpolar\"}],\"scatterpolargl\":[{\"marker\":{\"colorbar\":{\"outlinewidth\":0,\"ticks\":\"\"}},\"type\":\"scatterpolargl\"}],\"scatterternary\":[{\"marker\":{\"colorbar\":{\"outlinewidth\":0,\"ticks\":\"\"}},\"type\":\"scatterternary\"}],\"surface\":[{\"colorbar\":{\"outlinewidth\":0,\"ticks\":\"\"},\"colorscale\":[[0.0,\"#0d0887\"],[0.1111111111111111,\"#46039f\"],[0.2222222222222222,\"#7201a8\"],[0.3333333333333333,\"#9c179e\"],[0.4444444444444444,\"#bd3786\"],[0.5555555555555556,\"#d8576b\"],[0.6666666666666666,\"#ed7953\"],[0.7777777777777778,\"#fb9f3a\"],[0.8888888888888888,\"#fdca26\"],[1.0,\"#f0f921\"]],\"type\":\"surface\"}],\"table\":[{\"cells\":{\"fill\":{\"color\":\"#EBF0F8\"},\"line\":{\"color\":\"white\"}},\"header\":{\"fill\":{\"color\":\"#C8D4E3\"},\"line\":{\"color\":\"white\"}},\"type\":\"table\"}]},\"layout\":{\"annotationdefaults\":{\"arrowcolor\":\"#2a3f5f\",\"arrowhead\":0,\"arrowwidth\":1},\"autotypenumbers\":\"strict\",\"coloraxis\":{\"colorbar\":{\"outlinewidth\":0,\"ticks\":\"\"}},\"colorscale\":{\"diverging\":[[0,\"#8e0152\"],[0.1,\"#c51b7d\"],[0.2,\"#de77ae\"],[0.3,\"#f1b6da\"],[0.4,\"#fde0ef\"],[0.5,\"#f7f7f7\"],[0.6,\"#e6f5d0\"],[0.7,\"#b8e186\"],[0.8,\"#7fbc41\"],[0.9,\"#4d9221\"],[1,\"#276419\"]],\"sequential\":[[0.0,\"#0d0887\"],[0.1111111111111111,\"#46039f\"],[0.2222222222222222,\"#7201a8\"],[0.3333333333333333,\"#9c179e\"],[0.4444444444444444,\"#bd3786\"],[0.5555555555555556,\"#d8576b\"],[0.6666666666666666,\"#ed7953\"],[0.7777777777777778,\"#fb9f3a\"],[0.8888888888888888,\"#fdca26\"],[1.0,\"#f0f921\"]],\"sequentialminus\":[[0.0,\"#0d0887\"],[0.1111111111111111,\"#46039f\"],[0.2222222222222222,\"#7201a8\"],[0.3333333333333333,\"#9c179e\"],[0.4444444444444444,\"#bd3786\"],[0.5555555555555556,\"#d8576b\"],[0.6666666666666666,\"#ed7953\"],[0.7777777777777778,\"#fb9f3a\"],[0.8888888888888888,\"#fdca26\"],[1.0,\"#f0f921\"]]},\"colorway\":[\"#636efa\",\"#EF553B\",\"#00cc96\",\"#ab63fa\",\"#FFA15A\",\"#19d3f3\",\"#FF6692\",\"#B6E880\",\"#FF97FF\",\"#FECB52\"],\"font\":{\"color\":\"#2a3f5f\"},\"geo\":{\"bgcolor\":\"white\",\"lakecolor\":\"white\",\"landcolor\":\"#E5ECF6\",\"showlakes\":true,\"showland\":true,\"subunitcolor\":\"white\"},\"hoverlabel\":{\"align\":\"left\"},\"hovermode\":\"closest\",\"mapbox\":{\"style\":\"light\"},\"paper_bgcolor\":\"white\",\"plot_bgcolor\":\"#E5ECF6\",\"polar\":{\"angularaxis\":{\"gridcolor\":\"white\",\"linecolor\":\"white\",\"ticks\":\"\"},\"bgcolor\":\"#E5ECF6\",\"radialaxis\":{\"gridcolor\":\"white\",\"linecolor\":\"white\",\"ticks\":\"\"}},\"scene\":{\"xaxis\":{\"backgroundcolor\":\"#E5ECF6\",\"gridcolor\":\"white\",\"gridwidth\":2,\"linecolor\":\"white\",\"showbackground\":true,\"ticks\":\"\",\"zerolinecolor\":\"white\"},\"yaxis\":{\"backgroundcolor\":\"#E5ECF6\",\"gridcolor\":\"white\",\"gridwidth\":2,\"linecolor\":\"white\",\"showbackground\":true,\"ticks\":\"\",\"zerolinecolor\":\"white\"},\"zaxis\":{\"backgroundcolor\":\"#E5ECF6\",\"gridcolor\":\"white\",\"gridwidth\":2,\"linecolor\":\"white\",\"showbackground\":true,\"ticks\":\"\",\"zerolinecolor\":\"white\"}},\"shapedefaults\":{\"line\":{\"color\":\"#2a3f5f\"}},\"ternary\":{\"aaxis\":{\"gridcolor\":\"white\",\"linecolor\":\"white\",\"ticks\":\"\"},\"baxis\":{\"gridcolor\":\"white\",\"linecolor\":\"white\",\"ticks\":\"\"},\"bgcolor\":\"#E5ECF6\",\"caxis\":{\"gridcolor\":\"white\",\"linecolor\":\"white\",\"ticks\":\"\"}},\"title\":{\"x\":0.05},\"xaxis\":{\"automargin\":true,\"gridcolor\":\"white\",\"linecolor\":\"white\",\"ticks\":\"\",\"title\":{\"standoff\":15},\"zerolinecolor\":\"white\",\"zerolinewidth\":2},\"yaxis\":{\"automargin\":true,\"gridcolor\":\"white\",\"linecolor\":\"white\",\"ticks\":\"\",\"title\":{\"standoff\":15},\"zerolinecolor\":\"white\",\"zerolinewidth\":2}}}},                        {\"responsive\": true}                    ).then(function(){\n",
              "                            \n",
              "var gd = document.getElementById('689a86fd-94f5-4701-b78f-c2578f895f40');\n",
              "var x = new MutationObserver(function (mutations, observer) {{\n",
              "        var display = window.getComputedStyle(gd).display;\n",
              "        if (!display || display === 'none') {{\n",
              "            console.log([gd, 'removed!']);\n",
              "            Plotly.purge(gd);\n",
              "            observer.disconnect();\n",
              "        }}\n",
              "}});\n",
              "\n",
              "// Listen for the removal of the full notebook cells\n",
              "var notebookContainer = gd.closest('#notebook-container');\n",
              "if (notebookContainer) {{\n",
              "    x.observe(notebookContainer, {childList: true});\n",
              "}}\n",
              "\n",
              "// Listen for the clearing of the current output cell\n",
              "var outputEl = gd.closest('.output');\n",
              "if (outputEl) {{\n",
              "    x.observe(outputEl, {childList: true});\n",
              "}}\n",
              "\n",
              "                        })                };                            </script>        </div>\n",
              "</body>\n",
              "</html>"
            ]
          },
          "metadata": {}
        }
      ]
    },
    {
      "cell_type": "code",
      "source": [
        ""
      ],
      "metadata": {
        "id": "wmRKKsfJSlCR"
      },
      "execution_count": 77,
      "outputs": []
    }
  ],
  "metadata": {
    "colab": {
      "collapsed_sections": [],
      "name": "Stock_Price_Forecasting.ipynb",
      "provenance": [],
      "authorship_tag": "ABX9TyOYMRgrzqQbWH7mRDAtZbYL",
      "include_colab_link": true
    },
    "kernelspec": {
      "display_name": "Python 3",
      "name": "python3"
    },
    "language_info": {
      "name": "python"
    },
    "accelerator": "TPU"
  },
  "nbformat": 4,
  "nbformat_minor": 0
}